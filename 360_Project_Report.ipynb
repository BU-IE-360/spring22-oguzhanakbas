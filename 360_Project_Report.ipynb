{
 "cells": [
  {
   "cell_type": "markdown",
   "id": "1cd80da6",
   "metadata": {},
   "source": [
    "# Spring'22 - IE 360 Term Project Report\n",
    "## Group 18\n",
    "### Oğuzhan Akbaş & M. Fatih Şahin\n",
    "### ~06.06.2022"
   ]
  },
  {
   "cell_type": "markdown",
   "id": "035de10b",
   "metadata": {},
   "source": [
    "## 1. Introduction\n",
    "### 1.1 1.\tProblem description\n",
    "\n",
    " The purpose of the project is to make forecasts for the hourly production rate of a solar energy central in Mersin, Turkey for the following day. This power plant, KIVANC 2 GES, is located between 36-37° north latitude and 33-35° east longitude. Given data in the project also provides the weather conditions in terms of 4 different measurement types for 9 grid coordinates nearby the power plant. These four different measurements are temperature, relative humidity, downward shortwave radiation flux and low-level cloud percentage which are all somehow related with the production efficiency of the plant.\n",
    " \n",
    "  Temperature, seen as TEMP in the weather data provided, can represent the seasonality. Moreover, it is known that high temperatures affect the solar panels and decrease their efficiency.\n",
    "\n",
    " Humidity is the concentration of water vapour present in the air. Relative humidity, seen as REL_HUMIDITY in the weather data provided, seen as a percentage, indicates the current state of (absolute humidity / maximum humidity) given the same temperature. It can provide information about the rainy or cloudy times which potentially decreases the production. \n",
    "\n",
    " Downward shortwave radiation flux, seen as DSWRF in the weather data provided, which is known to be highly related to the production level. \n",
    "\n",
    " Cloud coverage, seen as CLOUD_LOW_LAYER in the data, is the low-level type clouds percentage in the related region at that certain time period. \n",
    "\n",
    " As mentioned, these four indicators are measured and provided for 9 grid points nearby the power plant. The aim of the project is to make production projections onto the next day using all the available and most actual daily data given. \n",
    "\n",
    "###### The aim is to build a reliable model, after trying a selection of models ranging from linear regression models to auto-regressive or moving average models, to make predictions. Additionally, at the end, the models are expected to be evaluated within a pre-determined time interval which is from March 1st to May 24th of 2022.\n"
   ]
  },
  {
   "cell_type": "markdown",
   "id": "e91a5ffc",
   "metadata": {},
   "source": [
    "### 1.2\tSummary of the Proposed Approach\n",
    "\n",
    "Our approach, the final model is a seasonal ARIMA model with parameters : ???? \n",
    "---------parametrelerin yorumları/anlamları--------------"
   ]
  },
  {
   "cell_type": "markdown",
   "id": "8b63df76",
   "metadata": {},
   "source": [
    "### 1.3 Descriptive Analysis of the Data\n",
    "\n",
    " The data provided starts on the February 1, 2021 and contains hourly information about the plant as mentioned before.\n",
    "In this section, we are going to examine several features of our dataset."
   ]
  },
  {
   "cell_type": "code",
   "execution_count": 435,
   "id": "e82259d5",
   "metadata": {},
   "outputs": [],
   "source": [
    "library(data.table)\n",
    "require(forecast)\n",
    "require(ggcorrplot)\n",
    "require(ggplot2)\n",
    "require(GGally)"
   ]
  },
  {
   "cell_type": "code",
   "execution_count": 436,
   "id": "5a363895",
   "metadata": {},
   "outputs": [
    {
     "data": {
      "text/html": [
       "<table>\n",
       "<thead><tr><th scope=col>date</th><th scope=col>hour</th><th scope=col>production</th><th scope=col>month</th><th scope=col>quart</th></tr></thead>\n",
       "<tbody>\n",
       "\t<tr><td>2021-02-01</td><td>0         </td><td>0         </td><td>2         </td><td>1         </td></tr>\n",
       "\t<tr><td>2021-02-01</td><td>1         </td><td>0         </td><td>2         </td><td>1         </td></tr>\n",
       "\t<tr><td>2021-02-01</td><td>2         </td><td>0         </td><td>2         </td><td>1         </td></tr>\n",
       "</tbody>\n",
       "</table>\n"
      ],
      "text/latex": [
       "\\begin{tabular}{r|lllll}\n",
       " date & hour & production & month & quart\\\\\n",
       "\\hline\n",
       "\t 2021-02-01 & 0          & 0          & 2          & 1         \\\\\n",
       "\t 2021-02-01 & 1          & 0          & 2          & 1         \\\\\n",
       "\t 2021-02-01 & 2          & 0          & 2          & 1         \\\\\n",
       "\\end{tabular}\n"
      ],
      "text/markdown": [
       "\n",
       "| date | hour | production | month | quart |\n",
       "|---|---|---|---|---|\n",
       "| 2021-02-01 | 0          | 0          | 2          | 1          |\n",
       "| 2021-02-01 | 1          | 0          | 2          | 1          |\n",
       "| 2021-02-01 | 2          | 0          | 2          | 1          |\n",
       "\n"
      ],
      "text/plain": [
       "  date       hour production month quart\n",
       "1 2021-02-01 0    0          2     1    \n",
       "2 2021-02-01 1    0          2     1    \n",
       "3 2021-02-01 2    0          2     1    "
      ]
     },
     "metadata": {},
     "output_type": "display_data"
    }
   ],
   "source": [
    "weather = fread(\"2022-05-30_weather.csv\")\n",
    "production = fread(\"2022-05-30_production.csv\")\n",
    "\n",
    "production=production[order(date,hour)]\n",
    "production = production[,month:= as.factor(month(date))]\n",
    "production = production[,quart:= as.factor(quarter(date))]\n",
    "head(production,3)"
   ]
  },
  {
   "cell_type": "code",
   "execution_count": 437,
   "id": "f43d2ddd",
   "metadata": {},
   "outputs": [
    {
     "data": {
      "image/png": "[encoded data removed]",
      "text/plain": [
       "plot without title"
      ]
     },
     "metadata": {},
     "output_type": "display_data"
    }
   ],
   "source": [
    "plot(x=production$month,y=production$production)"
   ]
  },
  {
   "cell_type": "markdown",
   "id": "631fdbb6",
   "metadata": {},
   "source": [
    "It can be seen that there is a monthly pattern in the production rate. The mean production rate and also the standard deviation from the mean seem to be increasing in the summer season. When we consider that at nights and in the early mornings the production remains \"0\" at all seasons, the increasing deviation makes sense as the sun exposure duration increases."
   ]
  },
  {
   "cell_type": "code",
   "execution_count": 438,
   "id": "d7b9d4f9",
   "metadata": {},
   "outputs": [
    {
     "data": {
      "image/png": "[encoded data removed]",
      "text/plain": [
       "plot without title"
      ]
     },
     "metadata": {},
     "output_type": "display_data"
    }
   ],
   "source": [
    "ggplot(production[1:720], aes(x= date, y= production)) +geom_line(color='blue')+ \n",
    "labs(x=\"Date\",y=\"Solar Energy Production Rate\", title=\"Daily Solar Energy Production Rate between February and March 2021\")"
   ]
  },
  {
   "cell_type": "markdown",
   "id": "19b4d2ce",
   "metadata": {},
   "source": [
    " As can be seen here, there is an increasing trend in the first months fo the data due to capacity adjustments of the newly constructed plant."
   ]
  },
  {
   "cell_type": "code",
   "execution_count": 439,
   "id": "c5bfeb28",
   "metadata": {},
   "outputs": [
    {
     "data": {
      "image/png": "[encoded data removed]",
      "text/plain": [
       "plot without title"
      ]
     },
     "metadata": {},
     "output_type": "display_data"
    }
   ],
   "source": [
    "ggplot(production[10000:10720], aes(x= date, y= production)) +geom_line(color='blue')+ \n",
    "labs(x=\"Date\",y=\"Solar Energy Production Rate\", title=\"Daily Solar Energy Production Rate between February and March 2021\")"
   ]
  },
  {
   "cell_type": "markdown",
   "id": "547f5493",
   "metadata": {},
   "source": [
    "Here we see that as we complete the warm up period so to speak, the production data does not follow the same increasing trend after the first couple months."
   ]
  },
  {
   "cell_type": "code",
   "execution_count": 440,
   "id": "497468eb",
   "metadata": {
    "scrolled": false
   },
   "outputs": [
    {
     "data": {
      "image/png": "[encoded data removed]",
      "text/plain": [
       "Plot with title \"Zoomed Hourly Data\""
      ]
     },
     "metadata": {},
     "output_type": "display_data"
    },
    {
     "data": {
      "image/png": "[encoded data removed]",
      "text/plain": [
       "plot without title"
      ]
     },
     "metadata": {},
     "output_type": "display_data"
    },
    {
     "data": {
      "image/png": "[encoded data removed]",
      "text/plain": [
       "plot without title"
      ]
     },
     "metadata": {},
     "output_type": "display_data"
    }
   ],
   "source": [
    "production=production[order(date,hour)]\n",
    "production$production=ts(production$production,frequency=24)\n",
    "plot(production$production[4000:10000],main=\"Zoomed Hourly Data\", sub= \"production in 250 random days\", xlab=\"hours\",ylab=\"production\",type=\"o\", col=\"blue\")\n",
    "plot(production$production[9000:10200],sub=\"production of random 50 days\", xlab=\"hours\",ylab=\"production\",type=\"o\", col=\"red\")\n",
    "plot(production$production[10008:10080],sub=\"production of random three days\", xlab=\"hours\",ylab=\"production\",type=\"o\", col=\"magenta\")"
   ]
  },
  {
   "cell_type": "markdown",
   "id": "86a9c341",
   "metadata": {},
   "source": [
    "#### As we zoom in, the daily patterns are more visible."
   ]
  },
  {
   "cell_type": "code",
   "execution_count": 441,
   "id": "a224c5a5",
   "metadata": {},
   "outputs": [
    {
     "data": {
      "image/png": "[encoded data removed]",
      "text/plain": [
       "Plot with title \"Histogram of production$production\""
      ]
     },
     "metadata": {},
     "output_type": "display_data"
    }
   ],
   "source": [
    "hist(production$production)"
   ]
  },
  {
   "cell_type": "markdown",
   "id": "6184de32",
   "metadata": {},
   "source": [
    "### 0 value is the most common production rate in terms of hourly production."
   ]
  },
  {
   "cell_type": "code",
   "execution_count": 442,
   "id": "77ab2481",
   "metadata": {},
   "outputs": [
    {
     "data": {
      "image/png": "[encoded data removed]",
      "text/plain": [
       "Plot with title \"Histogram of daily_production$mean_production\""
      ]
     },
     "metadata": {},
     "output_type": "display_data"
    }
   ],
   "source": [
    "hist(daily_production$mean_production)"
   ]
  },
  {
   "cell_type": "markdown",
   "id": "d5e3cf08",
   "metadata": {},
   "source": [
    "### When we look at the daily mean production rates, it can be seen that 15 is the most common daily average."
   ]
  },
  {
   "cell_type": "code",
   "execution_count": 443,
   "id": "0f03896a",
   "metadata": {},
   "outputs": [
    {
     "data": {
      "text/html": [
       "<table>\n",
       "<thead><tr><th scope=col>date</th><th scope=col>mean_production</th></tr></thead>\n",
       "<tbody>\n",
       "\t<tr><td>2021-02-01</td><td>0.902875  </td></tr>\n",
       "\t<tr><td>2021-02-02</td><td>1.990417  </td></tr>\n",
       "\t<tr><td>2021-02-03</td><td>1.137083  </td></tr>\n",
       "\t<tr><td>2021-02-04</td><td>2.308333  </td></tr>\n",
       "\t<tr><td>2021-02-05</td><td>2.555667  </td></tr>\n",
       "\t<tr><td>2021-02-06</td><td>2.638750  </td></tr>\n",
       "</tbody>\n",
       "</table>\n"
      ],
      "text/latex": [
       "\\begin{tabular}{r|ll}\n",
       " date & mean\\_production\\\\\n",
       "\\hline\n",
       "\t 2021-02-01 & 0.902875  \\\\\n",
       "\t 2021-02-02 & 1.990417  \\\\\n",
       "\t 2021-02-03 & 1.137083  \\\\\n",
       "\t 2021-02-04 & 2.308333  \\\\\n",
       "\t 2021-02-05 & 2.555667  \\\\\n",
       "\t 2021-02-06 & 2.638750  \\\\\n",
       "\\end{tabular}\n"
      ],
      "text/markdown": [
       "\n",
       "| date | mean_production |\n",
       "|---|---|\n",
       "| 2021-02-01 | 0.902875   |\n",
       "| 2021-02-02 | 1.990417   |\n",
       "| 2021-02-03 | 1.137083   |\n",
       "| 2021-02-04 | 2.308333   |\n",
       "| 2021-02-05 | 2.555667   |\n",
       "| 2021-02-06 | 2.638750   |\n",
       "\n"
      ],
      "text/plain": [
       "  date       mean_production\n",
       "1 2021-02-01 0.902875       \n",
       "2 2021-02-02 1.990417       \n",
       "3 2021-02-03 1.137083       \n",
       "4 2021-02-04 2.308333       \n",
       "5 2021-02-05 2.555667       \n",
       "6 2021-02-06 2.638750       "
      ]
     },
     "metadata": {},
     "output_type": "display_data"
    }
   ],
   "source": [
    "daily_production = production[,list(mean_production=mean(production,na.rm=T)),by=list(date)]\n",
    "head(daily_production)"
   ]
  },
  {
   "cell_type": "code",
   "execution_count": 444,
   "id": "9b34b620",
   "metadata": {},
   "outputs": [
    {
     "data": {
      "text/html": [
       "TRUE"
      ],
      "text/latex": [
       "TRUE"
      ],
      "text/markdown": [
       "TRUE"
      ],
      "text/plain": [
       "[1] TRUE"
      ]
     },
     "metadata": {},
     "output_type": "display_data"
    }
   ],
   "source": [
    "mean_production = ts(daily_production$mean_production, frequency = 7)\n",
    "is.ts(mean_production)\n"
   ]
  },
  {
   "cell_type": "code",
   "execution_count": 445,
   "id": "7bc061a5",
   "metadata": {},
   "outputs": [
    {
     "data": {
      "text/html": [
       "<table>\n",
       "<thead><tr><th scope=col>date</th><th scope=col>mean_production</th><th scope=col>diff_1</th></tr></thead>\n",
       "<tbody>\n",
       "\t<tr><td>2021-02-01 </td><td>0.902875   </td><td>         NA</td></tr>\n",
       "\t<tr><td>2021-02-02 </td><td>1.990417   </td><td> 1.08754167</td></tr>\n",
       "\t<tr><td>2021-02-03 </td><td>1.137083   </td><td>-0.85333333</td></tr>\n",
       "\t<tr><td>2021-02-04 </td><td>2.308333   </td><td> 1.17125000</td></tr>\n",
       "\t<tr><td>2021-02-05 </td><td>2.555667   </td><td> 0.24733333</td></tr>\n",
       "\t<tr><td>2021-02-06 </td><td>2.638750   </td><td> 0.08308333</td></tr>\n",
       "</tbody>\n",
       "</table>\n"
      ],
      "text/latex": [
       "\\begin{tabular}{r|lll}\n",
       " date & mean\\_production & diff\\_1\\\\\n",
       "\\hline\n",
       "\t 2021-02-01  & 0.902875    &          NA\\\\\n",
       "\t 2021-02-02  & 1.990417    &  1.08754167\\\\\n",
       "\t 2021-02-03  & 1.137083    & -0.85333333\\\\\n",
       "\t 2021-02-04  & 2.308333    &  1.17125000\\\\\n",
       "\t 2021-02-05  & 2.555667    &  0.24733333\\\\\n",
       "\t 2021-02-06  & 2.638750    &  0.08308333\\\\\n",
       "\\end{tabular}\n"
      ],
      "text/markdown": [
       "\n",
       "| date | mean_production | diff_1 |\n",
       "|---|---|---|\n",
       "| 2021-02-01  | 0.902875    |          NA |\n",
       "| 2021-02-02  | 1.990417    |  1.08754167 |\n",
       "| 2021-02-03  | 1.137083    | -0.85333333 |\n",
       "| 2021-02-04  | 2.308333    |  1.17125000 |\n",
       "| 2021-02-05  | 2.555667    |  0.24733333 |\n",
       "| 2021-02-06  | 2.638750    |  0.08308333 |\n",
       "\n"
      ],
      "text/plain": [
       "  date       mean_production diff_1     \n",
       "1 2021-02-01 0.902875                 NA\n",
       "2 2021-02-02 1.990417         1.08754167\n",
       "3 2021-02-03 1.137083        -0.85333333\n",
       "4 2021-02-04 2.308333         1.17125000\n",
       "5 2021-02-05 2.555667         0.24733333\n",
       "6 2021-02-06 2.638750         0.08308333"
      ]
     },
     "metadata": {},
     "output_type": "display_data"
    }
   ],
   "source": [
    "daily_production = daily_production[,diff_1:=as.numeric(mean_production)-as.numeric(shift(mean_production,1))]\n",
    "head(daily_production)"
   ]
  },
  {
   "cell_type": "code",
   "execution_count": null,
   "id": "92a592a8",
   "metadata": {},
   "outputs": [],
   "source": []
  },
  {
   "cell_type": "code",
   "execution_count": 446,
   "id": "3d9d4c99",
   "metadata": {},
   "outputs": [
    {
     "data": {
      "image/png": "[encoded data removed]",
      "text/plain": [
       "plot without title"
      ]
     },
     "metadata": {},
     "output_type": "display_data"
    }
   ],
   "source": [
    "decomp = decompose(mean_production)\n",
    "plot(decomp, xlab = \"Time(Days)\", col = \"purple\")"
   ]
  },
  {
   "cell_type": "code",
   "execution_count": null,
   "id": "beac9400",
   "metadata": {
    "scrolled": false
   },
   "outputs": [],
   "source": []
  },
  {
   "cell_type": "markdown",
   "id": "73a98a16",
   "metadata": {},
   "source": [
    "In the decomposition plot of the daily mean production above, it is seen that there is a trend cycle and seasonality in the data. "
   ]
  },
  {
   "cell_type": "markdown",
   "id": "499f4cfa",
   "metadata": {},
   "source": [
    "### 3. Approach"
   ]
  },
  {
   "cell_type": "markdown",
   "id": "1bc11fd7",
   "metadata": {},
   "source": [
    "During the competition phase, Linear Regression models,  Seasonal Auto Regressive Integrated Moving Average(ARIMA), Seasonal Auto Regressive Integrated Moving Average with Exogeneous Input (SARIMAX) are tried. Then, the one which gives the best result - Seasonal ARIMA Model- is selected. \n",
    "For evaluation, mean absolute percentage error(MAPE) and weighted mean absolute percentage error(WMAPE) metrics are considered as can be seen at the comparison part of the report."
   ]
  },
  {
   "cell_type": "code",
   "execution_count": 447,
   "id": "8e6aafea",
   "metadata": {},
   "outputs": [
    {
     "data": {
      "text/html": [
       "<table>\n",
       "<thead><tr><th scope=col>date</th><th scope=col>hour</th><th scope=col>production</th><th scope=col>month</th><th scope=col>quart</th></tr></thead>\n",
       "<tbody>\n",
       "\t<tr><td>2021-02-01</td><td>0         </td><td>0         </td><td>2         </td><td>1         </td></tr>\n",
       "\t<tr><td>2021-02-01</td><td>1         </td><td>0         </td><td>2         </td><td>1         </td></tr>\n",
       "\t<tr><td>2021-02-01</td><td>2         </td><td>0         </td><td>2         </td><td>1         </td></tr>\n",
       "</tbody>\n",
       "</table>\n"
      ],
      "text/latex": [
       "\\begin{tabular}{r|lllll}\n",
       " date & hour & production & month & quart\\\\\n",
       "\\hline\n",
       "\t 2021-02-01 & 0          & 0          & 2          & 1         \\\\\n",
       "\t 2021-02-01 & 1          & 0          & 2          & 1         \\\\\n",
       "\t 2021-02-01 & 2          & 0          & 2          & 1         \\\\\n",
       "\\end{tabular}\n"
      ],
      "text/markdown": [
       "\n",
       "| date | hour | production | month | quart |\n",
       "|---|---|---|---|---|\n",
       "| 2021-02-01 | 0          | 0          | 2          | 1          |\n",
       "| 2021-02-01 | 1          | 0          | 2          | 1          |\n",
       "| 2021-02-01 | 2          | 0          | 2          | 1          |\n",
       "\n"
      ],
      "text/plain": [
       "  date       hour production month quart\n",
       "1 2021-02-01 0    0          2     1    \n",
       "2 2021-02-01 1    0          2     1    \n",
       "3 2021-02-01 2    0          2     1    "
      ]
     },
     "metadata": {},
     "output_type": "display_data"
    }
   ],
   "source": [
    "weather = fread(\"2022-05-26_weather.csv\")\n",
    "production = fread(\"2022-05-26_production.csv\")\n",
    "\n",
    "production = production[order(date,hour)]\n",
    "production = production[,month:= as.factor(month(date))]\n",
    "production = production[,quart:= as.factor(quarter(date))]\n",
    "head(production,3)"
   ]
  },
  {
   "cell_type": "code",
   "execution_count": 448,
   "id": "48008541",
   "metadata": {},
   "outputs": [],
   "source": [
    "# transform long weather to wide\n",
    "wide_weather=dcast(weather,date+hour~variable+lat+lon,value.var='value')"
   ]
  },
  {
   "cell_type": "code",
   "execution_count": 449,
   "id": "aa2f35f3",
   "metadata": {
    "scrolled": true
   },
   "outputs": [
    {
     "data": {
      "text/html": [
       "<table>\n",
       "<thead><tr><th scope=col>date</th><th scope=col>hour</th><th scope=col>production</th><th scope=col>month</th><th scope=col>quart</th><th scope=col>CLOUD_LOW_LAYER_36.25_33</th></tr></thead>\n",
       "<tbody>\n",
       "\t<tr><td>2022-02-28</td><td>21        </td><td>0         </td><td>2         </td><td>1         </td><td> 99.2     </td></tr>\n",
       "\t<tr><td>2022-02-28</td><td>22        </td><td>0         </td><td>2         </td><td>1         </td><td>100.0     </td></tr>\n",
       "\t<tr><td>2022-02-28</td><td>23        </td><td>0         </td><td>2         </td><td>1         </td><td> 98.8     </td></tr>\n",
       "</tbody>\n",
       "</table>\n"
      ],
      "text/latex": [
       "\\begin{tabular}{r|llllll}\n",
       " date & hour & production & month & quart & CLOUD\\_LOW\\_LAYER\\_36.25\\_33\\\\\n",
       "\\hline\n",
       "\t 2022-02-28 & 21         & 0          & 2          & 1          &  99.2     \\\\\n",
       "\t 2022-02-28 & 22         & 0          & 2          & 1          & 100.0     \\\\\n",
       "\t 2022-02-28 & 23         & 0          & 2          & 1          &  98.8     \\\\\n",
       "\\end{tabular}\n"
      ],
      "text/markdown": [
       "\n",
       "| date | hour | production | month | quart | CLOUD_LOW_LAYER_36.25_33 |\n",
       "|---|---|---|---|---|---|\n",
       "| 2022-02-28 | 21         | 0          | 2          | 1          |  99.2      |\n",
       "| 2022-02-28 | 22         | 0          | 2          | 1          | 100.0      |\n",
       "| 2022-02-28 | 23         | 0          | 2          | 1          |  98.8      |\n",
       "\n"
      ],
      "text/plain": [
       "  date       hour production month quart CLOUD_LOW_LAYER_36.25_33\n",
       "1 2022-02-28 21   0          2     1      99.2                   \n",
       "2 2022-02-28 22   0          2     1     100.0                   \n",
       "3 2022-02-28 23   0          2     1      98.8                   "
      ]
     },
     "metadata": {},
     "output_type": "display_data"
    },
    {
     "data": {
      "text/html": [
       "<table>\n",
       "<thead><tr><th scope=col>date</th><th scope=col>hour</th><th scope=col>production</th><th scope=col>month</th><th scope=col>quart</th><th scope=col>CLOUD_LOW_LAYER_36.25_33</th></tr></thead>\n",
       "<tbody>\n",
       "\t<tr><td>2022-03-01</td><td>0         </td><td>0         </td><td>3         </td><td>1         </td><td>98.6      </td></tr>\n",
       "\t<tr><td>2022-03-01</td><td>1         </td><td>0         </td><td>3         </td><td>1         </td><td>98.9      </td></tr>\n",
       "\t<tr><td>2022-03-01</td><td>2         </td><td>0         </td><td>3         </td><td>1         </td><td>98.6      </td></tr>\n",
       "</tbody>\n",
       "</table>\n"
      ],
      "text/latex": [
       "\\begin{tabular}{r|llllll}\n",
       " date & hour & production & month & quart & CLOUD\\_LOW\\_LAYER\\_36.25\\_33\\\\\n",
       "\\hline\n",
       "\t 2022-03-01 & 0          & 0          & 3          & 1          & 98.6      \\\\\n",
       "\t 2022-03-01 & 1          & 0          & 3          & 1          & 98.9      \\\\\n",
       "\t 2022-03-01 & 2          & 0          & 3          & 1          & 98.6      \\\\\n",
       "\\end{tabular}\n"
      ],
      "text/markdown": [
       "\n",
       "| date | hour | production | month | quart | CLOUD_LOW_LAYER_36.25_33 |\n",
       "|---|---|---|---|---|---|\n",
       "| 2022-03-01 | 0          | 0          | 3          | 1          | 98.6       |\n",
       "| 2022-03-01 | 1          | 0          | 3          | 1          | 98.9       |\n",
       "| 2022-03-01 | 2          | 0          | 3          | 1          | 98.6       |\n",
       "\n"
      ],
      "text/plain": [
       "  date       hour production month quart CLOUD_LOW_LAYER_36.25_33\n",
       "1 2022-03-01 0    0          3     1     98.6                    \n",
       "2 2022-03-01 1    0          3     1     98.9                    \n",
       "3 2022-03-01 2    0          3     1     98.6                    "
      ]
     },
     "metadata": {},
     "output_type": "display_data"
    },
    {
     "data": {
      "text/html": [
       "<table>\n",
       "<thead><tr><th scope=col>date</th><th scope=col>hour</th><th scope=col>production</th><th scope=col>month</th><th scope=col>quart</th><th scope=col>CLOUD_LOW_LAYER_36.25_33</th></tr></thead>\n",
       "<tbody>\n",
       "\t<tr><td>2022-05-24</td><td>22        </td><td>0         </td><td>5         </td><td>2         </td><td>0         </td></tr>\n",
       "\t<tr><td>2022-05-24</td><td>23        </td><td>0         </td><td>5         </td><td>2         </td><td>0         </td></tr>\n",
       "</tbody>\n",
       "</table>\n"
      ],
      "text/latex": [
       "\\begin{tabular}{r|llllll}\n",
       " date & hour & production & month & quart & CLOUD\\_LOW\\_LAYER\\_36.25\\_33\\\\\n",
       "\\hline\n",
       "\t 2022-05-24 & 22         & 0          & 5          & 2          & 0         \\\\\n",
       "\t 2022-05-24 & 23         & 0          & 5          & 2          & 0         \\\\\n",
       "\\end{tabular}\n"
      ],
      "text/markdown": [
       "\n",
       "| date | hour | production | month | quart | CLOUD_LOW_LAYER_36.25_33 |\n",
       "|---|---|---|---|---|---|\n",
       "| 2022-05-24 | 22         | 0          | 5          | 2          | 0          |\n",
       "| 2022-05-24 | 23         | 0          | 5          | 2          | 0          |\n",
       "\n"
      ],
      "text/plain": [
       "  date       hour production month quart CLOUD_LOW_LAYER_36.25_33\n",
       "1 2022-05-24 22   0          5     2     0                       \n",
       "2 2022-05-24 23   0          5     2     0                       "
      ]
     },
     "metadata": {},
     "output_type": "display_data"
    },
    {
     "data": {
      "text/html": [
       "9288"
      ],
      "text/latex": [
       "9288"
      ],
      "text/markdown": [
       "9288"
      ],
      "text/plain": [
       "[1] 9288"
      ]
     },
     "metadata": {},
     "output_type": "display_data"
    },
    {
     "data": {
      "text/html": [
       "2040"
      ],
      "text/latex": [
       "2040"
      ],
      "text/markdown": [
       "2040"
      ],
      "text/plain": [
       "[1] 2040"
      ]
     },
     "metadata": {},
     "output_type": "display_data"
    }
   ],
   "source": [
    "# merge with production with forecast dates\n",
    "production_with_weather=merge(production,wide_weather,by=c('date','hour'))\n",
    "train_data=production_with_weather[date<'2022-03-01']\n",
    "test_data=production_with_weather[date>='2022-03-01' & date<='2022-05-24']\n",
    "tail(train_data[,1:6],3)\n",
    "head(test_data[,1:6],3)\n",
    "tail(test_data[,1:6],2)\n",
    "nrow(train_data) \n",
    "nrow(test_data)"
   ]
  },
  {
   "cell_type": "code",
   "execution_count": 450,
   "id": "7d318b7b",
   "metadata": {
    "scrolled": true
   },
   "outputs": [
    {
     "data": {
      "text/plain": [
       "\n",
       "Call:\n",
       "lm(formula = production ~ ., data = train_data[, -c(\"date\"), \n",
       "    with = F])\n",
       "\n",
       "Residuals:\n",
       "    Min      1Q  Median      3Q     Max \n",
       "-40.038  -5.892  -1.236   4.156  32.142 \n",
       "\n",
       "Coefficients: (3 not defined because of singularities)\n",
       "                              Estimate Std. Error t value Pr(>|t|)    \n",
       "(Intercept)                 -1.597e+02  9.215e+00 -17.332  < 2e-16 ***\n",
       "hour                        -2.900e-01  1.541e-02 -18.823  < 2e-16 ***\n",
       "month2                      -3.697e+00  4.358e-01  -8.484  < 2e-16 ***\n",
       "month3                      -4.248e+00  4.956e-01  -8.572  < 2e-16 ***\n",
       "month4                      -6.062e+00  5.764e-01 -10.518  < 2e-16 ***\n",
       "month5                      -7.185e+00  6.674e-01 -10.765  < 2e-16 ***\n",
       "month6                      -4.136e+00  6.938e-01  -5.961 2.60e-09 ***\n",
       "month7                      -7.193e+00  7.965e-01  -9.030  < 2e-16 ***\n",
       "month8                      -7.815e+00  8.035e-01  -9.726  < 2e-16 ***\n",
       "month9                      -4.050e+00  6.956e-01  -5.823 5.97e-09 ***\n",
       "month10                     -2.186e+00  6.114e-01  -3.576 0.000350 ***\n",
       "month11                     -3.173e+00  5.607e-01  -5.659 1.57e-08 ***\n",
       "month12                     -3.285e-01  4.927e-01  -0.667 0.505051    \n",
       "quart2                              NA         NA      NA       NA    \n",
       "quart3                              NA         NA      NA       NA    \n",
       "quart4                              NA         NA      NA       NA    \n",
       "CLOUD_LOW_LAYER_36.25_33    -1.337e-02  8.690e-03  -1.539 0.123938    \n",
       "CLOUD_LOW_LAYER_36.25_33.25 -3.257e-02  1.157e-02  -2.815 0.004883 ** \n",
       "CLOUD_LOW_LAYER_36.25_33.5   1.491e-02  9.547e-03   1.562 0.118380    \n",
       "CLOUD_LOW_LAYER_36.5_33     -2.222e-03  8.593e-03  -0.259 0.795963    \n",
       "CLOUD_LOW_LAYER_36.5_33.25  -3.426e-02  1.131e-02  -3.031 0.002448 ** \n",
       "CLOUD_LOW_LAYER_36.5_33.5   -2.399e-03  1.076e-02  -0.223 0.823605    \n",
       "CLOUD_LOW_LAYER_36.75_33     8.718e-03  7.433e-03   1.173 0.240865    \n",
       "CLOUD_LOW_LAYER_36.75_33.25 -1.749e-02  1.163e-02  -1.504 0.132720    \n",
       "CLOUD_LOW_LAYER_36.75_33.5   5.162e-02  9.629e-03   5.361 8.49e-08 ***\n",
       "DSWRF_36.25_33              -9.203e-03  4.596e-03  -2.002 0.045288 *  \n",
       "DSWRF_36.25_33.25            7.412e-03  6.341e-03   1.169 0.242461    \n",
       "DSWRF_36.25_33.5            -1.129e-02  5.154e-03  -2.191 0.028450 *  \n",
       "DSWRF_36.5_33                1.340e-02  4.339e-03   3.088 0.002018 ** \n",
       "DSWRF_36.5_33.25            -3.828e-03  5.499e-03  -0.696 0.486321    \n",
       "DSWRF_36.5_33.5              1.643e-02  5.154e-03   3.189 0.001434 ** \n",
       "DSWRF_36.75_33               4.025e-03  3.730e-03   1.079 0.280616    \n",
       "DSWRF_36.75_33.25            5.740e-03  5.503e-03   1.043 0.296909    \n",
       "DSWRF_36.75_33.5             1.223e-02  4.385e-03   2.789 0.005301 ** \n",
       "REL_HUMIDITY_36.25_33       -7.708e-02  2.586e-02  -2.980 0.002886 ** \n",
       "REL_HUMIDITY_36.25_33.25    -4.185e-02  3.801e-02  -1.101 0.270936    \n",
       "REL_HUMIDITY_36.25_33.5      1.530e-01  2.617e-02   5.848 5.15e-09 ***\n",
       "REL_HUMIDITY_36.5_33        -4.836e-02  2.572e-02  -1.880 0.060131 .  \n",
       "REL_HUMIDITY_36.5_33.25      1.858e-02  3.795e-02   0.490 0.624394    \n",
       "REL_HUMIDITY_36.5_33.5      -1.519e-01  2.996e-02  -5.071 4.03e-07 ***\n",
       "REL_HUMIDITY_36.75_33        8.480e-02  2.288e-02   3.706 0.000212 ***\n",
       "REL_HUMIDITY_36.75_33.25    -4.437e-02  3.181e-02  -1.395 0.163018    \n",
       "REL_HUMIDITY_36.75_33.5      1.199e-01  2.117e-02   5.662 1.54e-08 ***\n",
       "TEMP_36.25_33                6.736e-01  2.001e-01   3.367 0.000763 ***\n",
       "TEMP_36.25_33.25             2.272e+00  2.833e-01   8.018 1.21e-15 ***\n",
       "TEMP_36.25_33.5             -6.782e-01  1.872e-01  -3.622 0.000294 ***\n",
       "TEMP_36.5_33                -4.335e-02  1.641e-01  -0.264 0.791624    \n",
       "TEMP_36.5_33.25             -1.451e+00  2.607e-01  -5.569 2.64e-08 ***\n",
       "TEMP_36.5_33.5               1.732e-01  1.626e-01   1.065 0.286767    \n",
       "TEMP_36.75_33                1.764e+00  1.745e-01  10.108  < 2e-16 ***\n",
       "TEMP_36.75_33.25            -2.677e+00  2.190e-01 -12.225  < 2e-16 ***\n",
       "TEMP_36.75_33.5              5.766e-01  1.805e-01   3.195 0.001401 ** \n",
       "---\n",
       "Signif. codes:  0 '***' 0.001 '**' 0.01 '*' 0.05 '.' 0.1 ' ' 1\n",
       "\n",
       "Residual standard error: 8.791 on 9239 degrees of freedom\n",
       "Multiple R-squared:  0.6191,\tAdjusted R-squared:  0.6171 \n",
       "F-statistic: 312.8 on 48 and 9239 DF,  p-value: < 2.2e-16\n"
      ]
     },
     "metadata": {},
     "output_type": "display_data"
    }
   ],
   "source": [
    "# train with all variables\n",
    "lm_model=lm(production~.,train_data[,-c('date'),with=F])\n",
    "summary(lm_model)"
   ]
  },
  {
   "cell_type": "markdown",
   "id": "4d365cb2",
   "metadata": {},
   "source": [
    "We see that the trend variable, the categoric month variables showing seasonality effect and the weather measurement variables are all significant. The reason we get quart values as NA, can be high correlation (perfect multicollinearity) between predictors. When we scan the coefficients in the model summary, we see that the categoric quarter variables are valued as 'NA' which means that the model refused to use these variables. Hence, we test the correlation between month and quart variables and decide whether to remove it or not."
   ]
  },
  {
   "cell_type": "code",
   "execution_count": 451,
   "id": "a5915f1a",
   "metadata": {},
   "outputs": [
    {
     "data": {
      "text/html": [
       "0.970630664277906"
      ],
      "text/latex": [
       "0.970630664277906"
      ],
      "text/markdown": [
       "0.970630664277906"
      ],
      "text/plain": [
       "[1] 0.9706307"
      ]
     },
     "metadata": {},
     "output_type": "display_data"
    }
   ],
   "source": [
    "require(ggcorrplot)\n",
    "cor(as.numeric(production$month),as.numeric(production$quart))\n"
   ]
  },
  {
   "cell_type": "markdown",
   "id": "43991011",
   "metadata": {},
   "source": [
    "##### quart characteristics are seen as NA in the summary due to that reason, so we remove them.\n"
   ]
  },
  {
   "cell_type": "code",
   "execution_count": 452,
   "id": "43246ef2",
   "metadata": {
    "scrolled": false
   },
   "outputs": [
    {
     "data": {
      "text/plain": [
       "\n",
       "Call:\n",
       "lm(formula = production ~ . - quart, data = train_data[, -c(\"date\"), \n",
       "    with = F])\n",
       "\n",
       "Residuals:\n",
       "    Min      1Q  Median      3Q     Max \n",
       "-40.038  -5.892  -1.236   4.156  32.142 \n",
       "\n",
       "Coefficients:\n",
       "                              Estimate Std. Error t value Pr(>|t|)    \n",
       "(Intercept)                 -1.597e+02  9.215e+00 -17.332  < 2e-16 ***\n",
       "hour                        -2.900e-01  1.541e-02 -18.823  < 2e-16 ***\n",
       "month2                      -3.697e+00  4.358e-01  -8.484  < 2e-16 ***\n",
       "month3                      -4.248e+00  4.956e-01  -8.572  < 2e-16 ***\n",
       "month4                      -6.062e+00  5.764e-01 -10.518  < 2e-16 ***\n",
       "month5                      -7.185e+00  6.674e-01 -10.765  < 2e-16 ***\n",
       "month6                      -4.136e+00  6.938e-01  -5.961 2.60e-09 ***\n",
       "month7                      -7.193e+00  7.965e-01  -9.030  < 2e-16 ***\n",
       "month8                      -7.815e+00  8.035e-01  -9.726  < 2e-16 ***\n",
       "month9                      -4.050e+00  6.956e-01  -5.823 5.97e-09 ***\n",
       "month10                     -2.186e+00  6.114e-01  -3.576 0.000350 ***\n",
       "month11                     -3.173e+00  5.607e-01  -5.659 1.57e-08 ***\n",
       "month12                     -3.285e-01  4.927e-01  -0.667 0.505051    \n",
       "CLOUD_LOW_LAYER_36.25_33    -1.337e-02  8.690e-03  -1.539 0.123938    \n",
       "CLOUD_LOW_LAYER_36.25_33.25 -3.257e-02  1.157e-02  -2.815 0.004883 ** \n",
       "CLOUD_LOW_LAYER_36.25_33.5   1.491e-02  9.547e-03   1.562 0.118380    \n",
       "CLOUD_LOW_LAYER_36.5_33     -2.222e-03  8.593e-03  -0.259 0.795963    \n",
       "CLOUD_LOW_LAYER_36.5_33.25  -3.426e-02  1.131e-02  -3.031 0.002448 ** \n",
       "CLOUD_LOW_LAYER_36.5_33.5   -2.399e-03  1.076e-02  -0.223 0.823605    \n",
       "CLOUD_LOW_LAYER_36.75_33     8.718e-03  7.433e-03   1.173 0.240865    \n",
       "CLOUD_LOW_LAYER_36.75_33.25 -1.749e-02  1.163e-02  -1.504 0.132720    \n",
       "CLOUD_LOW_LAYER_36.75_33.5   5.162e-02  9.629e-03   5.361 8.49e-08 ***\n",
       "DSWRF_36.25_33              -9.203e-03  4.596e-03  -2.002 0.045288 *  \n",
       "DSWRF_36.25_33.25            7.412e-03  6.341e-03   1.169 0.242461    \n",
       "DSWRF_36.25_33.5            -1.129e-02  5.154e-03  -2.191 0.028450 *  \n",
       "DSWRF_36.5_33                1.340e-02  4.339e-03   3.088 0.002018 ** \n",
       "DSWRF_36.5_33.25            -3.828e-03  5.499e-03  -0.696 0.486321    \n",
       "DSWRF_36.5_33.5              1.643e-02  5.154e-03   3.189 0.001434 ** \n",
       "DSWRF_36.75_33               4.025e-03  3.730e-03   1.079 0.280616    \n",
       "DSWRF_36.75_33.25            5.740e-03  5.503e-03   1.043 0.296909    \n",
       "DSWRF_36.75_33.5             1.223e-02  4.385e-03   2.789 0.005301 ** \n",
       "REL_HUMIDITY_36.25_33       -7.708e-02  2.586e-02  -2.980 0.002886 ** \n",
       "REL_HUMIDITY_36.25_33.25    -4.185e-02  3.801e-02  -1.101 0.270936    \n",
       "REL_HUMIDITY_36.25_33.5      1.530e-01  2.617e-02   5.848 5.15e-09 ***\n",
       "REL_HUMIDITY_36.5_33        -4.836e-02  2.572e-02  -1.880 0.060131 .  \n",
       "REL_HUMIDITY_36.5_33.25      1.858e-02  3.795e-02   0.490 0.624394    \n",
       "REL_HUMIDITY_36.5_33.5      -1.519e-01  2.996e-02  -5.071 4.03e-07 ***\n",
       "REL_HUMIDITY_36.75_33        8.480e-02  2.288e-02   3.706 0.000212 ***\n",
       "REL_HUMIDITY_36.75_33.25    -4.437e-02  3.181e-02  -1.395 0.163018    \n",
       "REL_HUMIDITY_36.75_33.5      1.199e-01  2.117e-02   5.662 1.54e-08 ***\n",
       "TEMP_36.25_33                6.736e-01  2.001e-01   3.367 0.000763 ***\n",
       "TEMP_36.25_33.25             2.272e+00  2.833e-01   8.018 1.21e-15 ***\n",
       "TEMP_36.25_33.5             -6.782e-01  1.872e-01  -3.622 0.000294 ***\n",
       "TEMP_36.5_33                -4.335e-02  1.641e-01  -0.264 0.791624    \n",
       "TEMP_36.5_33.25             -1.451e+00  2.607e-01  -5.569 2.64e-08 ***\n",
       "TEMP_36.5_33.5               1.732e-01  1.626e-01   1.065 0.286767    \n",
       "TEMP_36.75_33                1.764e+00  1.745e-01  10.108  < 2e-16 ***\n",
       "TEMP_36.75_33.25            -2.677e+00  2.190e-01 -12.225  < 2e-16 ***\n",
       "TEMP_36.75_33.5              5.766e-01  1.805e-01   3.195 0.001401 ** \n",
       "---\n",
       "Signif. codes:  0 '***' 0.001 '**' 0.01 '*' 0.05 '.' 0.1 ' ' 1\n",
       "\n",
       "Residual standard error: 8.791 on 9239 degrees of freedom\n",
       "Multiple R-squared:  0.6191,\tAdjusted R-squared:  0.6171 \n",
       "F-statistic: 312.8 on 48 and 9239 DF,  p-value: < 2.2e-16\n"
      ]
     },
     "metadata": {},
     "output_type": "display_data"
    },
    {
     "data": {
      "text/html": [
       "<table>\n",
       "<thead><tr><th scope=col>date</th><th scope=col>hour</th><th scope=col>production</th><th scope=col>pred_lm</th></tr></thead>\n",
       "<tbody>\n",
       "\t<tr><td>2022-03-01</td><td>0         </td><td>0         </td><td>1.1488514 </td></tr>\n",
       "\t<tr><td>2022-03-01</td><td>1         </td><td>0         </td><td>1.4825389 </td></tr>\n",
       "\t<tr><td>2022-03-01</td><td>2         </td><td>0         </td><td>1.0962537 </td></tr>\n",
       "\t<tr><td>2022-03-01</td><td>3         </td><td>0         </td><td>0.5609687 </td></tr>\n",
       "\t<tr><td>2022-03-01</td><td>4         </td><td>0         </td><td>0.5853747 </td></tr>\n",
       "\t<tr><td>2022-03-01</td><td>5         </td><td>0         </td><td>0.8957835 </td></tr>\n",
       "</tbody>\n",
       "</table>\n"
      ],
      "text/latex": [
       "\\begin{tabular}{r|llll}\n",
       " date & hour & production & pred\\_lm\\\\\n",
       "\\hline\n",
       "\t 2022-03-01 & 0          & 0          & 1.1488514 \\\\\n",
       "\t 2022-03-01 & 1          & 0          & 1.4825389 \\\\\n",
       "\t 2022-03-01 & 2          & 0          & 1.0962537 \\\\\n",
       "\t 2022-03-01 & 3          & 0          & 0.5609687 \\\\\n",
       "\t 2022-03-01 & 4          & 0          & 0.5853747 \\\\\n",
       "\t 2022-03-01 & 5          & 0          & 0.8957835 \\\\\n",
       "\\end{tabular}\n"
      ],
      "text/markdown": [
       "\n",
       "| date | hour | production | pred_lm |\n",
       "|---|---|---|---|\n",
       "| 2022-03-01 | 0          | 0          | 1.1488514  |\n",
       "| 2022-03-01 | 1          | 0          | 1.4825389  |\n",
       "| 2022-03-01 | 2          | 0          | 1.0962537  |\n",
       "| 2022-03-01 | 3          | 0          | 0.5609687  |\n",
       "| 2022-03-01 | 4          | 0          | 0.5853747  |\n",
       "| 2022-03-01 | 5          | 0          | 0.8957835  |\n",
       "\n"
      ],
      "text/plain": [
       "  date       hour production pred_lm  \n",
       "1 2022-03-01 0    0          1.1488514\n",
       "2 2022-03-01 1    0          1.4825389\n",
       "3 2022-03-01 2    0          1.0962537\n",
       "4 2022-03-01 3    0          0.5609687\n",
       "5 2022-03-01 4    0          0.5853747\n",
       "6 2022-03-01 5    0          0.8957835"
      ]
     },
     "metadata": {},
     "output_type": "display_data"
    }
   ],
   "source": [
    "lm_model2=lm(production~.-quart,train_data[,-c('date'),with=F])\n",
    "summary(lm_model2)\n",
    "forecasts = data.table(test_data[,1:3], pred_lm=predict(lm_model2,test_data))\n",
    "head(forecasts)"
   ]
  },
  {
   "cell_type": "markdown",
   "id": "ad1d8cca",
   "metadata": {},
   "source": [
    "As it can be seen, we did not get a warning when we wanted to make predictions and the model did not change due to removing the 'quart' variable. Thus, we can confidently say that the variable is not used in the model and its removal is required."
   ]
  },
  {
   "cell_type": "code",
   "execution_count": 453,
   "id": "7b58bfac",
   "metadata": {
    "scrolled": false
   },
   "outputs": [
    {
     "data": {
      "text/plain": [
       "\n",
       "\tBreusch-Godfrey test for serial correlation of order up to 52\n",
       "\n",
       "data:  Residuals\n",
       "LM test = 7888.8, df = 52, p-value < 2.2e-16\n"
      ]
     },
     "metadata": {},
     "output_type": "display_data"
    },
    {
     "data": {
      "image/png": "[encoded data removed]",
      "text/plain": [
       "plot without title"
      ]
     },
     "metadata": {},
     "output_type": "display_data"
    }
   ],
   "source": [
    "checkresiduals(lm_model2)"
   ]
  },
  {
   "cell_type": "markdown",
   "id": "e9916e88",
   "metadata": {},
   "source": [
    " It is evident that there is a seasonality caused by hours of the day which also can be observed from the acf of residuals where auto-correlation made a peak at lag 24. Therefore, taking the hourly seasonality into account in our model will improve our predictions."
   ]
  },
  {
   "cell_type": "code",
   "execution_count": 454,
   "id": "2eb5e6ca",
   "metadata": {
    "scrolled": true
   },
   "outputs": [],
   "source": [
    "#LINEAR MODEL WITH CATEGORIC HOUR VARIABLE\n",
    "train_data = train_data[,hour:= as.factor(hour)]\n",
    "test_data = test_data[,hour:=as.factor(hour)]"
   ]
  },
  {
   "cell_type": "code",
   "execution_count": 455,
   "id": "9c60fa53",
   "metadata": {
    "scrolled": true
   },
   "outputs": [
    {
     "data": {
      "text/plain": [
       "\n",
       "Call:\n",
       "lm(formula = production ~ . - quart, data = train_data[, -c(\"date\"), \n",
       "    with = F])\n",
       "\n",
       "Residuals:\n",
       "    Min      1Q  Median      3Q     Max \n",
       "-35.481  -3.605   0.277   3.766  23.997 \n",
       "\n",
       "Coefficients:\n",
       "                              Estimate Std. Error t value Pr(>|t|)    \n",
       "(Intercept)                 -6.623e+01  6.502e+00 -10.186  < 2e-16 ***\n",
       "hour1                        5.314e-02  4.370e-01   0.122 0.903224    \n",
       "hour2                        5.428e-02  4.374e-01   0.124 0.901243    \n",
       "hour3                        5.879e-02  4.380e-01   0.134 0.893244    \n",
       "hour4                        8.079e-02  4.391e-01   0.184 0.854017    \n",
       "hour5                        1.294e-01  4.400e-01   0.294 0.768678    \n",
       "hour6                        1.113e+00  4.408e-01   2.525 0.011591 *  \n",
       "hour7                        7.914e+00  4.397e-01  17.997  < 2e-16 ***\n",
       "hour8                        1.792e+01  4.412e-01  40.613  < 2e-16 ***\n",
       "hour9                        2.272e+01  4.484e-01  50.679  < 2e-16 ***\n",
       "hour10                       1.556e+01  5.417e-01  28.721  < 2e-16 ***\n",
       "hour11                       1.408e+01  5.708e-01  24.660  < 2e-16 ***\n",
       "hour12                       1.286e+01  5.937e-01  21.663  < 2e-16 ***\n",
       "hour13                       1.158e+01  6.079e-01  19.055  < 2e-16 ***\n",
       "hour14                       1.031e+01  6.147e-01  16.769  < 2e-16 ***\n",
       "hour15                       8.681e+00  6.141e-01  14.136  < 2e-16 ***\n",
       "hour16                       6.796e+00  5.698e-01  11.928  < 2e-16 ***\n",
       "hour17                      -3.106e-01  5.386e-01  -0.577 0.564176    \n",
       "hour18                      -5.381e+00  5.102e-01 -10.546  < 2e-16 ***\n",
       "hour19                      -6.063e+00  4.867e-01 -12.457  < 2e-16 ***\n",
       "hour20                      -4.878e+00  4.700e-01 -10.378  < 2e-16 ***\n",
       "hour21                      -4.176e+00  4.583e-01  -9.112  < 2e-16 ***\n",
       "hour22                       1.223e-01  4.388e-01   0.279 0.780543    \n",
       "hour23                       4.738e-02  4.373e-01   0.108 0.913715    \n",
       "month2                      -3.295e+00  3.023e-01 -10.899  < 2e-16 ***\n",
       "month3                      -4.144e+00  3.492e-01 -11.869  < 2e-16 ***\n",
       "month4                      -3.439e+00  4.155e-01  -8.277  < 2e-16 ***\n",
       "month5                      -2.126e+00  4.890e-01  -4.349 1.38e-05 ***\n",
       "month6                       4.181e-01  5.077e-01   0.824 0.410242    \n",
       "month7                       1.288e-01  5.810e-01   0.222 0.824595    \n",
       "month8                       5.896e-02  5.822e-01   0.101 0.919330    \n",
       "month9                       1.077e+00  4.972e-01   2.166 0.030368 *  \n",
       "month10                      1.258e+00  4.296e-01   2.929 0.003406 ** \n",
       "month11                     -4.522e-01  3.900e-01  -1.160 0.246244    \n",
       "month12                     -6.600e-01  3.412e-01  -1.934 0.053083 .  \n",
       "CLOUD_LOW_LAYER_36.25_33    -4.391e-03  6.025e-03  -0.729 0.466160    \n",
       "CLOUD_LOW_LAYER_36.25_33.25 -1.354e-02  8.009e-03  -1.691 0.090913 .  \n",
       "CLOUD_LOW_LAYER_36.25_33.5  -8.759e-03  6.609e-03  -1.325 0.185125    \n",
       "CLOUD_LOW_LAYER_36.5_33      3.334e-03  5.962e-03   0.559 0.576097    \n",
       "CLOUD_LOW_LAYER_36.5_33.25  -3.012e-02  7.831e-03  -3.847 0.000120 ***\n",
       "CLOUD_LOW_LAYER_36.5_33.5    1.853e-03  7.447e-03   0.249 0.803507    \n",
       "CLOUD_LOW_LAYER_36.75_33     4.868e-03  5.144e-03   0.946 0.344045    \n",
       "CLOUD_LOW_LAYER_36.75_33.25  3.016e-03  8.043e-03   0.375 0.707682    \n",
       "CLOUD_LOW_LAYER_36.75_33.5   6.715e-03  6.682e-03   1.005 0.314929    \n",
       "DSWRF_36.25_33              -8.778e-04  3.186e-03  -0.275 0.782939    \n",
       "DSWRF_36.25_33.25            3.464e-03  4.384e-03   0.790 0.429453    \n",
       "DSWRF_36.25_33.5            -1.090e-02  3.568e-03  -3.054 0.002261 ** \n",
       "DSWRF_36.5_33                1.013e-02  3.009e-03   3.367 0.000762 ***\n",
       "DSWRF_36.5_33.25            -6.374e-03  3.807e-03  -1.674 0.094131 .  \n",
       "DSWRF_36.5_33.5              2.236e-02  3.581e-03   6.245 4.43e-10 ***\n",
       "DSWRF_36.75_33               5.932e-03  2.582e-03   2.297 0.021632 *  \n",
       "DSWRF_36.75_33.25           -2.022e-03  3.809e-03  -0.531 0.595466    \n",
       "DSWRF_36.75_33.5             2.005e-03  3.042e-03   0.659 0.509907    \n",
       "REL_HUMIDITY_36.25_33       -1.016e-02  1.800e-02  -0.564 0.572528    \n",
       "REL_HUMIDITY_36.25_33.25    -2.010e-02  2.630e-02  -0.765 0.444578    \n",
       "REL_HUMIDITY_36.25_33.5     -3.741e-03  1.830e-02  -0.204 0.838026    \n",
       "REL_HUMIDITY_36.5_33         3.815e-02  1.783e-02   2.140 0.032388 *  \n",
       "REL_HUMIDITY_36.5_33.25     -1.175e-02  2.629e-02  -0.447 0.654793    \n",
       "REL_HUMIDITY_36.5_33.5      -6.550e-03  2.102e-02  -0.312 0.755375    \n",
       "REL_HUMIDITY_36.75_33       -3.787e-02  1.600e-02  -2.367 0.017948 *  \n",
       "REL_HUMIDITY_36.75_33.25     1.986e-02  2.214e-02   0.897 0.369856    \n",
       "REL_HUMIDITY_36.75_33.5      5.928e-02  1.486e-02   3.989 6.69e-05 ***\n",
       "TEMP_36.25_33                6.099e-02  1.392e-01   0.438 0.661212    \n",
       "TEMP_36.25_33.25             1.303e+00  1.967e-01   6.626 3.64e-11 ***\n",
       "TEMP_36.25_33.5             -7.580e-01  1.307e-01  -5.802 6.78e-09 ***\n",
       "TEMP_36.5_33                 4.220e-02  1.140e-01   0.370 0.711259    \n",
       "TEMP_36.5_33.25             -2.443e-01  1.810e-01  -1.350 0.177068    \n",
       "TEMP_36.5_33.5               1.270e-01  1.143e-01   1.112 0.266265    \n",
       "TEMP_36.75_33                2.562e-01  1.232e-01   2.080 0.037543 *  \n",
       "TEMP_36.75_33.25             1.199e-01  1.566e-01   0.765 0.444005    \n",
       "TEMP_36.75_33.5             -6.748e-01  1.277e-01  -5.282 1.31e-07 ***\n",
       "---\n",
       "Signif. codes:  0 '***' 0.001 '**' 0.01 '*' 0.05 '.' 0.1 ' ' 1\n",
       "\n",
       "Residual standard error: 6.076 on 9217 degrees of freedom\n",
       "Multiple R-squared:  0.8185,\tAdjusted R-squared:  0.8171 \n",
       "F-statistic: 593.6 on 70 and 9217 DF,  p-value: < 2.2e-16\n"
      ]
     },
     "metadata": {},
     "output_type": "display_data"
    }
   ],
   "source": [
    "lm_hourly=lm(production~.-quart,train_data[,-c('date'),with=F])\n",
    "summary(lm_hourly)"
   ]
  },
  {
   "cell_type": "code",
   "execution_count": 456,
   "id": "ffbcb86d",
   "metadata": {
    "scrolled": false
   },
   "outputs": [
    {
     "data": {
      "text/html": [
       "<table>\n",
       "<thead><tr><th scope=col>date</th><th scope=col>hour</th><th scope=col>production</th><th scope=col>pred_lm</th><th scope=col>pred_lm_hourly</th></tr></thead>\n",
       "<tbody>\n",
       "\t<tr><td>2022-03-01 </td><td> 0         </td><td> 0.00      </td><td>  1.1488514</td><td>-6.755612  </td></tr>\n",
       "\t<tr><td>2022-03-01 </td><td> 1         </td><td> 0.00      </td><td>  1.4825389</td><td>-6.312143  </td></tr>\n",
       "\t<tr><td>2022-03-01 </td><td> 2         </td><td> 0.00      </td><td>  1.0962537</td><td>-6.104661  </td></tr>\n",
       "\t<tr><td>2022-03-01 </td><td> 3         </td><td> 0.00      </td><td>  0.5609687</td><td>-5.820723  </td></tr>\n",
       "\t<tr><td>2022-03-01 </td><td> 4         </td><td> 0.00      </td><td>  0.5853747</td><td>-5.323716  </td></tr>\n",
       "\t<tr><td>2022-03-01 </td><td> 5         </td><td> 0.00      </td><td>  0.8957835</td><td>-5.383170  </td></tr>\n",
       "\t<tr><td>2022-03-01 </td><td> 6         </td><td> 0.00      </td><td>  2.3413003</td><td>-3.781334  </td></tr>\n",
       "\t<tr><td>2022-03-01 </td><td> 7         </td><td> 0.53      </td><td>  5.2773513</td><td> 4.171930  </td></tr>\n",
       "\t<tr><td>2022-03-01 </td><td> 8         </td><td> 3.65      </td><td>  2.4435191</td><td>14.670768  </td></tr>\n",
       "\t<tr><td>2022-03-01 </td><td> 9         </td><td>14.61      </td><td> -0.0842048</td><td>18.650784  </td></tr>\n",
       "\t<tr><td>2022-03-01 </td><td>10         </td><td>22.67      </td><td>  3.3990847</td><td>15.228870  </td></tr>\n",
       "\t<tr><td>2022-03-01 </td><td>11         </td><td>26.68      </td><td>  5.3463682</td><td>15.087709  </td></tr>\n",
       "\t<tr><td>2022-03-01 </td><td>12         </td><td>10.92      </td><td>  7.3178656</td><td>15.168065  </td></tr>\n",
       "\t<tr><td>2022-03-01 </td><td>13         </td><td>12.03      </td><td>  9.4339390</td><td>14.207857  </td></tr>\n",
       "\t<tr><td>2022-03-01 </td><td>14         </td><td>17.04      </td><td>  9.8824327</td><td>12.441829  </td></tr>\n",
       "\t<tr><td>2022-03-01 </td><td>15         </td><td>10.17      </td><td>  7.0338067</td><td>10.112027  </td></tr>\n",
       "\t<tr><td>2022-03-01 </td><td>16         </td><td> 5.44      </td><td>  3.3404035</td><td> 6.380562  </td></tr>\n",
       "\t<tr><td>2022-03-01 </td><td>17         </td><td> 2.29      </td><td> -0.1393487</td><td>-1.655039  </td></tr>\n",
       "\t<tr><td>2022-03-01 </td><td>18         </td><td> 0.47      </td><td> -3.9091276</td><td>-8.209461  </td></tr>\n",
       "\t<tr><td>2022-03-01 </td><td>19         </td><td> 0.00      </td><td> -4.3120158</td><td>-8.959593  </td></tr>\n",
       "\t<tr><td>2022-03-01 </td><td>20         </td><td> 0.00      </td><td> -6.0019669</td><td>-8.172591  </td></tr>\n",
       "\t<tr><td>2022-03-01 </td><td>21         </td><td> 0.00      </td><td> -8.4846299</td><td>-8.946861  </td></tr>\n",
       "\t<tr><td>2022-03-01 </td><td>22         </td><td> 0.00      </td><td>-10.3343998</td><td>-7.577884  </td></tr>\n",
       "\t<tr><td>2022-03-01 </td><td>23         </td><td> 0.00      </td><td> -9.1566832</td><td>-7.579891  </td></tr>\n",
       "\t<tr><td>2022-03-02 </td><td> 0         </td><td> 0.00      </td><td> -1.6622402</td><td>-7.494780  </td></tr>\n",
       "</tbody>\n",
       "</table>\n"
      ],
      "text/latex": [
       "\\begin{tabular}{r|lllll}\n",
       " date & hour & production & pred\\_lm & pred\\_lm\\_hourly\\\\\n",
       "\\hline\n",
       "\t 2022-03-01  &  0          &  0.00       &   1.1488514 & -6.755612  \\\\\n",
       "\t 2022-03-01  &  1          &  0.00       &   1.4825389 & -6.312143  \\\\\n",
       "\t 2022-03-01  &  2          &  0.00       &   1.0962537 & -6.104661  \\\\\n",
       "\t 2022-03-01  &  3          &  0.00       &   0.5609687 & -5.820723  \\\\\n",
       "\t 2022-03-01  &  4          &  0.00       &   0.5853747 & -5.323716  \\\\\n",
       "\t 2022-03-01  &  5          &  0.00       &   0.8957835 & -5.383170  \\\\\n",
       "\t 2022-03-01  &  6          &  0.00       &   2.3413003 & -3.781334  \\\\\n",
       "\t 2022-03-01  &  7          &  0.53       &   5.2773513 &  4.171930  \\\\\n",
       "\t 2022-03-01  &  8          &  3.65       &   2.4435191 & 14.670768  \\\\\n",
       "\t 2022-03-01  &  9          & 14.61       &  -0.0842048 & 18.650784  \\\\\n",
       "\t 2022-03-01  & 10          & 22.67       &   3.3990847 & 15.228870  \\\\\n",
       "\t 2022-03-01  & 11          & 26.68       &   5.3463682 & 15.087709  \\\\\n",
       "\t 2022-03-01  & 12          & 10.92       &   7.3178656 & 15.168065  \\\\\n",
       "\t 2022-03-01  & 13          & 12.03       &   9.4339390 & 14.207857  \\\\\n",
       "\t 2022-03-01  & 14          & 17.04       &   9.8824327 & 12.441829  \\\\\n",
       "\t 2022-03-01  & 15          & 10.17       &   7.0338067 & 10.112027  \\\\\n",
       "\t 2022-03-01  & 16          &  5.44       &   3.3404035 &  6.380562  \\\\\n",
       "\t 2022-03-01  & 17          &  2.29       &  -0.1393487 & -1.655039  \\\\\n",
       "\t 2022-03-01  & 18          &  0.47       &  -3.9091276 & -8.209461  \\\\\n",
       "\t 2022-03-01  & 19          &  0.00       &  -4.3120158 & -8.959593  \\\\\n",
       "\t 2022-03-01  & 20          &  0.00       &  -6.0019669 & -8.172591  \\\\\n",
       "\t 2022-03-01  & 21          &  0.00       &  -8.4846299 & -8.946861  \\\\\n",
       "\t 2022-03-01  & 22          &  0.00       & -10.3343998 & -7.577884  \\\\\n",
       "\t 2022-03-01  & 23          &  0.00       &  -9.1566832 & -7.579891  \\\\\n",
       "\t 2022-03-02  &  0          &  0.00       &  -1.6622402 & -7.494780  \\\\\n",
       "\\end{tabular}\n"
      ],
      "text/markdown": [
       "\n",
       "| date | hour | production | pred_lm | pred_lm_hourly |\n",
       "|---|---|---|---|---|\n",
       "| 2022-03-01  |  0          |  0.00       |   1.1488514 | -6.755612   |\n",
       "| 2022-03-01  |  1          |  0.00       |   1.4825389 | -6.312143   |\n",
       "| 2022-03-01  |  2          |  0.00       |   1.0962537 | -6.104661   |\n",
       "| 2022-03-01  |  3          |  0.00       |   0.5609687 | -5.820723   |\n",
       "| 2022-03-01  |  4          |  0.00       |   0.5853747 | -5.323716   |\n",
       "| 2022-03-01  |  5          |  0.00       |   0.8957835 | -5.383170   |\n",
       "| 2022-03-01  |  6          |  0.00       |   2.3413003 | -3.781334   |\n",
       "| 2022-03-01  |  7          |  0.53       |   5.2773513 |  4.171930   |\n",
       "| 2022-03-01  |  8          |  3.65       |   2.4435191 | 14.670768   |\n",
       "| 2022-03-01  |  9          | 14.61       |  -0.0842048 | 18.650784   |\n",
       "| 2022-03-01  | 10          | 22.67       |   3.3990847 | 15.228870   |\n",
       "| 2022-03-01  | 11          | 26.68       |   5.3463682 | 15.087709   |\n",
       "| 2022-03-01  | 12          | 10.92       |   7.3178656 | 15.168065   |\n",
       "| 2022-03-01  | 13          | 12.03       |   9.4339390 | 14.207857   |\n",
       "| 2022-03-01  | 14          | 17.04       |   9.8824327 | 12.441829   |\n",
       "| 2022-03-01  | 15          | 10.17       |   7.0338067 | 10.112027   |\n",
       "| 2022-03-01  | 16          |  5.44       |   3.3404035 |  6.380562   |\n",
       "| 2022-03-01  | 17          |  2.29       |  -0.1393487 | -1.655039   |\n",
       "| 2022-03-01  | 18          |  0.47       |  -3.9091276 | -8.209461   |\n",
       "| 2022-03-01  | 19          |  0.00       |  -4.3120158 | -8.959593   |\n",
       "| 2022-03-01  | 20          |  0.00       |  -6.0019669 | -8.172591   |\n",
       "| 2022-03-01  | 21          |  0.00       |  -8.4846299 | -8.946861   |\n",
       "| 2022-03-01  | 22          |  0.00       | -10.3343998 | -7.577884   |\n",
       "| 2022-03-01  | 23          |  0.00       |  -9.1566832 | -7.579891   |\n",
       "| 2022-03-02  |  0          |  0.00       |  -1.6622402 | -7.494780   |\n",
       "\n"
      ],
      "text/plain": [
       "   date       hour production pred_lm     pred_lm_hourly\n",
       "1  2022-03-01  0    0.00        1.1488514 -6.755612     \n",
       "2  2022-03-01  1    0.00        1.4825389 -6.312143     \n",
       "3  2022-03-01  2    0.00        1.0962537 -6.104661     \n",
       "4  2022-03-01  3    0.00        0.5609687 -5.820723     \n",
       "5  2022-03-01  4    0.00        0.5853747 -5.323716     \n",
       "6  2022-03-01  5    0.00        0.8957835 -5.383170     \n",
       "7  2022-03-01  6    0.00        2.3413003 -3.781334     \n",
       "8  2022-03-01  7    0.53        5.2773513  4.171930     \n",
       "9  2022-03-01  8    3.65        2.4435191 14.670768     \n",
       "10 2022-03-01  9   14.61       -0.0842048 18.650784     \n",
       "11 2022-03-01 10   22.67        3.3990847 15.228870     \n",
       "12 2022-03-01 11   26.68        5.3463682 15.087709     \n",
       "13 2022-03-01 12   10.92        7.3178656 15.168065     \n",
       "14 2022-03-01 13   12.03        9.4339390 14.207857     \n",
       "15 2022-03-01 14   17.04        9.8824327 12.441829     \n",
       "16 2022-03-01 15   10.17        7.0338067 10.112027     \n",
       "17 2022-03-01 16    5.44        3.3404035  6.380562     \n",
       "18 2022-03-01 17    2.29       -0.1393487 -1.655039     \n",
       "19 2022-03-01 18    0.47       -3.9091276 -8.209461     \n",
       "20 2022-03-01 19    0.00       -4.3120158 -8.959593     \n",
       "21 2022-03-01 20    0.00       -6.0019669 -8.172591     \n",
       "22 2022-03-01 21    0.00       -8.4846299 -8.946861     \n",
       "23 2022-03-01 22    0.00      -10.3343998 -7.577884     \n",
       "24 2022-03-01 23    0.00       -9.1566832 -7.579891     \n",
       "25 2022-03-02  0    0.00       -1.6622402 -7.494780     "
      ]
     },
     "metadata": {},
     "output_type": "display_data"
    }
   ],
   "source": [
    "forecasts[,pred_lm_hourly:=predict(lm_hourly,test_data)]\n",
    "#checkresiduals(lm_hourly)\n",
    "head(forecasts,25)\n"
   ]
  },
  {
   "cell_type": "code",
   "execution_count": 457,
   "id": "97b489c4",
   "metadata": {},
   "outputs": [
    {
     "data": {
      "text/html": [
       "TRUE"
      ],
      "text/latex": [
       "TRUE"
      ],
      "text/markdown": [
       "TRUE"
      ],
      "text/plain": [
       "[1] TRUE"
      ]
     },
     "metadata": {},
     "output_type": "display_data"
    }
   ],
   "source": [
    "train_data$production = ts(train_data$production)\n",
    "is.ts(train_data$production)"
   ]
  },
  {
   "cell_type": "code",
   "execution_count": 458,
   "id": "63847b65",
   "metadata": {},
   "outputs": [
    {
     "name": "stdout",
     "output_type": "stream",
     "text": [
      "\n",
      " Fitting models using approximations to speed things up...\n",
      "\n",
      " ARIMA(2,1,2) with drift         : 55557.13\n",
      " ARIMA(0,1,0) with drift         : 58555.86\n",
      " ARIMA(1,1,0) with drift         : 55863.46\n",
      " ARIMA(0,1,1) with drift         : 55753.76\n",
      " ARIMA(0,1,0)                    : 58553.85\n",
      " ARIMA(1,1,2) with drift         : 55554.12\n",
      " ARIMA(0,1,2) with drift         : 55553.35\n",
      " ARIMA(0,1,3) with drift         : 55553.17\n",
      " ARIMA(1,1,3) with drift         : 55556.25\n",
      " ARIMA(0,1,4) with drift         : 55555.05\n",
      " ARIMA(1,1,4) with drift         : Inf\n",
      " ARIMA(0,1,3)                    : 55551.16\n",
      " ARIMA(0,1,2)                    : 55551.34\n",
      " ARIMA(1,1,3)                    : 55554.25\n",
      " ARIMA(0,1,4)                    : 55553.04\n",
      " ARIMA(1,1,2)                    : 55552.12\n",
      " ARIMA(1,1,4)                    : Inf\n",
      "\n",
      " Now re-fitting the best model(s) without approximations...\n",
      "\n",
      " ARIMA(0,1,3)                    : 55554.99\n",
      "\n",
      " Best model: ARIMA(0,1,3)                    \n",
      "\n"
     ]
    }
   ],
   "source": [
    "#ARIMA MODEL\n",
    "arima_model = auto.arima(train_data$production,seasonal=F,trace=T,stepwise=T,approximation=T) "
   ]
  },
  {
   "cell_type": "code",
   "execution_count": 459,
   "id": "06b76cbc",
   "metadata": {},
   "outputs": [
    {
     "data": {
      "text/plain": [
       "Series: train_data$production \n",
       "ARIMA(0,1,3) \n",
       "\n",
       "Coefficients:\n",
       "         ma1     ma2     ma3\n",
       "      0.5984  0.1552  0.0152\n",
       "s.e.  0.0104  0.0120  0.0103\n",
       "\n",
       "sigma^2 estimated as 23.19:  log likelihood=-27773.49\n",
       "AIC=55554.99   AICc=55554.99   BIC=55583.53"
      ]
     },
     "metadata": {},
     "output_type": "display_data"
    }
   ],
   "source": [
    "arima_model"
   ]
  },
  {
   "cell_type": "code",
   "execution_count": 460,
   "id": "9b2fe56a",
   "metadata": {
    "scrolled": true
   },
   "outputs": [],
   "source": [
    "preds = forecast(arima_model, nrow(test_data))\n",
    "forecasts[,pred_arima:=as.numeric(preds$mean)]\n"
   ]
  },
  {
   "cell_type": "code",
   "execution_count": 461,
   "id": "9109972a",
   "metadata": {
    "scrolled": false
   },
   "outputs": [
    {
     "data": {
      "image/png": "[encoded data removed]",
      "text/plain": [
       "Plot with title \"Series  production$production\""
      ]
     },
     "metadata": {},
     "output_type": "display_data"
    }
   ],
   "source": [
    "\n",
    "acf(production$production)\n"
   ]
  },
  {
   "cell_type": "code",
   "execution_count": 462,
   "id": "d34c904f",
   "metadata": {},
   "outputs": [
    {
     "data": {
      "text/plain": [
       "\n",
       "####################### \n",
       "# KPSS Unit Root Test # \n",
       "####################### \n",
       "\n",
       "Test is of type: mu with 12 lags. \n",
       "\n",
       "Value of test-statistic is: 4.3476 \n",
       "\n",
       "Critical value for a significance level of: \n",
       "                10pct  5pct 2.5pct  1pct\n",
       "critical values 0.347 0.463  0.574 0.739\n"
      ]
     },
     "metadata": {},
     "output_type": "display_data"
    }
   ],
   "source": [
    "library(urca)\n",
    "unt_test1=ur.kpss(train_data$production) \n",
    "summary(unt_test1)"
   ]
  },
  {
   "cell_type": "markdown",
   "id": "0b22fc15",
   "metadata": {},
   "source": [
    "#### As can be seen clearly, the production data is not stationary. Therefore, we will need differencing eventually to make the series stationary."
   ]
  },
  {
   "cell_type": "code",
   "execution_count": 463,
   "id": "5eabc394",
   "metadata": {
    "scrolled": true
   },
   "outputs": [
    {
     "data": {
      "text/html": [
       "<table>\n",
       "<thead><tr><th scope=col>date</th><th scope=col>hour</th><th scope=col>production</th><th scope=col>month</th><th scope=col>quart</th><th scope=col>CLOUD_LOW_LAYER_36.25_33</th><th scope=col>CLOUD_LOW_LAYER_36.25_33.25</th><th scope=col>CLOUD_LOW_LAYER_36.25_33.5</th><th scope=col>CLOUD_LOW_LAYER_36.5_33</th><th scope=col>CLOUD_LOW_LAYER_36.5_33.25</th><th scope=col>...</th><th scope=col>TEMP_36.25_33</th><th scope=col>TEMP_36.25_33.25</th><th scope=col>TEMP_36.25_33.5</th><th scope=col>TEMP_36.5_33</th><th scope=col>TEMP_36.5_33.25</th><th scope=col>TEMP_36.5_33.5</th><th scope=col>TEMP_36.75_33</th><th scope=col>TEMP_36.75_33.25</th><th scope=col>TEMP_36.75_33.5</th><th scope=col>diff_series</th></tr></thead>\n",
       "<tbody>\n",
       "\t<tr><td>2021-02-01</td><td>0         </td><td>0.000     </td><td>2         </td><td>1         </td><td> 45       </td><td> 31       </td><td> 3        </td><td>53        </td><td>10        </td><td>...       </td><td>278.620   </td><td>279.080   </td><td>280.130   </td><td>276.110   </td><td>277.770   </td><td>280.650   </td><td>274.830   </td><td>278.170   </td><td>275.730   </td><td>NA        </td></tr>\n",
       "\t<tr><td>2021-02-01</td><td>1         </td><td>0.000     </td><td>2         </td><td>1         </td><td> 44       </td><td> 26       </td><td>19        </td><td>64        </td><td>21        </td><td>...       </td><td>277.950   </td><td>278.950   </td><td>281.050   </td><td>276.130   </td><td>277.640   </td><td>280.380   </td><td>274.710   </td><td>278.250   </td><td>275.540   </td><td>NA        </td></tr>\n",
       "\t<tr><td>2021-02-01</td><td>2         </td><td>0.000     </td><td>2         </td><td>1         </td><td> 37       </td><td> 35       </td><td>35        </td><td>60        </td><td>19        </td><td>...       </td><td>277.368   </td><td>280.028   </td><td>281.858   </td><td>274.988   </td><td>276.928   </td><td>280.148   </td><td>274.638   </td><td>278.268   </td><td>275.448   </td><td>NA        </td></tr>\n",
       "\t<tr><td>2021-02-01</td><td>3         </td><td>0.000     </td><td>2         </td><td>1         </td><td> 43       </td><td> 45       </td><td>46        </td><td>51        </td><td>24        </td><td>...       </td><td>278.405   </td><td>280.555   </td><td>281.695   </td><td>274.565   </td><td>277.075   </td><td>280.405   </td><td>274.535   </td><td>278.015   </td><td>275.685   </td><td>NA        </td></tr>\n",
       "\t<tr><td>2021-02-01</td><td>4         </td><td>0.000     </td><td>2         </td><td>1         </td><td> 72       </td><td> 95       </td><td>46        </td><td>16        </td><td>57        </td><td>...       </td><td>278.512   </td><td>280.742   </td><td>280.662   </td><td>274.822   </td><td>277.292   </td><td>280.082   </td><td>274.362   </td><td>277.902   </td><td>275.592   </td><td>NA        </td></tr>\n",
       "\t<tr><td>2021-02-01</td><td>5         </td><td>0.000     </td><td>2         </td><td>1         </td><td> 69       </td><td> 95       </td><td>31        </td><td>24        </td><td>68        </td><td>...       </td><td>278.064   </td><td>280.494   </td><td>280.294   </td><td>275.064   </td><td>277.504   </td><td>279.474   </td><td>274.064   </td><td>278.194   </td><td>275.714   </td><td>NA        </td></tr>\n",
       "\t<tr><td>2021-02-01</td><td>6         </td><td>0.000     </td><td>2         </td><td>1         </td><td> 75       </td><td> 96       </td><td>53        </td><td>21        </td><td>63        </td><td>...       </td><td>278.624   </td><td>280.684   </td><td>281.474   </td><td>274.854   </td><td>277.074   </td><td>280.054   </td><td>274.024   </td><td>278.464   </td><td>276.564   </td><td>NA        </td></tr>\n",
       "\t<tr><td>2021-02-01</td><td>7         </td><td>0.000     </td><td>2         </td><td>1         </td><td> 79       </td><td> 97       </td><td>65        </td><td>16        </td><td>72        </td><td>...       </td><td>278.692   </td><td>280.732   </td><td>281.522   </td><td>274.532   </td><td>278.342   </td><td>281.502   </td><td>274.262   </td><td>278.482   </td><td>277.002   </td><td>NA        </td></tr>\n",
       "\t<tr><td>2021-02-01</td><td>8         </td><td>0.189     </td><td>2         </td><td>1         </td><td> 83       </td><td> 97       </td><td>60        </td><td>13        </td><td>78        </td><td>...       </td><td>279.296   </td><td>280.806   </td><td>280.616   </td><td>274.506   </td><td>278.626   </td><td>280.996   </td><td>274.166   </td><td>278.676   </td><td>276.626   </td><td>NA        </td></tr>\n",
       "\t<tr><td>2021-02-01</td><td>9         </td><td>1.350     </td><td>2         </td><td>1         </td><td> 86       </td><td> 97       </td><td>67        </td><td>20        </td><td>78        </td><td>...       </td><td>280.070   </td><td>281.090   </td><td>281.930   </td><td>277.250   </td><td>279.430   </td><td>282.220   </td><td>274.580   </td><td>279.150   </td><td>277.820   </td><td>NA        </td></tr>\n",
       "\t<tr><td>2021-02-01</td><td>10        </td><td>1.730     </td><td>2         </td><td>1         </td><td>100       </td><td>100       </td><td>60        </td><td>79        </td><td>95        </td><td>...       </td><td>280.478   </td><td>281.468   </td><td>283.518   </td><td>278.748   </td><td>280.378   </td><td>284.028   </td><td>275.548   </td><td>280.148   </td><td>279.178   </td><td>NA        </td></tr>\n",
       "\t<tr><td>2021-02-01</td><td>11        </td><td>2.730     </td><td>2         </td><td>1         </td><td>100       </td><td>100       </td><td>59        </td><td>71        </td><td>96        </td><td>...       </td><td>280.869   </td><td>281.759   </td><td>284.099   </td><td>279.799   </td><td>281.239   </td><td>285.209   </td><td>275.989   </td><td>280.929   </td><td>279.799   </td><td>NA        </td></tr>\n",
       "\t<tr><td>2021-02-01</td><td>12        </td><td>1.950     </td><td>2         </td><td>1         </td><td> 98       </td><td>100       </td><td>71        </td><td>65        </td><td>98        </td><td>...       </td><td>281.540   </td><td>281.900   </td><td>284.090   </td><td>280.340   </td><td>281.850   </td><td>285.850   </td><td>276.440   </td><td>281.210   </td><td>280.280   </td><td>NA        </td></tr>\n",
       "\t<tr><td>2021-02-01</td><td>13        </td><td>1.350     </td><td>2         </td><td>1         </td><td> 97       </td><td>100       </td><td>69        </td><td>73        </td><td>98        </td><td>...       </td><td>281.768   </td><td>282.078   </td><td>284.658   </td><td>280.298   </td><td>281.858   </td><td>286.528   </td><td>276.698   </td><td>281.408   </td><td>280.538   </td><td>NA        </td></tr>\n",
       "\t<tr><td>2021-02-01</td><td>14        </td><td>2.040     </td><td>2         </td><td>1         </td><td> 97       </td><td>100       </td><td>67        </td><td>73        </td><td>94        </td><td>...       </td><td>281.732   </td><td>282.622   </td><td>284.752   </td><td>280.432   </td><td>282.812   </td><td>286.952   </td><td>276.572   </td><td>282.062   </td><td>281.192   </td><td>NA        </td></tr>\n",
       "\t<tr><td>2021-02-01</td><td>15        </td><td>3.150     </td><td>2         </td><td>1         </td><td> 93       </td><td> 98       </td><td>71        </td><td>77        </td><td>91        </td><td>...       </td><td>282.443   </td><td>283.023   </td><td>284.253   </td><td>280.143   </td><td>283.163   </td><td>286.653   </td><td>276.603   </td><td>282.503   </td><td>281.353   </td><td>NA        </td></tr>\n",
       "\t<tr><td>2021-02-01</td><td>16        </td><td>5.830     </td><td>2         </td><td>1         </td><td> 82       </td><td> 46       </td><td> 6        </td><td>90        </td><td>84        </td><td>...       </td><td>282.509   </td><td>283.229   </td><td>284.619   </td><td>279.719   </td><td>282.909   </td><td>286.089   </td><td>276.509   </td><td>282.479   </td><td>281.089   </td><td>NA        </td></tr>\n",
       "\t<tr><td>2021-02-01</td><td>17        </td><td>1.350     </td><td>2         </td><td>1         </td><td> 58       </td><td> 33       </td><td> 3        </td><td>94        </td><td>65        </td><td>...       </td><td>282.232   </td><td>283.022   </td><td>284.242   </td><td>279.332   </td><td>282.682   </td><td>285.672   </td><td>276.222   </td><td>282.182   </td><td>280.602   </td><td>NA        </td></tr>\n",
       "\t<tr><td>2021-02-01</td><td>18        </td><td>0.000     </td><td>2         </td><td>1         </td><td> 42       </td><td> 23       </td><td> 2        </td><td>73        </td><td>47        </td><td>...       </td><td>280.374   </td><td>281.174   </td><td>282.484   </td><td>278.354   </td><td>280.734   </td><td>283.854   </td><td>275.624   </td><td>280.914   </td><td>279.384   </td><td>NA        </td></tr>\n",
       "\t<tr><td>2021-02-01</td><td>19        </td><td>0.000     </td><td>2         </td><td>1         </td><td> 32       </td><td> 17       </td><td> 1        </td><td>60        </td><td>35        </td><td>...       </td><td>279.180   </td><td>279.900   </td><td>281.210   </td><td>276.920   </td><td>279.170   </td><td>282.549   </td><td>275.220   </td><td>279.540   </td><td>277.770   </td><td>NA        </td></tr>\n",
       "\t<tr><td>2021-02-01</td><td>20        </td><td>0.000     </td><td>2         </td><td>1         </td><td> 25       </td><td> 14       </td><td> 1        </td><td>49        </td><td>28        </td><td>...       </td><td>278.788   </td><td>279.328   </td><td>280.978   </td><td>276.228   </td><td>278.418   </td><td>281.898   </td><td>275.078   </td><td>278.948   </td><td>277.098   </td><td>NA        </td></tr>\n",
       "\t<tr><td>2021-02-01</td><td>21        </td><td>0.000     </td><td>2         </td><td>1         </td><td> 21       </td><td> 11       </td><td> 1        </td><td>41        </td><td>24        </td><td>...       </td><td>278.574   </td><td>279.134   </td><td>280.944   </td><td>275.964   </td><td>278.064   </td><td>281.494   </td><td>274.744   </td><td>278.524   </td><td>276.574   </td><td>NA        </td></tr>\n",
       "\t<tr><td>2021-02-01</td><td>22        </td><td>0.000     </td><td>2         </td><td>1         </td><td>  0       </td><td>  0       </td><td> 0        </td><td> 0        </td><td> 0        </td><td>...       </td><td>278.457   </td><td>279.167   </td><td>280.877   </td><td>275.787   </td><td>277.667   </td><td>281.037   </td><td>274.077   </td><td>278.217   </td><td>276.467   </td><td>NA        </td></tr>\n",
       "\t<tr><td>2021-02-01</td><td>23        </td><td>0.000     </td><td>2         </td><td>1         </td><td>  0       </td><td>  0       </td><td> 0        </td><td> 0        </td><td> 0        </td><td>...       </td><td>278.437   </td><td>279.187   </td><td>280.937   </td><td>275.317   </td><td>277.307   </td><td>280.607   </td><td>273.477   </td><td>277.787   </td><td>276.277   </td><td>NA        </td></tr>\n",
       "\t<tr><td>2021-02-02</td><td>0         </td><td>0.000     </td><td>2         </td><td>1         </td><td>  0       </td><td>  0       </td><td> 0        </td><td> 0        </td><td> 0        </td><td>...       </td><td>278.376   </td><td>279.296   </td><td>280.946   </td><td>274.796   </td><td>276.756   </td><td>280.116   </td><td>273.066   </td><td>277.236   </td><td>275.976   </td><td> 0        </td></tr>\n",
       "</tbody>\n",
       "</table>\n"
      ],
      "text/latex": [
       "\\begin{tabular}{r|llllllllllllllllllllllllllllllllllllllllll}\n",
       " date & hour & production & month & quart & CLOUD\\_LOW\\_LAYER\\_36.25\\_33 & CLOUD\\_LOW\\_LAYER\\_36.25\\_33.25 & CLOUD\\_LOW\\_LAYER\\_36.25\\_33.5 & CLOUD\\_LOW\\_LAYER\\_36.5\\_33 & CLOUD\\_LOW\\_LAYER\\_36.5\\_33.25 & ... & TEMP\\_36.25\\_33 & TEMP\\_36.25\\_33.25 & TEMP\\_36.25\\_33.5 & TEMP\\_36.5\\_33 & TEMP\\_36.5\\_33.25 & TEMP\\_36.5\\_33.5 & TEMP\\_36.75\\_33 & TEMP\\_36.75\\_33.25 & TEMP\\_36.75\\_33.5 & diff\\_series\\\\\n",
       "\\hline\n",
       "\t 2021-02-01 & 0          & 0.000      & 2          & 1          &  45        &  31        &  3         & 53         & 10         & ...        & 278.620    & 279.080    & 280.130    & 276.110    & 277.770    & 280.650    & 274.830    & 278.170    & 275.730    & NA        \\\\\n",
       "\t 2021-02-01 & 1          & 0.000      & 2          & 1          &  44        &  26        & 19         & 64         & 21         & ...        & 277.950    & 278.950    & 281.050    & 276.130    & 277.640    & 280.380    & 274.710    & 278.250    & 275.540    & NA        \\\\\n",
       "\t 2021-02-01 & 2          & 0.000      & 2          & 1          &  37        &  35        & 35         & 60         & 19         & ...        & 277.368    & 280.028    & 281.858    & 274.988    & 276.928    & 280.148    & 274.638    & 278.268    & 275.448    & NA        \\\\\n",
       "\t 2021-02-01 & 3          & 0.000      & 2          & 1          &  43        &  45        & 46         & 51         & 24         & ...        & 278.405    & 280.555    & 281.695    & 274.565    & 277.075    & 280.405    & 274.535    & 278.015    & 275.685    & NA        \\\\\n",
       "\t 2021-02-01 & 4          & 0.000      & 2          & 1          &  72        &  95        & 46         & 16         & 57         & ...        & 278.512    & 280.742    & 280.662    & 274.822    & 277.292    & 280.082    & 274.362    & 277.902    & 275.592    & NA        \\\\\n",
       "\t 2021-02-01 & 5          & 0.000      & 2          & 1          &  69        &  95        & 31         & 24         & 68         & ...        & 278.064    & 280.494    & 280.294    & 275.064    & 277.504    & 279.474    & 274.064    & 278.194    & 275.714    & NA        \\\\\n",
       "\t 2021-02-01 & 6          & 0.000      & 2          & 1          &  75        &  96        & 53         & 21         & 63         & ...        & 278.624    & 280.684    & 281.474    & 274.854    & 277.074    & 280.054    & 274.024    & 278.464    & 276.564    & NA        \\\\\n",
       "\t 2021-02-01 & 7          & 0.000      & 2          & 1          &  79        &  97        & 65         & 16         & 72         & ...        & 278.692    & 280.732    & 281.522    & 274.532    & 278.342    & 281.502    & 274.262    & 278.482    & 277.002    & NA        \\\\\n",
       "\t 2021-02-01 & 8          & 0.189      & 2          & 1          &  83        &  97        & 60         & 13         & 78         & ...        & 279.296    & 280.806    & 280.616    & 274.506    & 278.626    & 280.996    & 274.166    & 278.676    & 276.626    & NA        \\\\\n",
       "\t 2021-02-01 & 9          & 1.350      & 2          & 1          &  86        &  97        & 67         & 20         & 78         & ...        & 280.070    & 281.090    & 281.930    & 277.250    & 279.430    & 282.220    & 274.580    & 279.150    & 277.820    & NA        \\\\\n",
       "\t 2021-02-01 & 10         & 1.730      & 2          & 1          & 100        & 100        & 60         & 79         & 95         & ...        & 280.478    & 281.468    & 283.518    & 278.748    & 280.378    & 284.028    & 275.548    & 280.148    & 279.178    & NA        \\\\\n",
       "\t 2021-02-01 & 11         & 2.730      & 2          & 1          & 100        & 100        & 59         & 71         & 96         & ...        & 280.869    & 281.759    & 284.099    & 279.799    & 281.239    & 285.209    & 275.989    & 280.929    & 279.799    & NA        \\\\\n",
       "\t 2021-02-01 & 12         & 1.950      & 2          & 1          &  98        & 100        & 71         & 65         & 98         & ...        & 281.540    & 281.900    & 284.090    & 280.340    & 281.850    & 285.850    & 276.440    & 281.210    & 280.280    & NA        \\\\\n",
       "\t 2021-02-01 & 13         & 1.350      & 2          & 1          &  97        & 100        & 69         & 73         & 98         & ...        & 281.768    & 282.078    & 284.658    & 280.298    & 281.858    & 286.528    & 276.698    & 281.408    & 280.538    & NA        \\\\\n",
       "\t 2021-02-01 & 14         & 2.040      & 2          & 1          &  97        & 100        & 67         & 73         & 94         & ...        & 281.732    & 282.622    & 284.752    & 280.432    & 282.812    & 286.952    & 276.572    & 282.062    & 281.192    & NA        \\\\\n",
       "\t 2021-02-01 & 15         & 3.150      & 2          & 1          &  93        &  98        & 71         & 77         & 91         & ...        & 282.443    & 283.023    & 284.253    & 280.143    & 283.163    & 286.653    & 276.603    & 282.503    & 281.353    & NA        \\\\\n",
       "\t 2021-02-01 & 16         & 5.830      & 2          & 1          &  82        &  46        &  6         & 90         & 84         & ...        & 282.509    & 283.229    & 284.619    & 279.719    & 282.909    & 286.089    & 276.509    & 282.479    & 281.089    & NA        \\\\\n",
       "\t 2021-02-01 & 17         & 1.350      & 2          & 1          &  58        &  33        &  3         & 94         & 65         & ...        & 282.232    & 283.022    & 284.242    & 279.332    & 282.682    & 285.672    & 276.222    & 282.182    & 280.602    & NA        \\\\\n",
       "\t 2021-02-01 & 18         & 0.000      & 2          & 1          &  42        &  23        &  2         & 73         & 47         & ...        & 280.374    & 281.174    & 282.484    & 278.354    & 280.734    & 283.854    & 275.624    & 280.914    & 279.384    & NA        \\\\\n",
       "\t 2021-02-01 & 19         & 0.000      & 2          & 1          &  32        &  17        &  1         & 60         & 35         & ...        & 279.180    & 279.900    & 281.210    & 276.920    & 279.170    & 282.549    & 275.220    & 279.540    & 277.770    & NA        \\\\\n",
       "\t 2021-02-01 & 20         & 0.000      & 2          & 1          &  25        &  14        &  1         & 49         & 28         & ...        & 278.788    & 279.328    & 280.978    & 276.228    & 278.418    & 281.898    & 275.078    & 278.948    & 277.098    & NA        \\\\\n",
       "\t 2021-02-01 & 21         & 0.000      & 2          & 1          &  21        &  11        &  1         & 41         & 24         & ...        & 278.574    & 279.134    & 280.944    & 275.964    & 278.064    & 281.494    & 274.744    & 278.524    & 276.574    & NA        \\\\\n",
       "\t 2021-02-01 & 22         & 0.000      & 2          & 1          &   0        &   0        &  0         &  0         &  0         & ...        & 278.457    & 279.167    & 280.877    & 275.787    & 277.667    & 281.037    & 274.077    & 278.217    & 276.467    & NA        \\\\\n",
       "\t 2021-02-01 & 23         & 0.000      & 2          & 1          &   0        &   0        &  0         &  0         &  0         & ...        & 278.437    & 279.187    & 280.937    & 275.317    & 277.307    & 280.607    & 273.477    & 277.787    & 276.277    & NA        \\\\\n",
       "\t 2021-02-02 & 0          & 0.000      & 2          & 1          &   0        &   0        &  0         &  0         &  0         & ...        & 278.376    & 279.296    & 280.946    & 274.796    & 276.756    & 280.116    & 273.066    & 277.236    & 275.976    &  0        \\\\\n",
       "\\end{tabular}\n"
      ],
      "text/markdown": [
       "\n",
       "| date | hour | production | month | quart | CLOUD_LOW_LAYER_36.25_33 | CLOUD_LOW_LAYER_36.25_33.25 | CLOUD_LOW_LAYER_36.25_33.5 | CLOUD_LOW_LAYER_36.5_33 | CLOUD_LOW_LAYER_36.5_33.25 | ... | TEMP_36.25_33 | TEMP_36.25_33.25 | TEMP_36.25_33.5 | TEMP_36.5_33 | TEMP_36.5_33.25 | TEMP_36.5_33.5 | TEMP_36.75_33 | TEMP_36.75_33.25 | TEMP_36.75_33.5 | diff_series |\n",
       "|---|---|---|---|---|---|---|---|---|---|---|---|---|---|---|---|---|---|---|---|---|\n",
       "| 2021-02-01 | 0          | 0.000      | 2          | 1          |  45        |  31        |  3         | 53         | 10         | ...        | 278.620    | 279.080    | 280.130    | 276.110    | 277.770    | 280.650    | 274.830    | 278.170    | 275.730    | NA         |\n",
       "| 2021-02-01 | 1          | 0.000      | 2          | 1          |  44        |  26        | 19         | 64         | 21         | ...        | 277.950    | 278.950    | 281.050    | 276.130    | 277.640    | 280.380    | 274.710    | 278.250    | 275.540    | NA         |\n",
       "| 2021-02-01 | 2          | 0.000      | 2          | 1          |  37        |  35        | 35         | 60         | 19         | ...        | 277.368    | 280.028    | 281.858    | 274.988    | 276.928    | 280.148    | 274.638    | 278.268    | 275.448    | NA         |\n",
       "| 2021-02-01 | 3          | 0.000      | 2          | 1          |  43        |  45        | 46         | 51         | 24         | ...        | 278.405    | 280.555    | 281.695    | 274.565    | 277.075    | 280.405    | 274.535    | 278.015    | 275.685    | NA         |\n",
       "| 2021-02-01 | 4          | 0.000      | 2          | 1          |  72        |  95        | 46         | 16         | 57         | ...        | 278.512    | 280.742    | 280.662    | 274.822    | 277.292    | 280.082    | 274.362    | 277.902    | 275.592    | NA         |\n",
       "| 2021-02-01 | 5          | 0.000      | 2          | 1          |  69        |  95        | 31         | 24         | 68         | ...        | 278.064    | 280.494    | 280.294    | 275.064    | 277.504    | 279.474    | 274.064    | 278.194    | 275.714    | NA         |\n",
       "| 2021-02-01 | 6          | 0.000      | 2          | 1          |  75        |  96        | 53         | 21         | 63         | ...        | 278.624    | 280.684    | 281.474    | 274.854    | 277.074    | 280.054    | 274.024    | 278.464    | 276.564    | NA         |\n",
       "| 2021-02-01 | 7          | 0.000      | 2          | 1          |  79        |  97        | 65         | 16         | 72         | ...        | 278.692    | 280.732    | 281.522    | 274.532    | 278.342    | 281.502    | 274.262    | 278.482    | 277.002    | NA         |\n",
       "| 2021-02-01 | 8          | 0.189      | 2          | 1          |  83        |  97        | 60         | 13         | 78         | ...        | 279.296    | 280.806    | 280.616    | 274.506    | 278.626    | 280.996    | 274.166    | 278.676    | 276.626    | NA         |\n",
       "| 2021-02-01 | 9          | 1.350      | 2          | 1          |  86        |  97        | 67         | 20         | 78         | ...        | 280.070    | 281.090    | 281.930    | 277.250    | 279.430    | 282.220    | 274.580    | 279.150    | 277.820    | NA         |\n",
       "| 2021-02-01 | 10         | 1.730      | 2          | 1          | 100        | 100        | 60         | 79         | 95         | ...        | 280.478    | 281.468    | 283.518    | 278.748    | 280.378    | 284.028    | 275.548    | 280.148    | 279.178    | NA         |\n",
       "| 2021-02-01 | 11         | 2.730      | 2          | 1          | 100        | 100        | 59         | 71         | 96         | ...        | 280.869    | 281.759    | 284.099    | 279.799    | 281.239    | 285.209    | 275.989    | 280.929    | 279.799    | NA         |\n",
       "| 2021-02-01 | 12         | 1.950      | 2          | 1          |  98        | 100        | 71         | 65         | 98         | ...        | 281.540    | 281.900    | 284.090    | 280.340    | 281.850    | 285.850    | 276.440    | 281.210    | 280.280    | NA         |\n",
       "| 2021-02-01 | 13         | 1.350      | 2          | 1          |  97        | 100        | 69         | 73         | 98         | ...        | 281.768    | 282.078    | 284.658    | 280.298    | 281.858    | 286.528    | 276.698    | 281.408    | 280.538    | NA         |\n",
       "| 2021-02-01 | 14         | 2.040      | 2          | 1          |  97        | 100        | 67         | 73         | 94         | ...        | 281.732    | 282.622    | 284.752    | 280.432    | 282.812    | 286.952    | 276.572    | 282.062    | 281.192    | NA         |\n",
       "| 2021-02-01 | 15         | 3.150      | 2          | 1          |  93        |  98        | 71         | 77         | 91         | ...        | 282.443    | 283.023    | 284.253    | 280.143    | 283.163    | 286.653    | 276.603    | 282.503    | 281.353    | NA         |\n",
       "| 2021-02-01 | 16         | 5.830      | 2          | 1          |  82        |  46        |  6         | 90         | 84         | ...        | 282.509    | 283.229    | 284.619    | 279.719    | 282.909    | 286.089    | 276.509    | 282.479    | 281.089    | NA         |\n",
       "| 2021-02-01 | 17         | 1.350      | 2          | 1          |  58        |  33        |  3         | 94         | 65         | ...        | 282.232    | 283.022    | 284.242    | 279.332    | 282.682    | 285.672    | 276.222    | 282.182    | 280.602    | NA         |\n",
       "| 2021-02-01 | 18         | 0.000      | 2          | 1          |  42        |  23        |  2         | 73         | 47         | ...        | 280.374    | 281.174    | 282.484    | 278.354    | 280.734    | 283.854    | 275.624    | 280.914    | 279.384    | NA         |\n",
       "| 2021-02-01 | 19         | 0.000      | 2          | 1          |  32        |  17        |  1         | 60         | 35         | ...        | 279.180    | 279.900    | 281.210    | 276.920    | 279.170    | 282.549    | 275.220    | 279.540    | 277.770    | NA         |\n",
       "| 2021-02-01 | 20         | 0.000      | 2          | 1          |  25        |  14        |  1         | 49         | 28         | ...        | 278.788    | 279.328    | 280.978    | 276.228    | 278.418    | 281.898    | 275.078    | 278.948    | 277.098    | NA         |\n",
       "| 2021-02-01 | 21         | 0.000      | 2          | 1          |  21        |  11        |  1         | 41         | 24         | ...        | 278.574    | 279.134    | 280.944    | 275.964    | 278.064    | 281.494    | 274.744    | 278.524    | 276.574    | NA         |\n",
       "| 2021-02-01 | 22         | 0.000      | 2          | 1          |   0        |   0        |  0         |  0         |  0         | ...        | 278.457    | 279.167    | 280.877    | 275.787    | 277.667    | 281.037    | 274.077    | 278.217    | 276.467    | NA         |\n",
       "| 2021-02-01 | 23         | 0.000      | 2          | 1          |   0        |   0        |  0         |  0         |  0         | ...        | 278.437    | 279.187    | 280.937    | 275.317    | 277.307    | 280.607    | 273.477    | 277.787    | 276.277    | NA         |\n",
       "| 2021-02-02 | 0          | 0.000      | 2          | 1          |   0        |   0        |  0         |  0         |  0         | ...        | 278.376    | 279.296    | 280.946    | 274.796    | 276.756    | 280.116    | 273.066    | 277.236    | 275.976    |  0         |\n",
       "\n"
      ],
      "text/plain": [
       "   date       hour production month quart CLOUD_LOW_LAYER_36.25_33\n",
       "1  2021-02-01 0    0.000      2     1      45                     \n",
       "2  2021-02-01 1    0.000      2     1      44                     \n",
       "3  2021-02-01 2    0.000      2     1      37                     \n",
       "4  2021-02-01 3    0.000      2     1      43                     \n",
       "5  2021-02-01 4    0.000      2     1      72                     \n",
       "6  2021-02-01 5    0.000      2     1      69                     \n",
       "7  2021-02-01 6    0.000      2     1      75                     \n",
       "8  2021-02-01 7    0.000      2     1      79                     \n",
       "9  2021-02-01 8    0.189      2     1      83                     \n",
       "10 2021-02-01 9    1.350      2     1      86                     \n",
       "11 2021-02-01 10   1.730      2     1     100                     \n",
       "12 2021-02-01 11   2.730      2     1     100                     \n",
       "13 2021-02-01 12   1.950      2     1      98                     \n",
       "14 2021-02-01 13   1.350      2     1      97                     \n",
       "15 2021-02-01 14   2.040      2     1      97                     \n",
       "16 2021-02-01 15   3.150      2     1      93                     \n",
       "17 2021-02-01 16   5.830      2     1      82                     \n",
       "18 2021-02-01 17   1.350      2     1      58                     \n",
       "19 2021-02-01 18   0.000      2     1      42                     \n",
       "20 2021-02-01 19   0.000      2     1      32                     \n",
       "21 2021-02-01 20   0.000      2     1      25                     \n",
       "22 2021-02-01 21   0.000      2     1      21                     \n",
       "23 2021-02-01 22   0.000      2     1       0                     \n",
       "24 2021-02-01 23   0.000      2     1       0                     \n",
       "25 2021-02-02 0    0.000      2     1       0                     \n",
       "   CLOUD_LOW_LAYER_36.25_33.25 CLOUD_LOW_LAYER_36.25_33.5\n",
       "1   31                          3                        \n",
       "2   26                         19                        \n",
       "3   35                         35                        \n",
       "4   45                         46                        \n",
       "5   95                         46                        \n",
       "6   95                         31                        \n",
       "7   96                         53                        \n",
       "8   97                         65                        \n",
       "9   97                         60                        \n",
       "10  97                         67                        \n",
       "11 100                         60                        \n",
       "12 100                         59                        \n",
       "13 100                         71                        \n",
       "14 100                         69                        \n",
       "15 100                         67                        \n",
       "16  98                         71                        \n",
       "17  46                          6                        \n",
       "18  33                          3                        \n",
       "19  23                          2                        \n",
       "20  17                          1                        \n",
       "21  14                          1                        \n",
       "22  11                          1                        \n",
       "23   0                          0                        \n",
       "24   0                          0                        \n",
       "25   0                          0                        \n",
       "   CLOUD_LOW_LAYER_36.5_33 CLOUD_LOW_LAYER_36.5_33.25 ... TEMP_36.25_33\n",
       "1  53                      10                         ... 278.620      \n",
       "2  64                      21                         ... 277.950      \n",
       "3  60                      19                         ... 277.368      \n",
       "4  51                      24                         ... 278.405      \n",
       "5  16                      57                         ... 278.512      \n",
       "6  24                      68                         ... 278.064      \n",
       "7  21                      63                         ... 278.624      \n",
       "8  16                      72                         ... 278.692      \n",
       "9  13                      78                         ... 279.296      \n",
       "10 20                      78                         ... 280.070      \n",
       "11 79                      95                         ... 280.478      \n",
       "12 71                      96                         ... 280.869      \n",
       "13 65                      98                         ... 281.540      \n",
       "14 73                      98                         ... 281.768      \n",
       "15 73                      94                         ... 281.732      \n",
       "16 77                      91                         ... 282.443      \n",
       "17 90                      84                         ... 282.509      \n",
       "18 94                      65                         ... 282.232      \n",
       "19 73                      47                         ... 280.374      \n",
       "20 60                      35                         ... 279.180      \n",
       "21 49                      28                         ... 278.788      \n",
       "22 41                      24                         ... 278.574      \n",
       "23  0                       0                         ... 278.457      \n",
       "24  0                       0                         ... 278.437      \n",
       "25  0                       0                         ... 278.376      \n",
       "   TEMP_36.25_33.25 TEMP_36.25_33.5 TEMP_36.5_33 TEMP_36.5_33.25 TEMP_36.5_33.5\n",
       "1  279.080          280.130         276.110      277.770         280.650       \n",
       "2  278.950          281.050         276.130      277.640         280.380       \n",
       "3  280.028          281.858         274.988      276.928         280.148       \n",
       "4  280.555          281.695         274.565      277.075         280.405       \n",
       "5  280.742          280.662         274.822      277.292         280.082       \n",
       "6  280.494          280.294         275.064      277.504         279.474       \n",
       "7  280.684          281.474         274.854      277.074         280.054       \n",
       "8  280.732          281.522         274.532      278.342         281.502       \n",
       "9  280.806          280.616         274.506      278.626         280.996       \n",
       "10 281.090          281.930         277.250      279.430         282.220       \n",
       "11 281.468          283.518         278.748      280.378         284.028       \n",
       "12 281.759          284.099         279.799      281.239         285.209       \n",
       "13 281.900          284.090         280.340      281.850         285.850       \n",
       "14 282.078          284.658         280.298      281.858         286.528       \n",
       "15 282.622          284.752         280.432      282.812         286.952       \n",
       "16 283.023          284.253         280.143      283.163         286.653       \n",
       "17 283.229          284.619         279.719      282.909         286.089       \n",
       "18 283.022          284.242         279.332      282.682         285.672       \n",
       "19 281.174          282.484         278.354      280.734         283.854       \n",
       "20 279.900          281.210         276.920      279.170         282.549       \n",
       "21 279.328          280.978         276.228      278.418         281.898       \n",
       "22 279.134          280.944         275.964      278.064         281.494       \n",
       "23 279.167          280.877         275.787      277.667         281.037       \n",
       "24 279.187          280.937         275.317      277.307         280.607       \n",
       "25 279.296          280.946         274.796      276.756         280.116       \n",
       "   TEMP_36.75_33 TEMP_36.75_33.25 TEMP_36.75_33.5 diff_series\n",
       "1  274.830       278.170          275.730         NA         \n",
       "2  274.710       278.250          275.540         NA         \n",
       "3  274.638       278.268          275.448         NA         \n",
       "4  274.535       278.015          275.685         NA         \n",
       "5  274.362       277.902          275.592         NA         \n",
       "6  274.064       278.194          275.714         NA         \n",
       "7  274.024       278.464          276.564         NA         \n",
       "8  274.262       278.482          277.002         NA         \n",
       "9  274.166       278.676          276.626         NA         \n",
       "10 274.580       279.150          277.820         NA         \n",
       "11 275.548       280.148          279.178         NA         \n",
       "12 275.989       280.929          279.799         NA         \n",
       "13 276.440       281.210          280.280         NA         \n",
       "14 276.698       281.408          280.538         NA         \n",
       "15 276.572       282.062          281.192         NA         \n",
       "16 276.603       282.503          281.353         NA         \n",
       "17 276.509       282.479          281.089         NA         \n",
       "18 276.222       282.182          280.602         NA         \n",
       "19 275.624       280.914          279.384         NA         \n",
       "20 275.220       279.540          277.770         NA         \n",
       "21 275.078       278.948          277.098         NA         \n",
       "22 274.744       278.524          276.574         NA         \n",
       "23 274.077       278.217          276.467         NA         \n",
       "24 273.477       277.787          276.277         NA         \n",
       "25 273.066       277.236          275.976          0         "
      ]
     },
     "metadata": {},
     "output_type": "display_data"
    }
   ],
   "source": [
    "train_data[,diff_series:=production-shift(production,24)]\n",
    "#From the autocorrelation function above, we can see the daily seasonality, and therefore we have obtained 24 lagged values\n",
    "head(train_data,25)"
   ]
  },
  {
   "cell_type": "code",
   "execution_count": 464,
   "id": "0a2ea61c",
   "metadata": {},
   "outputs": [
    {
     "data": {
      "text/plain": [
       "\n",
       "####################### \n",
       "# KPSS Unit Root Test # \n",
       "####################### \n",
       "\n",
       "Test is of type: mu with 12 lags. \n",
       "\n",
       "Value of test-statistic is: 0.0303 \n",
       "\n",
       "Critical value for a significance level of: \n",
       "                10pct  5pct 2.5pct  1pct\n",
       "critical values 0.347 0.463  0.574 0.739\n"
      ]
     },
     "metadata": {},
     "output_type": "display_data"
    }
   ],
   "source": [
    "library(urca)\n",
    "\n",
    "unt_test1=ur.kpss(train_data$diff_series) \n",
    "summary(unt_test1)"
   ]
  },
  {
   "cell_type": "markdown",
   "id": "cc9f0fe5",
   "metadata": {},
   "source": [
    "The test-statistic is below all the critical values meaning that further differencing is not required."
   ]
  },
  {
   "cell_type": "markdown",
   "id": "469b0027",
   "metadata": {},
   "source": [
    "There is still remarkable auto-correlation and partial auto-correlation at lag 24. However, it can be handled by an AR model with seasonal component 24."
   ]
  },
  {
   "cell_type": "code",
   "execution_count": 465,
   "id": "8090890d",
   "metadata": {
    "scrolled": true
   },
   "outputs": [
    {
     "name": "stdout",
     "output_type": "stream",
     "text": [
      "\n",
      " Fitting models using approximations to speed things up...\n",
      "\n",
      " ARIMA(2,0,2) with non-zero mean : 50518.63\n",
      " ARIMA(0,0,0) with non-zero mean : 58604.59\n",
      " ARIMA(1,0,0) with non-zero mean : 50674.02\n",
      " ARIMA(0,0,1) with non-zero mean : 53065.32\n",
      " ARIMA(0,0,0) with zero mean     : 58602.64\n",
      " ARIMA(1,0,2) with non-zero mean : 50514.93\n",
      " ARIMA(0,0,2) with non-zero mean : 51459.56\n",
      " ARIMA(1,0,1) with non-zero mean : 50514.03\n",
      " ARIMA(2,0,1) with non-zero mean : 50516.05\n",
      " ARIMA(2,0,0) with non-zero mean : 50524.87\n",
      " ARIMA(1,0,1) with zero mean     : 50512.03\n",
      " ARIMA(0,0,1) with zero mean     : 53063.35\n",
      " ARIMA(1,0,0) with zero mean     : 50672.03\n",
      " ARIMA(2,0,1) with zero mean     : 50514.06\n",
      " ARIMA(1,0,2) with zero mean     : 50512.94\n",
      " ARIMA(0,0,2) with zero mean     : 51457.58\n",
      " ARIMA(2,0,0) with zero mean     : 50522.88\n",
      " ARIMA(2,0,2) with zero mean     : 50516.63\n",
      "\n",
      " Now re-fitting the best model(s) without approximations...\n",
      "\n",
      " ARIMA(1,0,1) with zero mean     : 50511.93\n",
      "\n",
      " Best model: ARIMA(1,0,1) with zero mean     \n",
      "\n"
     ]
    },
    {
     "data": {
      "text/plain": [
       "Series: train_data$diff_series \n",
       "ARIMA(1,0,1) with zero mean \n",
       "\n",
       "Coefficients:\n",
       "         ar1     ma1\n",
       "      0.6847  0.1764\n",
       "s.e.  0.0099  0.0135\n",
       "\n",
       "sigma^2 estimated as 13.65:  log likelihood=-25252.96\n",
       "AIC=50511.92   AICc=50511.93   BIC=50533.33"
      ]
     },
     "metadata": {},
     "output_type": "display_data"
    }
   ],
   "source": [
    "#SARIMA MODEL\n",
    "sarima_model=auto.arima(train_data$diff_series,seasonal=T,trace=T,stepwise=T,approximation=T)\n",
    "sarima_model"
   ]
  },
  {
   "cell_type": "code",
   "execution_count": 466,
   "id": "f0ecf90f",
   "metadata": {},
   "outputs": [
    {
     "name": "stdout",
     "output_type": "stream",
     "text": [
      "\n",
      "\tLjung-Box test\n",
      "\n",
      "data:  Residuals from ARIMA(1,0,1) with zero mean\n",
      "Q* = 34.842, df = 8, p-value = 2.857e-05\n",
      "\n",
      "Model df: 2.   Total lags used: 10\n",
      "\n"
     ]
    },
    {
     "data": {
      "image/png": "[encoded data removed]",
      "text/plain": [
       "plot without title"
      ]
     },
     "metadata": {},
     "output_type": "display_data"
    }
   ],
   "source": [
    "checkresiduals(sarima_model)"
   ]
  },
  {
   "cell_type": "markdown",
   "id": "ac3142eb",
   "metadata": {},
   "source": [
    "Compared to the previous ACF plot of the pure production series, there is a significant reduction in the auto-correlation at lag 24.\n",
    "The residuals seem to be distributed normally on the other hand. However, the frequency of value '0' is extremely high."
   ]
  },
  {
   "cell_type": "code",
   "execution_count": 467,
   "id": "b482d58f",
   "metadata": {},
   "outputs": [],
   "source": [
    "predicted_diff = forecast(sarima_model, nrow(test_data))\n"
   ]
  },
  {
   "cell_type": "code",
   "execution_count": 468,
   "id": "ba56e37c",
   "metadata": {
    "scrolled": true
   },
   "outputs": [],
   "source": [
    "forecasts[,pred_sarima:=as.numeric(predicted_diff$mean)+shift(production,24)]\n"
   ]
  },
  {
   "cell_type": "code",
   "execution_count": 469,
   "id": "60e0a9f8",
   "metadata": {},
   "outputs": [
    {
     "data": {
      "text/html": [
       "<table>\n",
       "<thead><tr><th></th><th scope=col>production</th><th scope=col>CLOUD_LOW_LAYER_36.5_33.25</th><th scope=col>DSWRF_36.5_33.25</th><th scope=col>REL_HUMIDITY_36.5_33.25</th><th scope=col>TEMP_36.25_33.25</th></tr></thead>\n",
       "<tbody>\n",
       "\t<tr><th scope=row>production</th><td> 1.0000000</td><td>-0.1897240</td><td> 0.6868236</td><td>-0.4866605</td><td> 0.4538170</td></tr>\n",
       "\t<tr><th scope=row>CLOUD_LOW_LAYER_36.5_33.25</th><td>-0.1897240</td><td> 1.0000000</td><td>-0.1695533</td><td> 0.5070154</td><td>-0.3004625</td></tr>\n",
       "\t<tr><th scope=row>DSWRF_36.5_33.25</th><td> 0.6868236</td><td>-0.1695533</td><td> 1.0000000</td><td>-0.5880281</td><td> 0.4879438</td></tr>\n",
       "\t<tr><th scope=row>REL_HUMIDITY_36.5_33.25</th><td>-0.4866605</td><td> 0.5070154</td><td>-0.5880281</td><td> 1.0000000</td><td>-0.7395490</td></tr>\n",
       "\t<tr><th scope=row>TEMP_36.25_33.25</th><td> 0.4538170</td><td>-0.3004625</td><td> 0.4879438</td><td>-0.7395490</td><td> 1.0000000</td></tr>\n",
       "</tbody>\n",
       "</table>\n"
      ],
      "text/latex": [
       "\\begin{tabular}{r|lllll}\n",
       "  & production & CLOUD\\_LOW\\_LAYER\\_36.5\\_33.25 & DSWRF\\_36.5\\_33.25 & REL\\_HUMIDITY\\_36.5\\_33.25 & TEMP\\_36.25\\_33.25\\\\\n",
       "\\hline\n",
       "\tproduction &  1.0000000 & -0.1897240 &  0.6868236 & -0.4866605 &  0.4538170\\\\\n",
       "\tCLOUD\\_LOW\\_LAYER\\_36.5\\_33.25 & -0.1897240 &  1.0000000 & -0.1695533 &  0.5070154 & -0.3004625\\\\\n",
       "\tDSWRF\\_36.5\\_33.25 &  0.6868236 & -0.1695533 &  1.0000000 & -0.5880281 &  0.4879438\\\\\n",
       "\tREL\\_HUMIDITY\\_36.5\\_33.25 & -0.4866605 &  0.5070154 & -0.5880281 &  1.0000000 & -0.7395490\\\\\n",
       "\tTEMP\\_36.25\\_33.25 &  0.4538170 & -0.3004625 &  0.4879438 & -0.7395490 &  1.0000000\\\\\n",
       "\\end{tabular}\n"
      ],
      "text/markdown": [
       "\n",
       "| <!--/--> | production | CLOUD_LOW_LAYER_36.5_33.25 | DSWRF_36.5_33.25 | REL_HUMIDITY_36.5_33.25 | TEMP_36.25_33.25 |\n",
       "|---|---|---|---|---|---|\n",
       "| production |  1.0000000 | -0.1897240 |  0.6868236 | -0.4866605 |  0.4538170 |\n",
       "| CLOUD_LOW_LAYER_36.5_33.25 | -0.1897240 |  1.0000000 | -0.1695533 |  0.5070154 | -0.3004625 |\n",
       "| DSWRF_36.5_33.25 |  0.6868236 | -0.1695533 |  1.0000000 | -0.5880281 |  0.4879438 |\n",
       "| REL_HUMIDITY_36.5_33.25 | -0.4866605 |  0.5070154 | -0.5880281 |  1.0000000 | -0.7395490 |\n",
       "| TEMP_36.25_33.25 |  0.4538170 | -0.3004625 |  0.4879438 | -0.7395490 |  1.0000000 |\n",
       "\n"
      ],
      "text/plain": [
       "                           production CLOUD_LOW_LAYER_36.5_33.25\n",
       "production                  1.0000000 -0.1897240                \n",
       "CLOUD_LOW_LAYER_36.5_33.25 -0.1897240  1.0000000                \n",
       "DSWRF_36.5_33.25            0.6868236 -0.1695533                \n",
       "REL_HUMIDITY_36.5_33.25    -0.4866605  0.5070154                \n",
       "TEMP_36.25_33.25            0.4538170 -0.3004625                \n",
       "                           DSWRF_36.5_33.25 REL_HUMIDITY_36.5_33.25\n",
       "production                  0.6868236       -0.4866605             \n",
       "CLOUD_LOW_LAYER_36.5_33.25 -0.1695533        0.5070154             \n",
       "DSWRF_36.5_33.25            1.0000000       -0.5880281             \n",
       "REL_HUMIDITY_36.5_33.25    -0.5880281        1.0000000             \n",
       "TEMP_36.25_33.25            0.4879438       -0.7395490             \n",
       "                           TEMP_36.25_33.25\n",
       "production                  0.4538170      \n",
       "CLOUD_LOW_LAYER_36.5_33.25 -0.3004625      \n",
       "DSWRF_36.5_33.25            0.4879438      \n",
       "REL_HUMIDITY_36.5_33.25    -0.7395490      \n",
       "TEMP_36.25_33.25            1.0000000      "
      ]
     },
     "metadata": {},
     "output_type": "display_data"
    },
    {
     "data": {
      "text/html": [
       "<table>\n",
       "<thead><tr><th scope=col>date</th><th scope=col>hour</th><th scope=col>production</th><th scope=col>month</th><th scope=col>quart</th></tr></thead>\n",
       "<tbody>\n",
       "\t<tr><td>2021-02-01</td><td>0         </td><td>0         </td><td>2         </td><td>1         </td></tr>\n",
       "\t<tr><td>2021-02-01</td><td>1         </td><td>0         </td><td>2         </td><td>1         </td></tr>\n",
       "\t<tr><td>2021-02-01</td><td>2         </td><td>0         </td><td>2         </td><td>1         </td></tr>\n",
       "\t<tr><td>2021-02-01</td><td>3         </td><td>0         </td><td>2         </td><td>1         </td></tr>\n",
       "\t<tr><td>2021-02-01</td><td>4         </td><td>0         </td><td>2         </td><td>1         </td></tr>\n",
       "\t<tr><td>2021-02-01</td><td>5         </td><td>0         </td><td>2         </td><td>1         </td></tr>\n",
       "</tbody>\n",
       "</table>\n"
      ],
      "text/latex": [
       "\\begin{tabular}{r|lllll}\n",
       " date & hour & production & month & quart\\\\\n",
       "\\hline\n",
       "\t 2021-02-01 & 0          & 0          & 2          & 1         \\\\\n",
       "\t 2021-02-01 & 1          & 0          & 2          & 1         \\\\\n",
       "\t 2021-02-01 & 2          & 0          & 2          & 1         \\\\\n",
       "\t 2021-02-01 & 3          & 0          & 2          & 1         \\\\\n",
       "\t 2021-02-01 & 4          & 0          & 2          & 1         \\\\\n",
       "\t 2021-02-01 & 5          & 0          & 2          & 1         \\\\\n",
       "\\end{tabular}\n"
      ],
      "text/markdown": [
       "\n",
       "| date | hour | production | month | quart |\n",
       "|---|---|---|---|---|\n",
       "| 2021-02-01 | 0          | 0          | 2          | 1          |\n",
       "| 2021-02-01 | 1          | 0          | 2          | 1          |\n",
       "| 2021-02-01 | 2          | 0          | 2          | 1          |\n",
       "| 2021-02-01 | 3          | 0          | 2          | 1          |\n",
       "| 2021-02-01 | 4          | 0          | 2          | 1          |\n",
       "| 2021-02-01 | 5          | 0          | 2          | 1          |\n",
       "\n"
      ],
      "text/plain": [
       "  date       hour production month quart\n",
       "1 2021-02-01 0    0          2     1    \n",
       "2 2021-02-01 1    0          2     1    \n",
       "3 2021-02-01 2    0          2     1    \n",
       "4 2021-02-01 3    0          2     1    \n",
       "5 2021-02-01 4    0          2     1    \n",
       "6 2021-02-01 5    0          2     1    "
      ]
     },
     "metadata": {},
     "output_type": "display_data"
    }
   ],
   "source": [
    "cor(production_with_weather[,c(3,10,19,28,34)])\n",
    "head(production)"
   ]
  },
  {
   "cell_type": "markdown",
   "id": "a483dc9d",
   "metadata": {},
   "source": [
    "### It is seen that DSWRF variable is highly correlated with the production. Thus, using it as an external regressor in a sarima model would improve our predictions."
   ]
  },
  {
   "cell_type": "code",
   "execution_count": 470,
   "id": "67585644",
   "metadata": {},
   "outputs": [
    {
     "data": {
      "text/html": [
       "<table>\n",
       "<thead><tr><th scope=col>date</th><th scope=col>hour</th><th scope=col>production</th><th scope=col>month</th><th scope=col>quart</th><th scope=col>CLOUD_LOW_LAYER_36.25_33</th><th scope=col>CLOUD_LOW_LAYER_36.25_33.25</th><th scope=col>CLOUD_LOW_LAYER_36.25_33.5</th><th scope=col>CLOUD_LOW_LAYER_36.5_33</th><th scope=col>CLOUD_LOW_LAYER_36.5_33.25</th><th scope=col>...</th><th scope=col>TEMP_36.25_33.25</th><th scope=col>TEMP_36.25_33.5</th><th scope=col>TEMP_36.5_33</th><th scope=col>TEMP_36.5_33.25</th><th scope=col>TEMP_36.5_33.5</th><th scope=col>TEMP_36.75_33</th><th scope=col>TEMP_36.75_33.25</th><th scope=col>TEMP_36.75_33.5</th><th scope=col>diff_series</th><th scope=col>dwsrf_diff</th></tr></thead>\n",
       "<tbody>\n",
       "\t<tr><td>2022-02-28</td><td>18        </td><td>0.62      </td><td>2         </td><td>1         </td><td> 98.6     </td><td>97.6      </td><td> 98.0     </td><td>100       </td><td> 70.5     </td><td>...       </td><td>281.123   </td><td>282.703   </td><td>278.263   </td><td>280.753   </td><td>284.883   </td><td>276.243   </td><td>280.233   </td><td>278.173   </td><td>-0.32     </td><td>-230.740  </td></tr>\n",
       "\t<tr><td>2022-02-28</td><td>19        </td><td>0.00      </td><td>2         </td><td>1         </td><td> 98.8     </td><td>98.2      </td><td> 98.4     </td><td>100       </td><td> 77.9     </td><td>...       </td><td>281.164   </td><td>282.414   </td><td>278.164   </td><td>280.504   </td><td>283.854   </td><td>276.294   </td><td>280.224   </td><td>277.924   </td><td> 0.00     </td><td>-175.540  </td></tr>\n",
       "\t<tr><td>2022-02-28</td><td>20        </td><td>0.00      </td><td>2         </td><td>1         </td><td> 99.1     </td><td>98.6      </td><td> 98.7     </td><td>100       </td><td> 82.3     </td><td>...       </td><td>281.300   </td><td>282.600   </td><td>278.000   </td><td>280.700   </td><td>283.800   </td><td>276.200   </td><td>279.900   </td><td>277.900   </td><td> 0.00     </td><td>-140.440  </td></tr>\n",
       "\t<tr><td>2022-02-28</td><td>21        </td><td>0.00      </td><td>2         </td><td>1         </td><td> 99.2     </td><td>98.8      </td><td> 99.0     </td><td>100       </td><td> 85.3     </td><td>...       </td><td>281.214   </td><td>282.714   </td><td>278.014   </td><td>280.214   </td><td>283.614   </td><td>276.214   </td><td>279.714   </td><td>277.914   </td><td> 0.00     </td><td>-117.024  </td></tr>\n",
       "\t<tr><td>2022-02-28</td><td>22        </td><td>0.00      </td><td>2         </td><td>1         </td><td>100.0     </td><td>99.7      </td><td>100.0     </td><td>100       </td><td>100.0     </td><td>...       </td><td>281.292   </td><td>282.792   </td><td>278.292   </td><td>280.592   </td><td>283.592   </td><td>276.292   </td><td>279.692   </td><td>277.992   </td><td> 0.00     </td><td>   0.000  </td></tr>\n",
       "\t<tr><td>2022-02-28</td><td>23        </td><td>0.00      </td><td>2         </td><td>1         </td><td> 98.8     </td><td>98.5      </td><td>100.0     </td><td>100       </td><td>100.0     </td><td>...       </td><td>281.160   </td><td>282.860   </td><td>278.560   </td><td>280.360   </td><td>283.360   </td><td>276.360   </td><td>279.660   </td><td>278.260   </td><td> 0.00     </td><td>   0.000  </td></tr>\n",
       "</tbody>\n",
       "</table>\n"
      ],
      "text/latex": [
       "\\begin{tabular}{r|lllllllllllllllllllllllllllllllllllllllllll}\n",
       " date & hour & production & month & quart & CLOUD\\_LOW\\_LAYER\\_36.25\\_33 & CLOUD\\_LOW\\_LAYER\\_36.25\\_33.25 & CLOUD\\_LOW\\_LAYER\\_36.25\\_33.5 & CLOUD\\_LOW\\_LAYER\\_36.5\\_33 & CLOUD\\_LOW\\_LAYER\\_36.5\\_33.25 & ... & TEMP\\_36.25\\_33.25 & TEMP\\_36.25\\_33.5 & TEMP\\_36.5\\_33 & TEMP\\_36.5\\_33.25 & TEMP\\_36.5\\_33.5 & TEMP\\_36.75\\_33 & TEMP\\_36.75\\_33.25 & TEMP\\_36.75\\_33.5 & diff\\_series & dwsrf\\_diff\\\\\n",
       "\\hline\n",
       "\t 2022-02-28 & 18         & 0.62       & 2          & 1          &  98.6      & 97.6       &  98.0      & 100        &  70.5      & ...        & 281.123    & 282.703    & 278.263    & 280.753    & 284.883    & 276.243    & 280.233    & 278.173    & -0.32      & -230.740  \\\\\n",
       "\t 2022-02-28 & 19         & 0.00       & 2          & 1          &  98.8      & 98.2       &  98.4      & 100        &  77.9      & ...        & 281.164    & 282.414    & 278.164    & 280.504    & 283.854    & 276.294    & 280.224    & 277.924    &  0.00      & -175.540  \\\\\n",
       "\t 2022-02-28 & 20         & 0.00       & 2          & 1          &  99.1      & 98.6       &  98.7      & 100        &  82.3      & ...        & 281.300    & 282.600    & 278.000    & 280.700    & 283.800    & 276.200    & 279.900    & 277.900    &  0.00      & -140.440  \\\\\n",
       "\t 2022-02-28 & 21         & 0.00       & 2          & 1          &  99.2      & 98.8       &  99.0      & 100        &  85.3      & ...        & 281.214    & 282.714    & 278.014    & 280.214    & 283.614    & 276.214    & 279.714    & 277.914    &  0.00      & -117.024  \\\\\n",
       "\t 2022-02-28 & 22         & 0.00       & 2          & 1          & 100.0      & 99.7       & 100.0      & 100        & 100.0      & ...        & 281.292    & 282.792    & 278.292    & 280.592    & 283.592    & 276.292    & 279.692    & 277.992    &  0.00      &    0.000  \\\\\n",
       "\t 2022-02-28 & 23         & 0.00       & 2          & 1          &  98.8      & 98.5       & 100.0      & 100        & 100.0      & ...        & 281.160    & 282.860    & 278.560    & 280.360    & 283.360    & 276.360    & 279.660    & 278.260    &  0.00      &    0.000  \\\\\n",
       "\\end{tabular}\n"
      ],
      "text/markdown": [
       "\n",
       "| date | hour | production | month | quart | CLOUD_LOW_LAYER_36.25_33 | CLOUD_LOW_LAYER_36.25_33.25 | CLOUD_LOW_LAYER_36.25_33.5 | CLOUD_LOW_LAYER_36.5_33 | CLOUD_LOW_LAYER_36.5_33.25 | ... | TEMP_36.25_33.25 | TEMP_36.25_33.5 | TEMP_36.5_33 | TEMP_36.5_33.25 | TEMP_36.5_33.5 | TEMP_36.75_33 | TEMP_36.75_33.25 | TEMP_36.75_33.5 | diff_series | dwsrf_diff |\n",
       "|---|---|---|---|---|---|---|---|---|---|---|---|---|---|---|---|---|---|---|---|---|\n",
       "| 2022-02-28 | 18         | 0.62       | 2          | 1          |  98.6      | 97.6       |  98.0      | 100        |  70.5      | ...        | 281.123    | 282.703    | 278.263    | 280.753    | 284.883    | 276.243    | 280.233    | 278.173    | -0.32      | -230.740   |\n",
       "| 2022-02-28 | 19         | 0.00       | 2          | 1          |  98.8      | 98.2       |  98.4      | 100        |  77.9      | ...        | 281.164    | 282.414    | 278.164    | 280.504    | 283.854    | 276.294    | 280.224    | 277.924    |  0.00      | -175.540   |\n",
       "| 2022-02-28 | 20         | 0.00       | 2          | 1          |  99.1      | 98.6       |  98.7      | 100        |  82.3      | ...        | 281.300    | 282.600    | 278.000    | 280.700    | 283.800    | 276.200    | 279.900    | 277.900    |  0.00      | -140.440   |\n",
       "| 2022-02-28 | 21         | 0.00       | 2          | 1          |  99.2      | 98.8       |  99.0      | 100        |  85.3      | ...        | 281.214    | 282.714    | 278.014    | 280.214    | 283.614    | 276.214    | 279.714    | 277.914    |  0.00      | -117.024   |\n",
       "| 2022-02-28 | 22         | 0.00       | 2          | 1          | 100.0      | 99.7       | 100.0      | 100        | 100.0      | ...        | 281.292    | 282.792    | 278.292    | 280.592    | 283.592    | 276.292    | 279.692    | 277.992    |  0.00      |    0.000   |\n",
       "| 2022-02-28 | 23         | 0.00       | 2          | 1          |  98.8      | 98.5       | 100.0      | 100        | 100.0      | ...        | 281.160    | 282.860    | 278.560    | 280.360    | 283.360    | 276.360    | 279.660    | 278.260    |  0.00      |    0.000   |\n",
       "\n"
      ],
      "text/plain": [
       "  date       hour production month quart CLOUD_LOW_LAYER_36.25_33\n",
       "1 2022-02-28 18   0.62       2     1      98.6                   \n",
       "2 2022-02-28 19   0.00       2     1      98.8                   \n",
       "3 2022-02-28 20   0.00       2     1      99.1                   \n",
       "4 2022-02-28 21   0.00       2     1      99.2                   \n",
       "5 2022-02-28 22   0.00       2     1     100.0                   \n",
       "6 2022-02-28 23   0.00       2     1      98.8                   \n",
       "  CLOUD_LOW_LAYER_36.25_33.25 CLOUD_LOW_LAYER_36.25_33.5\n",
       "1 97.6                         98.0                     \n",
       "2 98.2                         98.4                     \n",
       "3 98.6                         98.7                     \n",
       "4 98.8                         99.0                     \n",
       "5 99.7                        100.0                     \n",
       "6 98.5                        100.0                     \n",
       "  CLOUD_LOW_LAYER_36.5_33 CLOUD_LOW_LAYER_36.5_33.25 ... TEMP_36.25_33.25\n",
       "1 100                      70.5                      ... 281.123         \n",
       "2 100                      77.9                      ... 281.164         \n",
       "3 100                      82.3                      ... 281.300         \n",
       "4 100                      85.3                      ... 281.214         \n",
       "5 100                     100.0                      ... 281.292         \n",
       "6 100                     100.0                      ... 281.160         \n",
       "  TEMP_36.25_33.5 TEMP_36.5_33 TEMP_36.5_33.25 TEMP_36.5_33.5 TEMP_36.75_33\n",
       "1 282.703         278.263      280.753         284.883        276.243      \n",
       "2 282.414         278.164      280.504         283.854        276.294      \n",
       "3 282.600         278.000      280.700         283.800        276.200      \n",
       "4 282.714         278.014      280.214         283.614        276.214      \n",
       "5 282.792         278.292      280.592         283.592        276.292      \n",
       "6 282.860         278.560      280.360         283.360        276.360      \n",
       "  TEMP_36.75_33.25 TEMP_36.75_33.5 diff_series dwsrf_diff\n",
       "1 280.233          278.173         -0.32       -230.740  \n",
       "2 280.224          277.924          0.00       -175.540  \n",
       "3 279.900          277.900          0.00       -140.440  \n",
       "4 279.714          277.914          0.00       -117.024  \n",
       "5 279.692          277.992          0.00          0.000  \n",
       "6 279.660          278.260          0.00          0.000  "
      ]
     },
     "metadata": {},
     "output_type": "display_data"
    }
   ],
   "source": [
    "#SARIMAX\n",
    "train_data[,dwsrf_diff:=`DSWRF_36.5_33.25`-shift(`DSWRF_36.5_33.25`,24)]\n",
    "tail(train_data)"
   ]
  },
  {
   "cell_type": "code",
   "execution_count": 471,
   "id": "330f03ae",
   "metadata": {
    "scrolled": true
   },
   "outputs": [],
   "source": [
    "reg_matrix=cbind(train_data$dwsrf_diff)"
   ]
  },
  {
   "cell_type": "code",
   "execution_count": 472,
   "id": "4600c41b",
   "metadata": {
    "scrolled": true
   },
   "outputs": [
    {
     "name": "stdout",
     "output_type": "stream",
     "text": [
      "\n",
      " Fitting models using approximations to speed things up...\n",
      "\n",
      " ARIMA(2,0,2) with non-zero mean : 50370.4\n",
      " ARIMA(0,0,0) with non-zero mean : 57141.94\n",
      " ARIMA(1,0,0) with non-zero mean : 50534.86\n",
      " ARIMA(0,0,1) with non-zero mean : 52257.75\n",
      " ARIMA(0,0,0) with zero mean     : 57140.03\n",
      " ARIMA(1,0,2) with non-zero mean : 50367.39\n",
      " ARIMA(0,0,2) with non-zero mean : 51011.01\n",
      " ARIMA(1,0,1) with non-zero mean : 50365.59\n",
      " ARIMA(2,0,1) with non-zero mean : 50368.39\n",
      " ARIMA(2,0,0) with non-zero mean : 50374.62\n",
      " ARIMA(1,0,1) with zero mean     : 50363.6\n",
      " ARIMA(0,0,1) with zero mean     : 52255.79\n",
      " ARIMA(1,0,0) with zero mean     : 50532.87\n",
      " ARIMA(2,0,1) with zero mean     : 50366.4\n",
      " ARIMA(1,0,2) with zero mean     : 50365.4\n",
      " ARIMA(0,0,2) with zero mean     : 51009.03\n",
      " ARIMA(2,0,0) with zero mean     : 50372.63\n",
      " ARIMA(2,0,2) with zero mean     : 50368.42\n",
      "\n",
      " Now re-fitting the best model(s) without approximations...\n",
      "\n",
      " ARIMA(1,0,1) with zero mean     : 50363.4\n",
      "\n",
      " Best model: Regression with ARIMA(1,0,1) errors \n",
      "\n"
     ]
    },
    {
     "data": {
      "text/plain": [
       "Series: train_data$diff_series \n",
       "Regression with ARIMA(1,0,1) errors \n",
       "\n",
       "Coefficients:\n",
       "         ar1     ma1    xreg\n",
       "      0.6431  0.1871  0.0128\n",
       "s.e.  0.0112  0.0139  0.0010\n",
       "\n",
       "sigma^2 estimated as 13.44:  log likelihood=-25177.7\n",
       "AIC=50363.4   AICc=50363.4   BIC=50391.93"
      ]
     },
     "metadata": {},
     "output_type": "display_data"
    }
   ],
   "source": [
    "sarimax_model= auto.arima(train_data$diff_series,xreg=reg_matrix,seasonal=T,trace=T,stepwise=T,approximation=T)\n",
    "sarimax_model"
   ]
  },
  {
   "cell_type": "code",
   "execution_count": 473,
   "id": "681282aa",
   "metadata": {
    "scrolled": true
   },
   "outputs": [
    {
     "name": "stderr",
     "output_type": "stream",
     "text": [
      "Warning message in forecast.forecast_ARIMA(sarimax_model, xreg = reg_matrix, h = nrow(test_data)):\n",
      "\"Upper prediction intervals are not finite.\""
     ]
    }
   ],
   "source": [
    "forecas=forecast(sarimax_model,xreg=reg_matrix,h=nrow(test_data))\n"
   ]
  },
  {
   "cell_type": "markdown",
   "id": "827f9e1c",
   "metadata": {},
   "source": [
    "## 4. Results"
   ]
  },
  {
   "cell_type": "code",
   "execution_count": 474,
   "id": "88c7c8c1",
   "metadata": {
    "scrolled": true
   },
   "outputs": [],
   "source": [
    "forecasts[,pred_sarimax:=as.numeric(forecas$mean[25:2064])+shift(production,24)]\n"
   ]
  },
  {
   "cell_type": "code",
   "execution_count": 475,
   "id": "2ef3f6ad",
   "metadata": {},
   "outputs": [],
   "source": [
    "accu=function(actual,forecast){\n",
    "  n=length(actual)\n",
    "  error=actual-forecast\n",
    "  mean=mean(actual)\n",
    "  sd=sd(actual)\n",
    "  CV=sd/mean\n",
    "  FBias=sum(error)/sum(actual)\n",
    "  MAPE=sum(abs(error/actual))/n\n",
    "  RMSE=sqrt(sum(error^2)/n)\n",
    "  MAD=sum(abs(error))/n\n",
    "  MADP=sum(abs(error))/sum(abs(actual))\n",
    "  WMAPE=MAD/mean\n",
    "  l=data.frame(n,mean,sd,CV,FBias,MAPE,RMSE,MAD,MADP,WMAPE)\n",
    "  return(l)\n",
    "}"
   ]
  },
  {
   "cell_type": "code",
   "execution_count": 476,
   "id": "014a16ed",
   "metadata": {},
   "outputs": [
    {
     "data": {
      "text/html": [
       "<table>\n",
       "<thead><tr><th scope=col>n</th><th scope=col>mean</th><th scope=col>sd</th><th scope=col>CV</th><th scope=col>FBias</th><th scope=col>MAPE</th><th scope=col>RMSE</th><th scope=col>MAD</th><th scope=col>MADP</th><th scope=col>WMAPE</th></tr></thead>\n",
       "<tbody>\n",
       "\t<tr><td>2040     </td><td>12.13835 </td><td>14.68011 </td><td>1.209399 </td><td>0.3211616</td><td>Inf      </td><td>10.34309 </td><td>7.426233 </td><td>0.6117991</td><td>0.6117991</td></tr>\n",
       "</tbody>\n",
       "</table>\n"
      ],
      "text/latex": [
       "\\begin{tabular}{r|llllllllll}\n",
       " n & mean & sd & CV & FBias & MAPE & RMSE & MAD & MADP & WMAPE\\\\\n",
       "\\hline\n",
       "\t 2040      & 12.13835  & 14.68011  & 1.209399  & 0.3211616 & Inf       & 10.34309  & 7.426233  & 0.6117991 & 0.6117991\\\\\n",
       "\\end{tabular}\n"
      ],
      "text/markdown": [
       "\n",
       "| n | mean | sd | CV | FBias | MAPE | RMSE | MAD | MADP | WMAPE |\n",
       "|---|---|---|---|---|---|---|---|---|---|\n",
       "| 2040      | 12.13835  | 14.68011  | 1.209399  | 0.3211616 | Inf       | 10.34309  | 7.426233  | 0.6117991 | 0.6117991 |\n",
       "\n"
      ],
      "text/plain": [
       "  n    mean     sd       CV       FBias     MAPE RMSE     MAD      MADP     \n",
       "1 2040 12.13835 14.68011 1.209399 0.3211616 Inf  10.34309 7.426233 0.6117991\n",
       "  WMAPE    \n",
       "1 0.6117991"
      ]
     },
     "metadata": {},
     "output_type": "display_data"
    }
   ],
   "source": [
    "accu(forecasts$production,forecasts$pred_lm)"
   ]
  },
  {
   "cell_type": "code",
   "execution_count": 477,
   "id": "f847caa2",
   "metadata": {},
   "outputs": [
    {
     "data": {
      "text/html": [
       "<table>\n",
       "<thead><tr><th scope=col>n</th><th scope=col>mean</th><th scope=col>sd</th><th scope=col>CV</th><th scope=col>FBias</th><th scope=col>MAPE</th><th scope=col>RMSE</th><th scope=col>MAD</th><th scope=col>MADP</th><th scope=col>WMAPE</th></tr></thead>\n",
       "<tbody>\n",
       "\t<tr><td>2040     </td><td>12.13835 </td><td>14.68011 </td><td>1.209399 </td><td>0.2758685</td><td>Inf      </td><td>6.553564 </td><td>4.959768 </td><td>0.408603 </td><td>0.408603 </td></tr>\n",
       "</tbody>\n",
       "</table>\n"
      ],
      "text/latex": [
       "\\begin{tabular}{r|llllllllll}\n",
       " n & mean & sd & CV & FBias & MAPE & RMSE & MAD & MADP & WMAPE\\\\\n",
       "\\hline\n",
       "\t 2040      & 12.13835  & 14.68011  & 1.209399  & 0.2758685 & Inf       & 6.553564  & 4.959768  & 0.408603  & 0.408603 \\\\\n",
       "\\end{tabular}\n"
      ],
      "text/markdown": [
       "\n",
       "| n | mean | sd | CV | FBias | MAPE | RMSE | MAD | MADP | WMAPE |\n",
       "|---|---|---|---|---|---|---|---|---|---|\n",
       "| 2040      | 12.13835  | 14.68011  | 1.209399  | 0.2758685 | Inf       | 6.553564  | 4.959768  | 0.408603  | 0.408603  |\n",
       "\n"
      ],
      "text/plain": [
       "  n    mean     sd       CV       FBias     MAPE RMSE     MAD      MADP    \n",
       "1 2040 12.13835 14.68011 1.209399 0.2758685 Inf  6.553564 4.959768 0.408603\n",
       "  WMAPE   \n",
       "1 0.408603"
      ]
     },
     "metadata": {},
     "output_type": "display_data"
    }
   ],
   "source": [
    "accu(forecasts$production,forecasts$pred_lm_hourly)"
   ]
  },
  {
   "cell_type": "code",
   "execution_count": 478,
   "id": "ead27f61",
   "metadata": {},
   "outputs": [
    {
     "data": {
      "text/html": [
       "<table>\n",
       "<thead><tr><th scope=col>n</th><th scope=col>mean</th><th scope=col>sd</th><th scope=col>CV</th><th scope=col>FBias</th><th scope=col>MAPE</th><th scope=col>RMSE</th><th scope=col>MAD</th><th scope=col>MADP</th><th scope=col>WMAPE</th></tr></thead>\n",
       "<tbody>\n",
       "\t<tr><td>2040    </td><td>12.13835</td><td>14.68011</td><td>1.209399</td><td>1.000834</td><td>Inf     </td><td>19.05217</td><td>12.14847</td><td>1.000834</td><td>1.000834</td></tr>\n",
       "</tbody>\n",
       "</table>\n"
      ],
      "text/latex": [
       "\\begin{tabular}{r|llllllllll}\n",
       " n & mean & sd & CV & FBias & MAPE & RMSE & MAD & MADP & WMAPE\\\\\n",
       "\\hline\n",
       "\t 2040     & 12.13835 & 14.68011 & 1.209399 & 1.000834 & Inf      & 19.05217 & 12.14847 & 1.000834 & 1.000834\\\\\n",
       "\\end{tabular}\n"
      ],
      "text/markdown": [
       "\n",
       "| n | mean | sd | CV | FBias | MAPE | RMSE | MAD | MADP | WMAPE |\n",
       "|---|---|---|---|---|---|---|---|---|---|\n",
       "| 2040     | 12.13835 | 14.68011 | 1.209399 | 1.000834 | Inf      | 19.05217 | 12.14847 | 1.000834 | 1.000834 |\n",
       "\n"
      ],
      "text/plain": [
       "  n    mean     sd       CV       FBias    MAPE RMSE     MAD      MADP    \n",
       "1 2040 12.13835 14.68011 1.209399 1.000834 Inf  19.05217 12.14847 1.000834\n",
       "  WMAPE   \n",
       "1 1.000834"
      ]
     },
     "metadata": {},
     "output_type": "display_data"
    }
   ],
   "source": [
    "accu(forecasts$production,forecasts$pred_arima)"
   ]
  },
  {
   "cell_type": "code",
   "execution_count": 479,
   "id": "f2fe6713",
   "metadata": {},
   "outputs": [
    {
     "data": {
      "text/html": [
       "<table>\n",
       "<thead><tr><th scope=col>n</th><th scope=col>mean</th><th scope=col>sd</th><th scope=col>CV</th><th scope=col>FBias</th><th scope=col>MAPE</th><th scope=col>RMSE</th><th scope=col>MAD</th><th scope=col>MADP</th><th scope=col>WMAPE</th></tr></thead>\n",
       "<tbody>\n",
       "\t<tr><td>2016       </td><td>12.22011   </td><td>14.72311   </td><td>1.204826   </td><td>0.009566995</td><td>Inf        </td><td>7.171208   </td><td>3.145203   </td><td>0.2573793  </td><td>0.2573793  </td></tr>\n",
       "</tbody>\n",
       "</table>\n"
      ],
      "text/latex": [
       "\\begin{tabular}{r|llllllllll}\n",
       " n & mean & sd & CV & FBias & MAPE & RMSE & MAD & MADP & WMAPE\\\\\n",
       "\\hline\n",
       "\t 2016        & 12.22011    & 14.72311    & 1.204826    & 0.009566995 & Inf         & 7.171208    & 3.145203    & 0.2573793   & 0.2573793  \\\\\n",
       "\\end{tabular}\n"
      ],
      "text/markdown": [
       "\n",
       "| n | mean | sd | CV | FBias | MAPE | RMSE | MAD | MADP | WMAPE |\n",
       "|---|---|---|---|---|---|---|---|---|---|\n",
       "| 2016        | 12.22011    | 14.72311    | 1.204826    | 0.009566995 | Inf         | 7.171208    | 3.145203    | 0.2573793   | 0.2573793   |\n",
       "\n"
      ],
      "text/plain": [
       "  n    mean     sd       CV       FBias       MAPE RMSE     MAD      MADP     \n",
       "1 2016 12.22011 14.72311 1.204826 0.009566995 Inf  7.171208 3.145203 0.2573793\n",
       "  WMAPE    \n",
       "1 0.2573793"
      ]
     },
     "metadata": {},
     "output_type": "display_data"
    }
   ],
   "source": [
    "accu(forecasts$production[-c(1:24)],forecasts$pred_sarima[-c(1:24)])"
   ]
  },
  {
   "cell_type": "code",
   "execution_count": 480,
   "id": "0d275248",
   "metadata": {},
   "outputs": [
    {
     "data": {
      "text/html": [
       "<table>\n",
       "<thead><tr><th scope=col>n</th><th scope=col>mean</th><th scope=col>sd</th><th scope=col>CV</th><th scope=col>FBias</th><th scope=col>MAPE</th><th scope=col>RMSE</th><th scope=col>MAD</th><th scope=col>MADP</th><th scope=col>WMAPE</th></tr></thead>\n",
       "<tbody>\n",
       "\t<tr><td>2016       </td><td>12.22011   </td><td>14.72311   </td><td>1.204826   </td><td>0.006969189</td><td>Inf        </td><td>7.231148   </td><td>3.405736   </td><td>0.2786993  </td><td>0.2786993  </td></tr>\n",
       "</tbody>\n",
       "</table>\n"
      ],
      "text/latex": [
       "\\begin{tabular}{r|llllllllll}\n",
       " n & mean & sd & CV & FBias & MAPE & RMSE & MAD & MADP & WMAPE\\\\\n",
       "\\hline\n",
       "\t 2016        & 12.22011    & 14.72311    & 1.204826    & 0.006969189 & Inf         & 7.231148    & 3.405736    & 0.2786993   & 0.2786993  \\\\\n",
       "\\end{tabular}\n"
      ],
      "text/markdown": [
       "\n",
       "| n | mean | sd | CV | FBias | MAPE | RMSE | MAD | MADP | WMAPE |\n",
       "|---|---|---|---|---|---|---|---|---|---|\n",
       "| 2016        | 12.22011    | 14.72311    | 1.204826    | 0.006969189 | Inf         | 7.231148    | 3.405736    | 0.2786993   | 0.2786993   |\n",
       "\n"
      ],
      "text/plain": [
       "  n    mean     sd       CV       FBias       MAPE RMSE     MAD      MADP     \n",
       "1 2016 12.22011 14.72311 1.204826 0.006969189 Inf  7.231148 3.405736 0.2786993\n",
       "  WMAPE    \n",
       "1 0.2786993"
      ]
     },
     "metadata": {},
     "output_type": "display_data"
    }
   ],
   "source": [
    "accu(forecasts$production[-c(1:24)],forecasts$pred_sarimax[-c(1:24)])"
   ]
  },
  {
   "cell_type": "markdown",
   "id": "d2b6fa50",
   "metadata": {},
   "source": [
    "## 5. Conclusions and Future Work"
   ]
  },
  {
   "cell_type": "markdown",
   "id": "f7457b26",
   "metadata": {},
   "source": [
    "### At the very beginning, we have visualized data to understand general patterns. With the decomposition of the time series, we have found apparent trend cycles and seasonalities. These findings have been used while forming linear regression models. \n",
    "\n",
    "### To have a wider understanding, after the regression model, we have used time series analyses methods. When the production amounts are investigated via unit root test, it is seen that the time series is not stationary which meant that differencing is required. In order to find the appropriate lag to make the series stationary, we checked the corresponding ACF plot and we saw that at lag 24, the auto-correlation made a peak. Therefore, we used seasonal differencing at lag 24.\n",
    "\n",
    "## Possible Improvements\n",
    "\n",
    "### At first, in data manipulation process, outlier detection might have improved our results due to the improved quality of the dataset.\n",
    "### Second, there are NA values in the data which we simply excluded/eliminated. However, to impute those NA values and use them would be a better approach overall since we would not have lost a large amount of data.\n",
    "### Third, auto.arima function does not span the whole solution space since it is very time consuming. Benefiting from the related correlation and auto correlation plots, to select reasonable parameter values for the models could have given better results.\n",
    "### Lastly, while making forecasts with ARIMA models, it would give better results to use our forecasts as new data points to shed light onto the following predictions. Since, it is time consuming to build a new ARIMA model at each step and assuming that one data point would not make a big difference, we built our models with the non-changing train set and made predictions forward with the same models."
   ]
  },
  {
   "cell_type": "markdown",
   "id": "10267325",
   "metadata": {},
   "source": [
    "## 6. Code"
   ]
  }
 ],
 "metadata": {
  "kernelspec": {
   "display_name": "R",
   "language": "R",
   "name": "ir"
  },
  "language_info": {
   "codemirror_mode": "r",
   "file_extension": ".r",
   "mimetype": "text/x-r-source",
   "name": "R",
   "pygments_lexer": "r",
   "version": "3.6.1"
  }
 },
 "nbformat": 4,
 "nbformat_minor": 5
}
