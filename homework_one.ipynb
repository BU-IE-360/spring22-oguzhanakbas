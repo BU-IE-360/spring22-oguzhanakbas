{
 "cells": [
  {
   "cell_type": "markdown",
   "id": "27771f14",
   "metadata": {},
   "source": [
    "##### ~Oğuzhan Akbaş\n",
    "###### IE360 - Spring'22"
   ]
  },
  {
   "cell_type": "markdown",
   "id": "d359eaed",
   "metadata": {},
   "source": [
    "\n",
    "# Homework One"
   ]
  },
  {
   "cell_type": "markdown",
   "id": "8b80d13e",
   "metadata": {},
   "source": [
    "   ## 1. Required Packages"
   ]
  },
  {
   "cell_type": "code",
   "execution_count": 28,
   "id": "c331eee6",
   "metadata": {},
   "outputs": [
    {
     "name": "stderr",
     "output_type": "stream",
     "text": [
      "Registered S3 method overwritten by 'GGally':\n",
      "  method from   \n",
      "  +.gg   ggplot2\n"
     ]
    }
   ],
   "source": [
    "library(readxl)\n",
    "require(data.table)\n",
    "library(ggplot2)\n",
    "library(GGally)\n",
    "library(dplyr)\n",
    "library(tidyr)\n",
    "library(lubridate)\n",
    "library(RColorBrewer)\n",
    "library(zoo)"
   ]
  },
  {
   "cell_type": "markdown",
   "id": "336671f3",
   "metadata": {},
   "source": [
    "## 2. Manipulation and Preparation of Data"
   ]
  },
  {
   "cell_type": "markdown",
   "id": "89bf4fcf",
   "metadata": {},
   "source": [
    "### 2.1 Preparation of Car Production Rate Data"
   ]
  },
  {
   "cell_type": "markdown",
   "id": "988c8a5b",
   "metadata": {},
   "source": [
    "#### 3 Data are selected from three different categories which are Exchange Rates, Production and Tourism\n",
    "##### The data are Dollar/TL Rate, Total Car Production in Turkey and Number of Tourists Visiting Turkey Each Year, respectively"
   ]
  },
  {
   "cell_type": "code",
   "execution_count": 2,
   "id": "c5229446",
   "metadata": {},
   "outputs": [
    {
     "name": "stderr",
     "output_type": "stream",
     "text": [
      "New names:\n",
      "* `` -> ...3\n"
     ]
    },
    {
     "data": {
      "text/html": [
       "<ol class=list-inline>\n",
       "\t<li>'Tarih'</li>\n",
       "\t<li>'TP UR S08'</li>\n",
       "\t<li>'...3'</li>\n",
       "</ol>\n"
      ],
      "text/latex": [
       "\\begin{enumerate*}\n",
       "\\item 'Tarih'\n",
       "\\item 'TP UR S08'\n",
       "\\item '...3'\n",
       "\\end{enumerate*}\n"
      ],
      "text/markdown": [
       "1. 'Tarih'\n",
       "2. 'TP UR S08'\n",
       "3. '...3'\n",
       "\n",
       "\n"
      ],
      "text/plain": [
       "[1] \"Tarih\"     \"TP UR S08\" \"...3\"     "
      ]
     },
     "metadata": {},
     "output_type": "display_data"
    },
    {
     "data": {
      "text/html": [
       "<ol class=list-inline>\n",
       "\t<li>'Date'</li>\n",
       "\t<li>'Car_Production_Amount'</li>\n",
       "\t<li>'drop'</li>\n",
       "</ol>\n"
      ],
      "text/latex": [
       "\\begin{enumerate*}\n",
       "\\item 'Date'\n",
       "\\item 'Car\\_Production\\_Amount'\n",
       "\\item 'drop'\n",
       "\\end{enumerate*}\n"
      ],
      "text/markdown": [
       "1. 'Date'\n",
       "2. 'Car_Production_Amount'\n",
       "3. 'drop'\n",
       "\n",
       "\n"
      ],
      "text/plain": [
       "[1] \"Date\"                  \"Car_Production_Amount\" \"drop\"                 "
      ]
     },
     "metadata": {},
     "output_type": "display_data"
    },
    {
     "name": "stdout",
     "output_type": "stream",
     "text": [
      "tibble [119 x 2] (S3: tbl_df/tbl/data.frame)\n",
      " $ Date                 : chr [1:119] \"2012-04\" \"2012-05\" \"2012-06\" \"2012-07\" ...\n",
      " $ Car_Production_Amount: chr [1:119] \"48800\" \"55662\" \"49982\" \"43819\" ...\n",
      "tibble [119 x 2] (S3: tbl_df/tbl/data.frame)\n",
      " $ Date                 : Date[1:119], format: \"2012-04-01\" \"2012-05-01\" ...\n",
      " $ Car_Production_Amount: chr [1:119] \"48800\" \"55662\" \"49982\" \"43819\" ...\n"
     ]
    },
    {
     "data": {
      "text/html": [
       "<table>\n",
       "<thead><tr><th scope=col>Date</th><th scope=col>Car_Production_Amount</th><th scope=col>Month</th></tr></thead>\n",
       "<tbody>\n",
       "\t<tr><td>2012-04-01</td><td>48800     </td><td> 4        </td></tr>\n",
       "\t<tr><td>2012-05-01</td><td>55662     </td><td> 5        </td></tr>\n",
       "\t<tr><td>2012-06-01</td><td>49982     </td><td> 6        </td></tr>\n",
       "\t<tr><td>2012-07-01</td><td>43819     </td><td> 7        </td></tr>\n",
       "\t<tr><td>2012-08-01</td><td>21157     </td><td> 8        </td></tr>\n",
       "\t<tr><td>2012-09-01</td><td>54295     </td><td> 9        </td></tr>\n",
       "\t<tr><td>2012-10-01</td><td>51226     </td><td>10        </td></tr>\n",
       "\t<tr><td>2012-11-01</td><td>53168     </td><td>11        </td></tr>\n",
       "\t<tr><td>2012-12-01</td><td>44708     </td><td>12        </td></tr>\n",
       "\t<tr><td>2013-01-01</td><td>40071     </td><td> 1        </td></tr>\n",
       "</tbody>\n",
       "</table>\n"
      ],
      "text/latex": [
       "\\begin{tabular}{r|lll}\n",
       " Date & Car\\_Production\\_Amount & Month\\\\\n",
       "\\hline\n",
       "\t 2012-04-01 & 48800      &  4        \\\\\n",
       "\t 2012-05-01 & 55662      &  5        \\\\\n",
       "\t 2012-06-01 & 49982      &  6        \\\\\n",
       "\t 2012-07-01 & 43819      &  7        \\\\\n",
       "\t 2012-08-01 & 21157      &  8        \\\\\n",
       "\t 2012-09-01 & 54295      &  9        \\\\\n",
       "\t 2012-10-01 & 51226      & 10        \\\\\n",
       "\t 2012-11-01 & 53168      & 11        \\\\\n",
       "\t 2012-12-01 & 44708      & 12        \\\\\n",
       "\t 2013-01-01 & 40071      &  1        \\\\\n",
       "\\end{tabular}\n"
      ],
      "text/markdown": [
       "\n",
       "| Date | Car_Production_Amount | Month |\n",
       "|---|---|---|\n",
       "| 2012-04-01 | 48800      |  4         |\n",
       "| 2012-05-01 | 55662      |  5         |\n",
       "| 2012-06-01 | 49982      |  6         |\n",
       "| 2012-07-01 | 43819      |  7         |\n",
       "| 2012-08-01 | 21157      |  8         |\n",
       "| 2012-09-01 | 54295      |  9         |\n",
       "| 2012-10-01 | 51226      | 10         |\n",
       "| 2012-11-01 | 53168      | 11         |\n",
       "| 2012-12-01 | 44708      | 12         |\n",
       "| 2013-01-01 | 40071      |  1         |\n",
       "\n"
      ],
      "text/plain": [
       "   Date       Car_Production_Amount Month\n",
       "1  2012-04-01 48800                  4   \n",
       "2  2012-05-01 55662                  5   \n",
       "3  2012-06-01 49982                  6   \n",
       "4  2012-07-01 43819                  7   \n",
       "5  2012-08-01 21157                  8   \n",
       "6  2012-09-01 54295                  9   \n",
       "7  2012-10-01 51226                 10   \n",
       "8  2012-11-01 53168                 11   \n",
       "9  2012-12-01 44708                 12   \n",
       "10 2013-01-01 40071                  1   "
      ]
     },
     "metadata": {},
     "output_type": "display_data"
    },
    {
     "name": "stdout",
     "output_type": "stream",
     "text": [
      "tibble [119 x 3] (S3: tbl_df/tbl/data.frame)\n",
      " $ Date                 : Date[1:119], format: \"2012-04-01\" \"2012-05-01\" ...\n",
      " $ Car_Production_Amount: num [1:119] 48800 55662 49982 43819 21157 ...\n",
      " $ Month                : num [1:119] 4 5 6 7 8 9 10 11 12 1 ...\n"
     ]
    }
   ],
   "source": [
    "\n",
    "\n",
    "#Automobile Production in Turkey Data Preparation\n",
    "\n",
    "auto = read_excel(\"C://Users//akbas//Desktop//IE360//Homework 01//automobile.xlsx\")\n",
    "names(auto)\n",
    "colnames(auto) = c('Date', 'Car_Production_Amount', 'drop')\n",
    "names(auto)\n",
    "\n",
    "#### We want our data from three different categories to have the same corresponding dates\n",
    "#### We want to delete the irrelevant rows and columns\n",
    "auto = subset(auto, select = -c(drop))\n",
    "auto = auto[-c(120:132),]\n",
    "\n",
    "#changing the type of Date attribute\n",
    "str(auto)\n",
    "auto = auto%>% mutate(Date=as.Date(as.yearmon(Date)))\n",
    "str(auto)\n",
    "\n",
    "auto = auto[complete.cases(auto),]\n",
    "auto$Month=month(auto$Date)\n",
    "auto$Date = as.Date(auto$Date)\n",
    "auto$Car_Production_Amount = as.numeric(auto$Car_Production_Amount)\n",
    "\n",
    "head(auto,10)\n",
    "\n",
    "str(auto)\n"
   ]
  },
  {
   "cell_type": "code",
   "execution_count": 3,
   "id": "f12b9fc0",
   "metadata": {},
   "outputs": [
    {
     "data": {
      "text/html": [
       "<ol class=list-inline>\n",
       "\t<li><time datetime=\"2012-04-01\">2012-04-01</time></li>\n",
       "\t<li><time datetime=\"2012-05-01\">2012-05-01</time></li>\n",
       "\t<li><time datetime=\"2012-06-01\">2012-06-01</time></li>\n",
       "\t<li><time datetime=\"2012-07-01\">2012-07-01</time></li>\n",
       "\t<li><time datetime=\"2012-08-01\">2012-08-01</time></li>\n",
       "\t<li><time datetime=\"2012-09-01\">2012-09-01</time></li>\n",
       "\t<li><time datetime=\"2012-10-01\">2012-10-01</time></li>\n",
       "\t<li><time datetime=\"2012-11-01\">2012-11-01</time></li>\n",
       "\t<li><time datetime=\"2012-12-01\">2012-12-01</time></li>\n",
       "\t<li><time datetime=\"2013-01-01\">2013-01-01</time></li>\n",
       "\t<li><time datetime=\"2013-02-01\">2013-02-01</time></li>\n",
       "\t<li><time datetime=\"2013-03-01\">2013-03-01</time></li>\n",
       "\t<li><time datetime=\"2013-04-01\">2013-04-01</time></li>\n",
       "\t<li><time datetime=\"2013-05-01\">2013-05-01</time></li>\n",
       "\t<li><time datetime=\"2013-06-01\">2013-06-01</time></li>\n",
       "\t<li><time datetime=\"2013-07-01\">2013-07-01</time></li>\n",
       "\t<li><time datetime=\"2013-08-01\">2013-08-01</time></li>\n",
       "\t<li><time datetime=\"2013-09-01\">2013-09-01</time></li>\n",
       "\t<li><time datetime=\"2013-10-01\">2013-10-01</time></li>\n",
       "\t<li><time datetime=\"2013-11-01\">2013-11-01</time></li>\n",
       "\t<li><time datetime=\"2013-12-01\">2013-12-01</time></li>\n",
       "\t<li><time datetime=\"2014-01-01\">2014-01-01</time></li>\n",
       "\t<li><time datetime=\"2014-02-01\">2014-02-01</time></li>\n",
       "\t<li><time datetime=\"2014-03-01\">2014-03-01</time></li>\n",
       "\t<li><time datetime=\"2014-04-01\">2014-04-01</time></li>\n",
       "\t<li><time datetime=\"2014-05-01\">2014-05-01</time></li>\n",
       "\t<li><time datetime=\"2014-06-01\">2014-06-01</time></li>\n",
       "\t<li><time datetime=\"2014-07-01\">2014-07-01</time></li>\n",
       "\t<li><time datetime=\"2014-08-01\">2014-08-01</time></li>\n",
       "\t<li><time datetime=\"2014-09-01\">2014-09-01</time></li>\n",
       "\t<li><time datetime=\"2014-10-01\">2014-10-01</time></li>\n",
       "\t<li><time datetime=\"2014-11-01\">2014-11-01</time></li>\n",
       "\t<li><time datetime=\"2014-12-01\">2014-12-01</time></li>\n",
       "\t<li><time datetime=\"2015-01-01\">2015-01-01</time></li>\n",
       "\t<li><time datetime=\"2015-02-01\">2015-02-01</time></li>\n",
       "\t<li><time datetime=\"2015-03-01\">2015-03-01</time></li>\n",
       "\t<li><time datetime=\"2015-04-01\">2015-04-01</time></li>\n",
       "\t<li><time datetime=\"2015-05-01\">2015-05-01</time></li>\n",
       "\t<li><time datetime=\"2015-06-01\">2015-06-01</time></li>\n",
       "\t<li><time datetime=\"2015-07-01\">2015-07-01</time></li>\n",
       "\t<li><time datetime=\"2015-08-01\">2015-08-01</time></li>\n",
       "\t<li><time datetime=\"2015-09-01\">2015-09-01</time></li>\n",
       "\t<li><time datetime=\"2015-10-01\">2015-10-01</time></li>\n",
       "\t<li><time datetime=\"2015-11-01\">2015-11-01</time></li>\n",
       "\t<li><time datetime=\"2015-12-01\">2015-12-01</time></li>\n",
       "\t<li><time datetime=\"2016-01-01\">2016-01-01</time></li>\n",
       "\t<li><time datetime=\"2016-02-01\">2016-02-01</time></li>\n",
       "\t<li><time datetime=\"2016-03-01\">2016-03-01</time></li>\n",
       "\t<li><time datetime=\"2016-04-01\">2016-04-01</time></li>\n",
       "\t<li><time datetime=\"2016-05-01\">2016-05-01</time></li>\n",
       "\t<li><time datetime=\"2016-06-01\">2016-06-01</time></li>\n",
       "\t<li><time datetime=\"2016-07-01\">2016-07-01</time></li>\n",
       "\t<li><time datetime=\"2016-08-01\">2016-08-01</time></li>\n",
       "\t<li><time datetime=\"2016-09-01\">2016-09-01</time></li>\n",
       "\t<li><time datetime=\"2016-10-01\">2016-10-01</time></li>\n",
       "\t<li><time datetime=\"2016-11-01\">2016-11-01</time></li>\n",
       "\t<li><time datetime=\"2016-12-01\">2016-12-01</time></li>\n",
       "\t<li><time datetime=\"2017-01-01\">2017-01-01</time></li>\n",
       "\t<li><time datetime=\"2017-02-01\">2017-02-01</time></li>\n",
       "\t<li><time datetime=\"2017-03-01\">2017-03-01</time></li>\n",
       "\t<li><time datetime=\"2017-04-01\">2017-04-01</time></li>\n",
       "\t<li><time datetime=\"2017-05-01\">2017-05-01</time></li>\n",
       "\t<li><time datetime=\"2017-06-01\">2017-06-01</time></li>\n",
       "\t<li><time datetime=\"2017-07-01\">2017-07-01</time></li>\n",
       "\t<li><time datetime=\"2017-08-01\">2017-08-01</time></li>\n",
       "\t<li><time datetime=\"2017-09-01\">2017-09-01</time></li>\n",
       "\t<li><time datetime=\"2017-10-01\">2017-10-01</time></li>\n",
       "\t<li><time datetime=\"2017-11-01\">2017-11-01</time></li>\n",
       "\t<li><time datetime=\"2017-12-01\">2017-12-01</time></li>\n",
       "\t<li><time datetime=\"2018-01-01\">2018-01-01</time></li>\n",
       "\t<li><time datetime=\"2018-02-01\">2018-02-01</time></li>\n",
       "\t<li><time datetime=\"2018-03-01\">2018-03-01</time></li>\n",
       "\t<li><time datetime=\"2018-04-01\">2018-04-01</time></li>\n",
       "\t<li><time datetime=\"2018-05-01\">2018-05-01</time></li>\n",
       "\t<li><time datetime=\"2018-06-01\">2018-06-01</time></li>\n",
       "\t<li><time datetime=\"2018-07-01\">2018-07-01</time></li>\n",
       "\t<li><time datetime=\"2018-08-01\">2018-08-01</time></li>\n",
       "\t<li><time datetime=\"2018-09-01\">2018-09-01</time></li>\n",
       "\t<li><time datetime=\"2018-10-01\">2018-10-01</time></li>\n",
       "\t<li><time datetime=\"2018-11-01\">2018-11-01</time></li>\n",
       "\t<li><time datetime=\"2018-12-01\">2018-12-01</time></li>\n",
       "\t<li><time datetime=\"2019-01-01\">2019-01-01</time></li>\n",
       "\t<li><time datetime=\"2019-02-01\">2019-02-01</time></li>\n",
       "\t<li><time datetime=\"2019-03-01\">2019-03-01</time></li>\n",
       "\t<li><time datetime=\"2019-04-01\">2019-04-01</time></li>\n",
       "\t<li><time datetime=\"2019-05-01\">2019-05-01</time></li>\n",
       "\t<li><time datetime=\"2019-06-01\">2019-06-01</time></li>\n",
       "\t<li><time datetime=\"2019-07-01\">2019-07-01</time></li>\n",
       "\t<li><time datetime=\"2019-08-01\">2019-08-01</time></li>\n",
       "\t<li><time datetime=\"2019-09-01\">2019-09-01</time></li>\n",
       "\t<li><time datetime=\"2019-10-01\">2019-10-01</time></li>\n",
       "\t<li><time datetime=\"2019-11-01\">2019-11-01</time></li>\n",
       "\t<li><time datetime=\"2019-12-01\">2019-12-01</time></li>\n",
       "\t<li><time datetime=\"2020-01-01\">2020-01-01</time></li>\n",
       "\t<li><time datetime=\"2020-02-01\">2020-02-01</time></li>\n",
       "\t<li><time datetime=\"2020-03-01\">2020-03-01</time></li>\n",
       "\t<li><time datetime=\"2020-04-01\">2020-04-01</time></li>\n",
       "\t<li><time datetime=\"2020-05-01\">2020-05-01</time></li>\n",
       "\t<li><time datetime=\"2020-06-01\">2020-06-01</time></li>\n",
       "\t<li><time datetime=\"2020-07-01\">2020-07-01</time></li>\n",
       "\t<li><time datetime=\"2020-08-01\">2020-08-01</time></li>\n",
       "\t<li><time datetime=\"2020-09-01\">2020-09-01</time></li>\n",
       "\t<li><time datetime=\"2020-10-01\">2020-10-01</time></li>\n",
       "\t<li><time datetime=\"2020-11-01\">2020-11-01</time></li>\n",
       "\t<li><time datetime=\"2020-12-01\">2020-12-01</time></li>\n",
       "\t<li><time datetime=\"2021-01-01\">2021-01-01</time></li>\n",
       "\t<li><time datetime=\"2021-02-01\">2021-02-01</time></li>\n",
       "\t<li><time datetime=\"2021-03-01\">2021-03-01</time></li>\n",
       "\t<li><time datetime=\"2021-04-01\">2021-04-01</time></li>\n",
       "\t<li><time datetime=\"2021-05-01\">2021-05-01</time></li>\n",
       "\t<li><time datetime=\"2021-06-01\">2021-06-01</time></li>\n",
       "\t<li><time datetime=\"2021-07-01\">2021-07-01</time></li>\n",
       "\t<li><time datetime=\"2021-08-01\">2021-08-01</time></li>\n",
       "\t<li><time datetime=\"2021-09-01\">2021-09-01</time></li>\n",
       "\t<li><time datetime=\"2021-10-01\">2021-10-01</time></li>\n",
       "\t<li><time datetime=\"2021-11-01\">2021-11-01</time></li>\n",
       "\t<li><time datetime=\"2021-12-01\">2021-12-01</time></li>\n",
       "\t<li><time datetime=\"2022-01-01\">2022-01-01</time></li>\n",
       "\t<li><time datetime=\"2022-02-01\">2022-02-01</time></li>\n",
       "</ol>\n"
      ],
      "text/latex": [
       "\\begin{enumerate*}\n",
       "\\item 2012-04-01\n",
       "\\item 2012-05-01\n",
       "\\item 2012-06-01\n",
       "\\item 2012-07-01\n",
       "\\item 2012-08-01\n",
       "\\item 2012-09-01\n",
       "\\item 2012-10-01\n",
       "\\item 2012-11-01\n",
       "\\item 2012-12-01\n",
       "\\item 2013-01-01\n",
       "\\item 2013-02-01\n",
       "\\item 2013-03-01\n",
       "\\item 2013-04-01\n",
       "\\item 2013-05-01\n",
       "\\item 2013-06-01\n",
       "\\item 2013-07-01\n",
       "\\item 2013-08-01\n",
       "\\item 2013-09-01\n",
       "\\item 2013-10-01\n",
       "\\item 2013-11-01\n",
       "\\item 2013-12-01\n",
       "\\item 2014-01-01\n",
       "\\item 2014-02-01\n",
       "\\item 2014-03-01\n",
       "\\item 2014-04-01\n",
       "\\item 2014-05-01\n",
       "\\item 2014-06-01\n",
       "\\item 2014-07-01\n",
       "\\item 2014-08-01\n",
       "\\item 2014-09-01\n",
       "\\item 2014-10-01\n",
       "\\item 2014-11-01\n",
       "\\item 2014-12-01\n",
       "\\item 2015-01-01\n",
       "\\item 2015-02-01\n",
       "\\item 2015-03-01\n",
       "\\item 2015-04-01\n",
       "\\item 2015-05-01\n",
       "\\item 2015-06-01\n",
       "\\item 2015-07-01\n",
       "\\item 2015-08-01\n",
       "\\item 2015-09-01\n",
       "\\item 2015-10-01\n",
       "\\item 2015-11-01\n",
       "\\item 2015-12-01\n",
       "\\item 2016-01-01\n",
       "\\item 2016-02-01\n",
       "\\item 2016-03-01\n",
       "\\item 2016-04-01\n",
       "\\item 2016-05-01\n",
       "\\item 2016-06-01\n",
       "\\item 2016-07-01\n",
       "\\item 2016-08-01\n",
       "\\item 2016-09-01\n",
       "\\item 2016-10-01\n",
       "\\item 2016-11-01\n",
       "\\item 2016-12-01\n",
       "\\item 2017-01-01\n",
       "\\item 2017-02-01\n",
       "\\item 2017-03-01\n",
       "\\item 2017-04-01\n",
       "\\item 2017-05-01\n",
       "\\item 2017-06-01\n",
       "\\item 2017-07-01\n",
       "\\item 2017-08-01\n",
       "\\item 2017-09-01\n",
       "\\item 2017-10-01\n",
       "\\item 2017-11-01\n",
       "\\item 2017-12-01\n",
       "\\item 2018-01-01\n",
       "\\item 2018-02-01\n",
       "\\item 2018-03-01\n",
       "\\item 2018-04-01\n",
       "\\item 2018-05-01\n",
       "\\item 2018-06-01\n",
       "\\item 2018-07-01\n",
       "\\item 2018-08-01\n",
       "\\item 2018-09-01\n",
       "\\item 2018-10-01\n",
       "\\item 2018-11-01\n",
       "\\item 2018-12-01\n",
       "\\item 2019-01-01\n",
       "\\item 2019-02-01\n",
       "\\item 2019-03-01\n",
       "\\item 2019-04-01\n",
       "\\item 2019-05-01\n",
       "\\item 2019-06-01\n",
       "\\item 2019-07-01\n",
       "\\item 2019-08-01\n",
       "\\item 2019-09-01\n",
       "\\item 2019-10-01\n",
       "\\item 2019-11-01\n",
       "\\item 2019-12-01\n",
       "\\item 2020-01-01\n",
       "\\item 2020-02-01\n",
       "\\item 2020-03-01\n",
       "\\item 2020-04-01\n",
       "\\item 2020-05-01\n",
       "\\item 2020-06-01\n",
       "\\item 2020-07-01\n",
       "\\item 2020-08-01\n",
       "\\item 2020-09-01\n",
       "\\item 2020-10-01\n",
       "\\item 2020-11-01\n",
       "\\item 2020-12-01\n",
       "\\item 2021-01-01\n",
       "\\item 2021-02-01\n",
       "\\item 2021-03-01\n",
       "\\item 2021-04-01\n",
       "\\item 2021-05-01\n",
       "\\item 2021-06-01\n",
       "\\item 2021-07-01\n",
       "\\item 2021-08-01\n",
       "\\item 2021-09-01\n",
       "\\item 2021-10-01\n",
       "\\item 2021-11-01\n",
       "\\item 2021-12-01\n",
       "\\item 2022-01-01\n",
       "\\item 2022-02-01\n",
       "\\end{enumerate*}\n"
      ],
      "text/markdown": [
       "1. 2012-04-01\n",
       "2. 2012-05-01\n",
       "3. 2012-06-01\n",
       "4. 2012-07-01\n",
       "5. 2012-08-01\n",
       "6. 2012-09-01\n",
       "7. 2012-10-01\n",
       "8. 2012-11-01\n",
       "9. 2012-12-01\n",
       "10. 2013-01-01\n",
       "11. 2013-02-01\n",
       "12. 2013-03-01\n",
       "13. 2013-04-01\n",
       "14. 2013-05-01\n",
       "15. 2013-06-01\n",
       "16. 2013-07-01\n",
       "17. 2013-08-01\n",
       "18. 2013-09-01\n",
       "19. 2013-10-01\n",
       "20. 2013-11-01\n",
       "21. 2013-12-01\n",
       "22. 2014-01-01\n",
       "23. 2014-02-01\n",
       "24. 2014-03-01\n",
       "25. 2014-04-01\n",
       "26. 2014-05-01\n",
       "27. 2014-06-01\n",
       "28. 2014-07-01\n",
       "29. 2014-08-01\n",
       "30. 2014-09-01\n",
       "31. 2014-10-01\n",
       "32. 2014-11-01\n",
       "33. 2014-12-01\n",
       "34. 2015-01-01\n",
       "35. 2015-02-01\n",
       "36. 2015-03-01\n",
       "37. 2015-04-01\n",
       "38. 2015-05-01\n",
       "39. 2015-06-01\n",
       "40. 2015-07-01\n",
       "41. 2015-08-01\n",
       "42. 2015-09-01\n",
       "43. 2015-10-01\n",
       "44. 2015-11-01\n",
       "45. 2015-12-01\n",
       "46. 2016-01-01\n",
       "47. 2016-02-01\n",
       "48. 2016-03-01\n",
       "49. 2016-04-01\n",
       "50. 2016-05-01\n",
       "51. 2016-06-01\n",
       "52. 2016-07-01\n",
       "53. 2016-08-01\n",
       "54. 2016-09-01\n",
       "55. 2016-10-01\n",
       "56. 2016-11-01\n",
       "57. 2016-12-01\n",
       "58. 2017-01-01\n",
       "59. 2017-02-01\n",
       "60. 2017-03-01\n",
       "61. 2017-04-01\n",
       "62. 2017-05-01\n",
       "63. 2017-06-01\n",
       "64. 2017-07-01\n",
       "65. 2017-08-01\n",
       "66. 2017-09-01\n",
       "67. 2017-10-01\n",
       "68. 2017-11-01\n",
       "69. 2017-12-01\n",
       "70. 2018-01-01\n",
       "71. 2018-02-01\n",
       "72. 2018-03-01\n",
       "73. 2018-04-01\n",
       "74. 2018-05-01\n",
       "75. 2018-06-01\n",
       "76. 2018-07-01\n",
       "77. 2018-08-01\n",
       "78. 2018-09-01\n",
       "79. 2018-10-01\n",
       "80. 2018-11-01\n",
       "81. 2018-12-01\n",
       "82. 2019-01-01\n",
       "83. 2019-02-01\n",
       "84. 2019-03-01\n",
       "85. 2019-04-01\n",
       "86. 2019-05-01\n",
       "87. 2019-06-01\n",
       "88. 2019-07-01\n",
       "89. 2019-08-01\n",
       "90. 2019-09-01\n",
       "91. 2019-10-01\n",
       "92. 2019-11-01\n",
       "93. 2019-12-01\n",
       "94. 2020-01-01\n",
       "95. 2020-02-01\n",
       "96. 2020-03-01\n",
       "97. 2020-04-01\n",
       "98. 2020-05-01\n",
       "99. 2020-06-01\n",
       "100. 2020-07-01\n",
       "101. 2020-08-01\n",
       "102. 2020-09-01\n",
       "103. 2020-10-01\n",
       "104. 2020-11-01\n",
       "105. 2020-12-01\n",
       "106. 2021-01-01\n",
       "107. 2021-02-01\n",
       "108. 2021-03-01\n",
       "109. 2021-04-01\n",
       "110. 2021-05-01\n",
       "111. 2021-06-01\n",
       "112. 2021-07-01\n",
       "113. 2021-08-01\n",
       "114. 2021-09-01\n",
       "115. 2021-10-01\n",
       "116. 2021-11-01\n",
       "117. 2021-12-01\n",
       "118. 2022-01-01\n",
       "119. 2022-02-01\n",
       "\n",
       "\n"
      ],
      "text/plain": [
       "  [1] \"2012-04-01\" \"2012-05-01\" \"2012-06-01\" \"2012-07-01\" \"2012-08-01\"\n",
       "  [6] \"2012-09-01\" \"2012-10-01\" \"2012-11-01\" \"2012-12-01\" \"2013-01-01\"\n",
       " [11] \"2013-02-01\" \"2013-03-01\" \"2013-04-01\" \"2013-05-01\" \"2013-06-01\"\n",
       " [16] \"2013-07-01\" \"2013-08-01\" \"2013-09-01\" \"2013-10-01\" \"2013-11-01\"\n",
       " [21] \"2013-12-01\" \"2014-01-01\" \"2014-02-01\" \"2014-03-01\" \"2014-04-01\"\n",
       " [26] \"2014-05-01\" \"2014-06-01\" \"2014-07-01\" \"2014-08-01\" \"2014-09-01\"\n",
       " [31] \"2014-10-01\" \"2014-11-01\" \"2014-12-01\" \"2015-01-01\" \"2015-02-01\"\n",
       " [36] \"2015-03-01\" \"2015-04-01\" \"2015-05-01\" \"2015-06-01\" \"2015-07-01\"\n",
       " [41] \"2015-08-01\" \"2015-09-01\" \"2015-10-01\" \"2015-11-01\" \"2015-12-01\"\n",
       " [46] \"2016-01-01\" \"2016-02-01\" \"2016-03-01\" \"2016-04-01\" \"2016-05-01\"\n",
       " [51] \"2016-06-01\" \"2016-07-01\" \"2016-08-01\" \"2016-09-01\" \"2016-10-01\"\n",
       " [56] \"2016-11-01\" \"2016-12-01\" \"2017-01-01\" \"2017-02-01\" \"2017-03-01\"\n",
       " [61] \"2017-04-01\" \"2017-05-01\" \"2017-06-01\" \"2017-07-01\" \"2017-08-01\"\n",
       " [66] \"2017-09-01\" \"2017-10-01\" \"2017-11-01\" \"2017-12-01\" \"2018-01-01\"\n",
       " [71] \"2018-02-01\" \"2018-03-01\" \"2018-04-01\" \"2018-05-01\" \"2018-06-01\"\n",
       " [76] \"2018-07-01\" \"2018-08-01\" \"2018-09-01\" \"2018-10-01\" \"2018-11-01\"\n",
       " [81] \"2018-12-01\" \"2019-01-01\" \"2019-02-01\" \"2019-03-01\" \"2019-04-01\"\n",
       " [86] \"2019-05-01\" \"2019-06-01\" \"2019-07-01\" \"2019-08-01\" \"2019-09-01\"\n",
       " [91] \"2019-10-01\" \"2019-11-01\" \"2019-12-01\" \"2020-01-01\" \"2020-02-01\"\n",
       " [96] \"2020-03-01\" \"2020-04-01\" \"2020-05-01\" \"2020-06-01\" \"2020-07-01\"\n",
       "[101] \"2020-08-01\" \"2020-09-01\" \"2020-10-01\" \"2020-11-01\" \"2020-12-01\"\n",
       "[106] \"2021-01-01\" \"2021-02-01\" \"2021-03-01\" \"2021-04-01\" \"2021-05-01\"\n",
       "[111] \"2021-06-01\" \"2021-07-01\" \"2021-08-01\" \"2021-09-01\" \"2021-10-01\"\n",
       "[116] \"2021-11-01\" \"2021-12-01\" \"2022-01-01\" \"2022-02-01\""
      ]
     },
     "metadata": {},
     "output_type": "display_data"
    },
    {
     "name": "stdout",
     "output_type": "stream",
     "text": [
      " Date[1:119], format: \"2012-04-01\" \"2012-05-01\" \"2012-06-01\" \"2012-07-01\" \"2012-08-01\" ...\n"
     ]
    }
   ],
   "source": [
    "ymd(auto$Date)\n",
    "str(auto$Date)"
   ]
  },
  {
   "cell_type": "markdown",
   "id": "25ca092e",
   "metadata": {},
   "source": [
    "### 2.2 Preparation of Google Trends Search Data (\"Sahibinden Satılık Araba\")"
   ]
  },
  {
   "cell_type": "code",
   "execution_count": 91,
   "id": "155dd346",
   "metadata": {
    "scrolled": false
   },
   "outputs": [
    {
     "name": "stdout",
     "output_type": "stream",
     "text": [
      "'data.frame':\t122 obs. of  2 variables:\n",
      " $ Search_Rate: Factor w/ 58 levels \"100\",\"13\",\"14\",..: 58 33 21 8 2 2 5 6 5 2 ...\n",
      " $ Date       : chr  \"Month\" \"2012-01\" \"2012-02\" \"2012-03\" ...\n",
      "'data.frame':\t121 obs. of  3 variables:\n",
      " $ Search_Rate: num  33 21 8 2 2 5 6 5 2 3 ...\n",
      " $ Date       : Date, format: \"2012-01-01\" \"2012-02-01\" ...\n",
      " $ Month      : num  1 2 3 4 5 6 7 8 9 10 ...\n"
     ]
    },
    {
     "data": {
      "text/html": [
       "<table>\n",
       "<thead><tr><th></th><th scope=col>Search_Rate</th><th scope=col>Date</th><th scope=col>Month</th></tr></thead>\n",
       "<tbody>\n",
       "\t<tr><th scope=row>2012-01</th><td>33        </td><td>2012-01-01</td><td> 1        </td></tr>\n",
       "\t<tr><th scope=row>2012-02</th><td>21        </td><td>2012-02-01</td><td> 2        </td></tr>\n",
       "\t<tr><th scope=row>2012-03</th><td> 8        </td><td>2012-03-01</td><td> 3        </td></tr>\n",
       "\t<tr><th scope=row>2012-04</th><td> 2        </td><td>2012-04-01</td><td> 4        </td></tr>\n",
       "\t<tr><th scope=row>2012-05</th><td> 2        </td><td>2012-05-01</td><td> 5        </td></tr>\n",
       "\t<tr><th scope=row>2012-06</th><td> 5        </td><td>2012-06-01</td><td> 6        </td></tr>\n",
       "\t<tr><th scope=row>2012-07</th><td> 6        </td><td>2012-07-01</td><td> 7        </td></tr>\n",
       "\t<tr><th scope=row>2012-08</th><td> 5        </td><td>2012-08-01</td><td> 8        </td></tr>\n",
       "\t<tr><th scope=row>2012-09</th><td> 2        </td><td>2012-09-01</td><td> 9        </td></tr>\n",
       "\t<tr><th scope=row>2012-10</th><td> 3        </td><td>2012-10-01</td><td>10        </td></tr>\n",
       "\t<tr><th scope=row>2012-11</th><td> 4        </td><td>2012-11-01</td><td>11        </td></tr>\n",
       "\t<tr><th scope=row>2012-12</th><td> 3        </td><td>2012-12-01</td><td>12        </td></tr>\n",
       "\t<tr><th scope=row>2013-01</th><td> 2        </td><td>2013-01-01</td><td> 1        </td></tr>\n",
       "\t<tr><th scope=row>2013-02</th><td> 3        </td><td>2013-02-01</td><td> 2        </td></tr>\n",
       "\t<tr><th scope=row>2013-03</th><td> 3        </td><td>2013-03-01</td><td> 3        </td></tr>\n",
       "\t<tr><th scope=row>2013-04</th><td> 9        </td><td>2013-04-01</td><td> 4        </td></tr>\n",
       "\t<tr><th scope=row>2013-05</th><td> 5        </td><td>2013-05-01</td><td> 5        </td></tr>\n",
       "\t<tr><th scope=row>2013-06</th><td> 2        </td><td>2013-06-01</td><td> 6        </td></tr>\n",
       "\t<tr><th scope=row>2013-07</th><td> 8        </td><td>2013-07-01</td><td> 7        </td></tr>\n",
       "\t<tr><th scope=row>2013-08</th><td> 9        </td><td>2013-08-01</td><td> 8        </td></tr>\n",
       "</tbody>\n",
       "</table>\n"
      ],
      "text/latex": [
       "\\begin{tabular}{r|lll}\n",
       "  & Search\\_Rate & Date & Month\\\\\n",
       "\\hline\n",
       "\t2012-01 & 33         & 2012-01-01 &  1        \\\\\n",
       "\t2012-02 & 21         & 2012-02-01 &  2        \\\\\n",
       "\t2012-03 &  8         & 2012-03-01 &  3        \\\\\n",
       "\t2012-04 &  2         & 2012-04-01 &  4        \\\\\n",
       "\t2012-05 &  2         & 2012-05-01 &  5        \\\\\n",
       "\t2012-06 &  5         & 2012-06-01 &  6        \\\\\n",
       "\t2012-07 &  6         & 2012-07-01 &  7        \\\\\n",
       "\t2012-08 &  5         & 2012-08-01 &  8        \\\\\n",
       "\t2012-09 &  2         & 2012-09-01 &  9        \\\\\n",
       "\t2012-10 &  3         & 2012-10-01 & 10        \\\\\n",
       "\t2012-11 &  4         & 2012-11-01 & 11        \\\\\n",
       "\t2012-12 &  3         & 2012-12-01 & 12        \\\\\n",
       "\t2013-01 &  2         & 2013-01-01 &  1        \\\\\n",
       "\t2013-02 &  3         & 2013-02-01 &  2        \\\\\n",
       "\t2013-03 &  3         & 2013-03-01 &  3        \\\\\n",
       "\t2013-04 &  9         & 2013-04-01 &  4        \\\\\n",
       "\t2013-05 &  5         & 2013-05-01 &  5        \\\\\n",
       "\t2013-06 &  2         & 2013-06-01 &  6        \\\\\n",
       "\t2013-07 &  8         & 2013-07-01 &  7        \\\\\n",
       "\t2013-08 &  9         & 2013-08-01 &  8        \\\\\n",
       "\\end{tabular}\n"
      ],
      "text/markdown": [
       "\n",
       "| <!--/--> | Search_Rate | Date | Month |\n",
       "|---|---|---|---|\n",
       "| 2012-01 | 33         | 2012-01-01 |  1         |\n",
       "| 2012-02 | 21         | 2012-02-01 |  2         |\n",
       "| 2012-03 |  8         | 2012-03-01 |  3         |\n",
       "| 2012-04 |  2         | 2012-04-01 |  4         |\n",
       "| 2012-05 |  2         | 2012-05-01 |  5         |\n",
       "| 2012-06 |  5         | 2012-06-01 |  6         |\n",
       "| 2012-07 |  6         | 2012-07-01 |  7         |\n",
       "| 2012-08 |  5         | 2012-08-01 |  8         |\n",
       "| 2012-09 |  2         | 2012-09-01 |  9         |\n",
       "| 2012-10 |  3         | 2012-10-01 | 10         |\n",
       "| 2012-11 |  4         | 2012-11-01 | 11         |\n",
       "| 2012-12 |  3         | 2012-12-01 | 12         |\n",
       "| 2013-01 |  2         | 2013-01-01 |  1         |\n",
       "| 2013-02 |  3         | 2013-02-01 |  2         |\n",
       "| 2013-03 |  3         | 2013-03-01 |  3         |\n",
       "| 2013-04 |  9         | 2013-04-01 |  4         |\n",
       "| 2013-05 |  5         | 2013-05-01 |  5         |\n",
       "| 2013-06 |  2         | 2013-06-01 |  6         |\n",
       "| 2013-07 |  8         | 2013-07-01 |  7         |\n",
       "| 2013-08 |  9         | 2013-08-01 |  8         |\n",
       "\n"
      ],
      "text/plain": [
       "        Search_Rate Date       Month\n",
       "2012-01 33          2012-01-01  1   \n",
       "2012-02 21          2012-02-01  2   \n",
       "2012-03  8          2012-03-01  3   \n",
       "2012-04  2          2012-04-01  4   \n",
       "2012-05  2          2012-05-01  5   \n",
       "2012-06  5          2012-06-01  6   \n",
       "2012-07  6          2012-07-01  7   \n",
       "2012-08  5          2012-08-01  8   \n",
       "2012-09  2          2012-09-01  9   \n",
       "2012-10  3          2012-10-01 10   \n",
       "2012-11  4          2012-11-01 11   \n",
       "2012-12  3          2012-12-01 12   \n",
       "2013-01  2          2013-01-01  1   \n",
       "2013-02  3          2013-02-01  2   \n",
       "2013-03  3          2013-03-01  3   \n",
       "2013-04  9          2013-04-01  4   \n",
       "2013-05  5          2013-05-01  5   \n",
       "2013-06  2          2013-06-01  6   \n",
       "2013-07  8          2013-07-01  7   \n",
       "2013-08  9          2013-08-01  8   "
      ]
     },
     "metadata": {},
     "output_type": "display_data"
    }
   ],
   "source": [
    "#Google Trends Data Preparation\n",
    "\n",
    "araba= read.csv(\"trends_search.csv\",sep = \",\")\n",
    "colnames(araba) = c('Search_Rate')\n",
    "araba$Date = rownames(araba)\n",
    "str(araba)\n",
    "araba = araba[complete.cases(araba),]\n",
    "araba = araba[-1,]\n",
    "\n",
    "araba = araba%>% mutate(Date=as.Date(as.yearmon(Date)))\n",
    "araba$Month = month(araba$Date)\n",
    "\n",
    "araba$Search_Rate = as.numeric(araba$Search_Rate)\n",
    "str(araba)\n",
    "head(araba, 20)\n",
    "#Cleaning the Data by removing the irrelevant entries and converting the columns structure into proper forms to be able to operate with them."
   ]
  },
  {
   "cell_type": "markdown",
   "id": "e5e95a59",
   "metadata": {},
   "source": [
    "### 2.3 Preparation of Dollar/TL Exchange Rate Data"
   ]
  },
  {
   "cell_type": "code",
   "execution_count": 5,
   "id": "2d72ee0c",
   "metadata": {},
   "outputs": [
    {
     "name": "stderr",
     "output_type": "stream",
     "text": [
      "New names:\n",
      "* `` -> ...3\n"
     ]
    },
    {
     "data": {
      "text/html": [
       "<ol class=list-inline>\n",
       "\t<li>'Tarih'</li>\n",
       "\t<li>'TP DK USD A YTL'</li>\n",
       "\t<li>'...3'</li>\n",
       "</ol>\n"
      ],
      "text/latex": [
       "\\begin{enumerate*}\n",
       "\\item 'Tarih'\n",
       "\\item 'TP DK USD A YTL'\n",
       "\\item '...3'\n",
       "\\end{enumerate*}\n"
      ],
      "text/markdown": [
       "1. 'Tarih'\n",
       "2. 'TP DK USD A YTL'\n",
       "3. '...3'\n",
       "\n",
       "\n"
      ],
      "text/plain": [
       "[1] \"Tarih\"           \"TP DK USD A YTL\" \"...3\"           "
      ]
     },
     "metadata": {},
     "output_type": "display_data"
    },
    {
     "data": {
      "text/html": [
       "<table>\n",
       "<thead><tr><th scope=col>Date</th><th scope=col>Dolar_TL</th></tr></thead>\n",
       "<tbody>\n",
       "\t<tr><td>2012-04        </td><td>1.77984        </td></tr>\n",
       "\t<tr><td>2012-05        </td><td>1.7969545454545</td></tr>\n",
       "\t<tr><td>2012-06        </td><td>1.8160714285714</td></tr>\n",
       "\t<tr><td>2012-07        </td><td>1.8048863636364</td></tr>\n",
       "\t<tr><td>2012-08        </td><td>1.78584        </td></tr>\n",
       "\t<tr><td>2012-09        </td><td>1.79563        </td></tr>\n",
       "</tbody>\n",
       "</table>\n"
      ],
      "text/latex": [
       "\\begin{tabular}{r|ll}\n",
       " Date & Dolar\\_TL\\\\\n",
       "\\hline\n",
       "\t 2012-04         & 1.77984        \\\\\n",
       "\t 2012-05         & 1.7969545454545\\\\\n",
       "\t 2012-06         & 1.8160714285714\\\\\n",
       "\t 2012-07         & 1.8048863636364\\\\\n",
       "\t 2012-08         & 1.78584        \\\\\n",
       "\t 2012-09         & 1.79563        \\\\\n",
       "\\end{tabular}\n"
      ],
      "text/markdown": [
       "\n",
       "| Date | Dolar_TL |\n",
       "|---|---|\n",
       "| 2012-04         | 1.77984         |\n",
       "| 2012-05         | 1.7969545454545 |\n",
       "| 2012-06         | 1.8160714285714 |\n",
       "| 2012-07         | 1.8048863636364 |\n",
       "| 2012-08         | 1.78584         |\n",
       "| 2012-09         | 1.79563         |\n",
       "\n"
      ],
      "text/plain": [
       "  Date    Dolar_TL       \n",
       "1 2012-04 1.77984        \n",
       "2 2012-05 1.7969545454545\n",
       "3 2012-06 1.8160714285714\n",
       "4 2012-07 1.8048863636364\n",
       "5 2012-08 1.78584        \n",
       "6 2012-09 1.79563        "
      ]
     },
     "metadata": {},
     "output_type": "display_data"
    },
    {
     "data": {
      "text/html": [
       "<table>\n",
       "<thead><tr><th scope=col>Date</th><th scope=col>Dolar_TL</th><th scope=col>Month</th></tr></thead>\n",
       "<tbody>\n",
       "\t<tr><td>2021-09-01</td><td> 8.511882 </td><td> 9        </td></tr>\n",
       "\t<tr><td>2021-10-01</td><td> 9.139945 </td><td>10        </td></tr>\n",
       "\t<tr><td>2021-11-01</td><td>10.523264 </td><td>11        </td></tr>\n",
       "\t<tr><td>2021-12-01</td><td>13.528496 </td><td>12        </td></tr>\n",
       "\t<tr><td>2022-01-01</td><td>13.519262 </td><td> 1        </td></tr>\n",
       "\t<tr><td>2022-02-01</td><td>13.621125 </td><td> 2        </td></tr>\n",
       "</tbody>\n",
       "</table>\n"
      ],
      "text/latex": [
       "\\begin{tabular}{r|lll}\n",
       " Date & Dolar\\_TL & Month\\\\\n",
       "\\hline\n",
       "\t 2021-09-01 &  8.511882  &  9        \\\\\n",
       "\t 2021-10-01 &  9.139945  & 10        \\\\\n",
       "\t 2021-11-01 & 10.523264  & 11        \\\\\n",
       "\t 2021-12-01 & 13.528496  & 12        \\\\\n",
       "\t 2022-01-01 & 13.519262  &  1        \\\\\n",
       "\t 2022-02-01 & 13.621125  &  2        \\\\\n",
       "\\end{tabular}\n"
      ],
      "text/markdown": [
       "\n",
       "| Date | Dolar_TL | Month |\n",
       "|---|---|---|\n",
       "| 2021-09-01 |  8.511882  |  9         |\n",
       "| 2021-10-01 |  9.139945  | 10         |\n",
       "| 2021-11-01 | 10.523264  | 11         |\n",
       "| 2021-12-01 | 13.528496  | 12         |\n",
       "| 2022-01-01 | 13.519262  |  1         |\n",
       "| 2022-02-01 | 13.621125  |  2         |\n",
       "\n"
      ],
      "text/plain": [
       "  Date       Dolar_TL  Month\n",
       "1 2021-09-01  8.511882  9   \n",
       "2 2021-10-01  9.139945 10   \n",
       "3 2021-11-01 10.523264 11   \n",
       "4 2021-12-01 13.528496 12   \n",
       "5 2022-01-01 13.519262  1   \n",
       "6 2022-02-01 13.621125  2   "
      ]
     },
     "metadata": {},
     "output_type": "display_data"
    },
    {
     "name": "stdout",
     "output_type": "stream",
     "text": [
      "tibble [119 x 3] (S3: tbl_df/tbl/data.frame)\n",
      " $ Date    : IDate[1:119], format: \"2012-04-01\" \"2012-05-01\" ...\n",
      " $ Dolar_TL: num [1:119] 1.78 1.8 1.82 1.8 1.79 ...\n",
      " $ Month   : num [1:119] 4 5 6 7 8 9 10 11 12 1 ...\n"
     ]
    }
   ],
   "source": [
    "#Dollar/TL Exchange Rate Data Preparation\n",
    "\n",
    "exchange = read_excel(\"C://Users//akbas//Desktop//IE360//Homework 01//dolar_tl.xlsx\")\n",
    "names(exchange)\n",
    "colnames(exchange) = c('Date', 'Dolar_TL', 'drop')\n",
    "# We want our data from three different category to have the same corresponding dates\n",
    "# We want to delete the irrelevant rows and columns\n",
    "exchange = subset(exchange, select = -c(drop))\n",
    "exchange = exchange[-c(120:129),]\n",
    "head(exchange)\n",
    "exchange = exchange[complete.cases(exchange),]\n",
    "exchange = exchange%>% mutate(Date= as.Date(as.yearmon(Date)))\n",
    "exchange$Date = as.IDate(exchange$Date)\n",
    "exchange$Month=month(exchange$Date)\n",
    "exchange$Dolar_TL = as.numeric(exchange$Dolar_TL)\n",
    "tail(exchange)\n",
    "str(exchange)"
   ]
  },
  {
   "cell_type": "markdown",
   "id": "077b6b63",
   "metadata": {},
   "source": [
    "### 2.4 Preparation of Tourist Data"
   ]
  },
  {
   "cell_type": "code",
   "execution_count": 6,
   "id": "a71aed05",
   "metadata": {},
   "outputs": [
    {
     "name": "stderr",
     "output_type": "stream",
     "text": [
      "New names:\n",
      "* `` -> ...3\n"
     ]
    },
    {
     "data": {
      "text/html": [
       "<ol class=list-inline>\n",
       "\t<li>'Tarih'</li>\n",
       "\t<li>'TP URISTSAYIL TOPLAM'</li>\n",
       "\t<li>'...3'</li>\n",
       "</ol>\n"
      ],
      "text/latex": [
       "\\begin{enumerate*}\n",
       "\\item 'Tarih'\n",
       "\\item 'TP URISTSAYIL TOPLAM'\n",
       "\\item '...3'\n",
       "\\end{enumerate*}\n"
      ],
      "text/markdown": [
       "1. 'Tarih'\n",
       "2. 'TP URISTSAYIL TOPLAM'\n",
       "3. '...3'\n",
       "\n",
       "\n"
      ],
      "text/plain": [
       "[1] \"Tarih\"                \"TP URISTSAYIL TOPLAM\" \"...3\"                "
      ]
     },
     "metadata": {},
     "output_type": "display_data"
    },
    {
     "data": {
      "text/html": [
       "<table>\n",
       "<thead><tr><th scope=col>Date</th><th scope=col>Tourist_Amount</th><th scope=col>drop</th></tr></thead>\n",
       "<tbody>\n",
       "\t<tr><td>Notlar                                        </td><td>NA                                            </td><td>NA                                            </td></tr>\n",
       "\t<tr><td>TP.URISTSAYIL.TOPLAM                          </td><td>Uygulama Degisiklik Linki                     </td><td>http://www.tuik.gov.tr/PreTablo.do?alt_id=1072</td></tr>\n",
       "\t<tr><td>NA                                            </td><td>Veri Kaynagi                                  </td><td>T.C. KÜLTÜR VE TURIZM BAKANLIGI               </td></tr>\n",
       "\t<tr><td>NA                                            </td><td>Veri Yayinlama Takvim Linki                   </td><td>http://www.tuik.gov.tr/takvim/tkvim.zul#tb2   </td></tr>\n",
       "\t<tr><td>NA                                            </td><td>Metaveri Linki                                </td><td>http://www.tuik.gov.tr/PreTablo.do?alt_id=1072</td></tr>\n",
       "\t<tr><td>NA                                            </td><td>Revizyon Politika Linki                       </td><td>http://www.tuik.gov.tr/PreTablo.do?alt_id=1072</td></tr>\n",
       "</tbody>\n",
       "</table>\n"
      ],
      "text/latex": [
       "\\begin{tabular}{r|lll}\n",
       " Date & Tourist\\_Amount & drop\\\\\n",
       "\\hline\n",
       "\t Notlar                                         & NA                                             & NA                                            \\\\\n",
       "\t TP.URISTSAYIL.TOPLAM                             & Uygulama Degisiklik Linki                        & http://www.tuik.gov.tr/PreTablo.do?alt\\_id=1072\\\\\n",
       "\t NA                                             & Veri Kaynagi                                   & T.C. KÜLTÜR VE TURIZM BAKANLIGI               \\\\\n",
       "\t NA                                               & Veri Yayinlama Takvim Linki                      & http://www.tuik.gov.tr/takvim/tkvim.zul\\#tb2   \\\\\n",
       "\t NA                                               & Metaveri Linki                                   & http://www.tuik.gov.tr/PreTablo.do?alt\\_id=1072\\\\\n",
       "\t NA                                               & Revizyon Politika Linki                          & http://www.tuik.gov.tr/PreTablo.do?alt\\_id=1072\\\\\n",
       "\\end{tabular}\n"
      ],
      "text/markdown": [
       "\n",
       "| Date | Tourist_Amount | drop |\n",
       "|---|---|---|\n",
       "| Notlar                                         | NA                                             | NA                                             |\n",
       "| TP.URISTSAYIL.TOPLAM                           | Uygulama Degisiklik Linki                      | http://www.tuik.gov.tr/PreTablo.do?alt_id=1072 |\n",
       "| NA                                             | Veri Kaynagi                                   | T.C. KÜLTÜR VE TURIZM BAKANLIGI                |\n",
       "| NA                                             | Veri Yayinlama Takvim Linki                    | http://www.tuik.gov.tr/takvim/tkvim.zul#tb2    |\n",
       "| NA                                             | Metaveri Linki                                 | http://www.tuik.gov.tr/PreTablo.do?alt_id=1072 |\n",
       "| NA                                             | Revizyon Politika Linki                        | http://www.tuik.gov.tr/PreTablo.do?alt_id=1072 |\n",
       "\n"
      ],
      "text/plain": [
       "  Date                 Tourist_Amount             \n",
       "1 Notlar               NA                         \n",
       "2 TP.URISTSAYIL.TOPLAM Uygulama Degisiklik Linki  \n",
       "3 NA                   Veri Kaynagi               \n",
       "4 NA                   Veri Yayinlama Takvim Linki\n",
       "5 NA                   Metaveri Linki             \n",
       "6 NA                   Revizyon Politika Linki    \n",
       "  drop                                          \n",
       "1 NA                                            \n",
       "2 http://www.tuik.gov.tr/PreTablo.do?alt_id=1072\n",
       "3 T.C. KÜLTÜR VE TURIZM BAKANLIGI               \n",
       "4 http://www.tuik.gov.tr/takvim/tkvim.zul#tb2   \n",
       "5 http://www.tuik.gov.tr/PreTablo.do?alt_id=1072\n",
       "6 http://www.tuik.gov.tr/PreTablo.do?alt_id=1072"
      ]
     },
     "metadata": {},
     "output_type": "display_data"
    },
    {
     "name": "stdout",
     "output_type": "stream",
     "text": [
      "tibble [119 x 2] (S3: tbl_df/tbl/data.frame)\n",
      " $ Date          : chr [1:119] \"2012-04\" \"2012-05\" \"2012-06\" \"2012-07\" ...\n",
      " $ Tourist_Amount: chr [1:119] \"2168715\" \"3232926\" \"3882592\" \"4571389\" ...\n"
     ]
    },
    {
     "data": {
      "text/html": [
       "<table>\n",
       "<thead><tr><th scope=col>Date</th><th scope=col>Tourist_Amount</th><th scope=col>Month</th></tr></thead>\n",
       "<tbody>\n",
       "\t<tr><td>2012-04-01</td><td>2168715   </td><td>4         </td></tr>\n",
       "\t<tr><td>2012-05-01</td><td>3232926   </td><td>5         </td></tr>\n",
       "\t<tr><td>2012-06-01</td><td>3882592   </td><td>6         </td></tr>\n",
       "\t<tr><td>2012-07-01</td><td>4571389   </td><td>7         </td></tr>\n",
       "\t<tr><td>2012-08-01</td><td>4470202   </td><td>8         </td></tr>\n",
       "\t<tr><td>2012-09-01</td><td>3991415   </td><td>9         </td></tr>\n",
       "</tbody>\n",
       "</table>\n"
      ],
      "text/latex": [
       "\\begin{tabular}{r|lll}\n",
       " Date & Tourist\\_Amount & Month\\\\\n",
       "\\hline\n",
       "\t 2012-04-01 & 2168715    & 4         \\\\\n",
       "\t 2012-05-01 & 3232926    & 5         \\\\\n",
       "\t 2012-06-01 & 3882592    & 6         \\\\\n",
       "\t 2012-07-01 & 4571389    & 7         \\\\\n",
       "\t 2012-08-01 & 4470202    & 8         \\\\\n",
       "\t 2012-09-01 & 3991415    & 9         \\\\\n",
       "\\end{tabular}\n"
      ],
      "text/markdown": [
       "\n",
       "| Date | Tourist_Amount | Month |\n",
       "|---|---|---|\n",
       "| 2012-04-01 | 2168715    | 4          |\n",
       "| 2012-05-01 | 3232926    | 5          |\n",
       "| 2012-06-01 | 3882592    | 6          |\n",
       "| 2012-07-01 | 4571389    | 7          |\n",
       "| 2012-08-01 | 4470202    | 8          |\n",
       "| 2012-09-01 | 3991415    | 9          |\n",
       "\n"
      ],
      "text/plain": [
       "  Date       Tourist_Amount Month\n",
       "1 2012-04-01 2168715        4    \n",
       "2 2012-05-01 3232926        5    \n",
       "3 2012-06-01 3882592        6    \n",
       "4 2012-07-01 4571389        7    \n",
       "5 2012-08-01 4470202        8    \n",
       "6 2012-09-01 3991415        9    "
      ]
     },
     "metadata": {},
     "output_type": "display_data"
    },
    {
     "name": "stdout",
     "output_type": "stream",
     "text": [
      "tibble [119 x 3] (S3: tbl_df/tbl/data.frame)\n",
      " $ Date          : IDate[1:119], format: \"2012-04-01\" \"2012-05-01\" ...\n",
      " $ Tourist_Amount: num [1:119] 2168715 3232926 3882592 4571389 4470202 ...\n",
      " $ Month         : num [1:119] 4 5 6 7 8 9 10 11 12 1 ...\n"
     ]
    }
   ],
   "source": [
    "#Tourist Visiting Turkey Data Preparation\n",
    "\n",
    "tourist = read_excel(\"C://Users//akbas//Desktop//IE360//Homework 01//tourist.xlsx\")\n",
    "names(tourist)\n",
    "colnames(tourist) = c('Date', 'Tourist_Amount', 'drop')\n",
    "tail(tourist)\n",
    "#removing irrelevant text inputs\n",
    "tourist = subset(tourist, select = -c(drop))\n",
    "tourist = tourist[-c(120:130),]\n",
    "tourist = tourist[complete.cases(tourist),]\n",
    "str(tourist)\n",
    "tourist = tourist%>% mutate( Date= as.Date(as.yearmon(Date)))\n",
    "tourist$Date = as.IDate(tourist$Date)\n",
    "tourist$Month = month(tourist$Date)\n",
    "tourist$'Tourist_Amount' = as.numeric(tourist$'Tourist_Amount')\n",
    "head(tourist)\n",
    "str(tourist)"
   ]
  },
  {
   "cell_type": "markdown",
   "id": "0698df76",
   "metadata": {},
   "source": [
    "## 3. Data Visualization"
   ]
  },
  {
   "cell_type": "markdown",
   "id": "c54e5484",
   "metadata": {},
   "source": [
    "### 3.1 Plots for Production Amounts fo Automobile in Turkey"
   ]
  },
  {
   "cell_type": "code",
   "execution_count": 45,
   "id": "81a9e634",
   "metadata": {},
   "outputs": [
    {
     "data": {
      "image/png": "[encoded data removed]",
      "text/plain": [
       "plot without title"
      ]
     },
     "metadata": {},
     "output_type": "display_data"
    }
   ],
   "source": [
    "ggplot(auto, aes(x=Date, y=Car_Production_Amount)) +geom_line(color='blue') + labs(x=\"Year\",y=\"Car Production Amount\",\n",
    "       title=\"Yearly Car Production over the Years between 2012-2022\")\n"
   ]
  },
  {
   "cell_type": "code",
   "execution_count": 8,
   "id": "e56fe70e",
   "metadata": {},
   "outputs": [
    {
     "data": {
      "image/png": "[encoded data removed]",
      "text/plain": [
       "plot without title"
      ]
     },
     "metadata": {},
     "output_type": "display_data"
    }
   ],
   "source": [
    "#ggplot(auto, aes(x=Date, y=Car_Production_Amount)) +geom_boxplot(color=\"red\")\n",
    "ggplot(auto,aes(x=factor(year(Date)), y=Car_Production_Amount))+\n",
    "  geom_boxplot(aes(fill=factor(year(Date))))+\n",
    "  theme(legend.position = \"none\")+\n",
    "  labs(x=\"Year\",y=\"Car Production Amount\",\n",
    "       title=\"Yearly Car Production Boxplot between 2012-2022\")+\n",
    "  scale_fill_viridis_d()"
   ]
  },
  {
   "cell_type": "markdown",
   "id": "5ed34c42",
   "metadata": {},
   "source": [
    "## In Boxplot analysis, we can see the trend going upwards in total production until 2017. After 2017, we observe a downward trend overall."
   ]
  },
  {
   "cell_type": "code",
   "execution_count": 9,
   "id": "578346c1",
   "metadata": {},
   "outputs": [
    {
     "data": {
      "image/png": "[encoded data removed]",
      "text/plain": [
       "plot without title"
      ]
     },
     "metadata": {},
     "output_type": "display_data"
    }
   ],
   "source": [
    "ggplot(auto,aes(x=Month,y=Car_Production_Amount))+ geom_bar(stat='identity')+ \n",
    "  facet_wrap(~year(Date))+\n",
    "  theme(legend.position = \"none\",\n",
    "        axis.ticks.x = element_blank(),\n",
    "        axis.text.x = element_blank())+\n",
    "  xlab(\"Years\") + ylab(\"Production Amount\")+ ggtitle(\"Car Production Amount in Turkey from 2006 to 2018\")"
   ]
  },
  {
   "cell_type": "markdown",
   "id": "3bef849a",
   "metadata": {},
   "source": [
    "## As it can be clearly seen, in summer season, there are drastic decreases in the car production amounts throughout the decade. \n"
   ]
  },
  {
   "cell_type": "markdown",
   "id": "dea1ff56",
   "metadata": {},
   "source": [
    "### 3.2 \"Sahibinden Satılık Araba\" Search Visualization"
   ]
  },
  {
   "cell_type": "code",
   "execution_count": 70,
   "id": "3056b092",
   "metadata": {},
   "outputs": [
    {
     "data": {
      "image/png": "[encoded data removed]",
      "text/plain": [
       "plot without title"
      ]
     },
     "metadata": {},
     "output_type": "display_data"
    }
   ],
   "source": [
    "ggplot(araba,aes(x=Month, y=Search_Rate))+\n",
    "  geom_boxplot(aes(x=factor(year(Date)),y= Search_Rate, fill= factor(year(Date))))+\n",
    "  theme(legend.position = \"none\")+\n",
    "  labs(x=\"Year\",y=\"Search Volume of 'Sahibinden Satılık Araba'\",\n",
    "       title=\"Search Volume of 'Sahibinden Satılık Araba' over the Years\")"
   ]
  },
  {
   "cell_type": "markdown",
   "id": "3750ec24",
   "metadata": {},
   "source": [
    "## In the boxplot, we observe that the search numbers and the trends in terms of years are compatible with the result we found from the boxplot of Car Production Amounts. Therefore, we can say that there is a correlation between them."
   ]
  },
  {
   "cell_type": "code",
   "execution_count": 11,
   "id": "d2dd8fb7",
   "metadata": {},
   "outputs": [
    {
     "data": {
      "image/png": "[encoded data removed]",
      "text/plain": [
       "plot without title"
      ]
     },
     "metadata": {},
     "output_type": "display_data"
    }
   ],
   "source": [
    "ggplot(araba,aes(x=Month,y=Search_Rate))+\n",
    "geom_bar(stat='identity', aes(fill=factor(year(Date))),color=\"white\")+ \n",
    "  facet_wrap(~year(Date))+\n",
    "  theme(legend.position = \"none\",\n",
    "        axis.ticks.x = element_blank(),\n",
    "        axis.text.x = element_blank())+\n",
    "  xlab(\"Years\") + ylab(\"Search Rate\")+ ggtitle(\"Search Volume of 'Sahibinden Satılık Araba' over the Years\")"
   ]
  },
  {
   "cell_type": "markdown",
   "id": "6d5faffb",
   "metadata": {},
   "source": [
    "### 3.3 Number of Tourists Visiting Turkey Over the Years Plots"
   ]
  },
  {
   "cell_type": "code",
   "execution_count": 12,
   "id": "6d1c3bd1",
   "metadata": {},
   "outputs": [
    {
     "data": {
      "image/png": "[encoded data removed]",
      "text/plain": [
       "plot without title"
      ]
     },
     "metadata": {},
     "output_type": "display_data"
    }
   ],
   "source": [
    "ggplot(tourist, aes(x=Date, y=Tourist_Amount)) + geom_line(color='orange') + labs(x=\"Year\",y=\"Number of Tourists Came to Turkey\",\n",
    "       title=\"Yearly Tourist Number over the Years between 2012-2022\")"
   ]
  },
  {
   "cell_type": "code",
   "execution_count": 13,
   "id": "c2fa1a05",
   "metadata": {},
   "outputs": [
    {
     "data": {
      "image/png": "[encoded data removed]",
      "text/plain": [
       "plot without title"
      ]
     },
     "metadata": {},
     "output_type": "display_data"
    }
   ],
   "source": [
    "ggplot(tourist,aes(x=factor(year(Date)), y=Tourist_Amount))+\n",
    "  geom_boxplot(aes(fill=factor(year(Date))))+\n",
    "  theme(legend.position = \"none\")+\n",
    "  labs(x=\"Year\",y=\"Tourist Amount\",\n",
    "       title=\"Yearly Tourist Visiting Turkey Boxplot between 2012-2022\")+\n",
    "  scale_fill_viridis_d()"
   ]
  },
  {
   "cell_type": "markdown",
   "id": "16ddb262",
   "metadata": {},
   "source": [
    "## Here we do not see a trend until 2015, and between 2015 and 2019 (up until pandemic) there is a positive trend. Since, we only have January and February info for 2022, its IQR is too small. "
   ]
  },
  {
   "cell_type": "code",
   "execution_count": 14,
   "id": "f80269a5",
   "metadata": {},
   "outputs": [
    {
     "data": {
      "image/png": "[encoded data removed]",
      "text/plain": [
       "plot without title"
      ]
     },
     "metadata": {},
     "output_type": "display_data"
    }
   ],
   "source": [
    "ggplot(tourist,aes(x=Month,y=Tourist_Amount))+\n",
    "geom_bar(stat='identity', aes(fill=Month),color=\"yellow\")+ \n",
    "  facet_wrap(~year(Date))+\n",
    "  theme(legend.position = \"none\",\n",
    "        axis.ticks.x = element_blank(),\n",
    "        axis.text.x = element_blank())+\n",
    "  xlab(\"Years\") + ylab(\"Tourist Number\")+ ggtitle(\"Tourist Number Visiting Turkey from 2012 to 2022\")\n"
   ]
  },
  {
   "cell_type": "markdown",
   "id": "f85d4f69",
   "metadata": {},
   "source": [
    "##  From this plot, we see a seasonality which occurs in the form of an increase in summers."
   ]
  },
  {
   "cell_type": "markdown",
   "id": "7a409010",
   "metadata": {},
   "source": [
    "### Plots for the Dollar/TL Exchange Rate Over the Years "
   ]
  },
  {
   "cell_type": "code",
   "execution_count": 15,
   "id": "61a64d89",
   "metadata": {},
   "outputs": [
    {
     "data": {
      "image/png": "[encoded data removed]",
      "text/plain": [
       "plot without title"
      ]
     },
     "metadata": {},
     "output_type": "display_data"
    }
   ],
   "source": [
    "ggplot(exchange, aes(x=Date, y=Dolar_TL)) + geom_line(color='red') + labs(x=\"Year\",y=\"Dolar/TL\",\n",
    "       title=\"Yearly Dolar/TL Exchange Rate(Buying) over the Years between 2012-2022\")"
   ]
  },
  {
   "cell_type": "code",
   "execution_count": 135,
   "id": "a0e13174",
   "metadata": {},
   "outputs": [
    {
     "data": {
      "image/png": "[encoded data removed]",
      "text/plain": [
       "plot without title"
      ]
     },
     "metadata": {},
     "output_type": "display_data"
    }
   ],
   "source": [
    "ggplot(exchange,aes(x=factor(year(Date)), y=Dolar_TL))+\n",
    "  geom_boxplot(aes(fill=factor(year(Date))))+\n",
    "  theme(legend.position = \"none\")+\n",
    "  labs(x=\"Year\",y=\"Yearly Exchange Rates\",\n",
    "       title=\"Yearly Exchange Rates of Regions over the Years between 2012-2022\")+\n",
    "  scale_fill_viridis_d()"
   ]
  },
  {
   "cell_type": "markdown",
   "id": "f8a502bf",
   "metadata": {},
   "source": [
    "## We see a general increasing trend besides the info about the volatility of the Turkish currency. In 2018, 2020 and 2021, Turkish Lira oscillated in a very large range, therefore inter quantile ranges for these years are larger than others."
   ]
  },
  {
   "cell_type": "code",
   "execution_count": 16,
   "id": "dec5586b",
   "metadata": {},
   "outputs": [
    {
     "data": {
      "image/png": "[encoded data removed]",
      "text/plain": [
       "plot without title"
      ]
     },
     "metadata": {},
     "output_type": "display_data"
    }
   ],
   "source": [
    "ggplot(exchange,aes(x=Month,y=Dolar_TL))+\n",
    "geom_bar(stat='identity', aes(fill=Month),color=\"white\")+ \n",
    "  facet_wrap(~year(Date))+\n",
    "  theme(legend.position = \"none\",\n",
    "        axis.ticks.x = element_blank(),\n",
    "        axis.text.x = element_blank())+\n",
    "  xlab(\"Years\") + ylab(\"Exchange Rate\")+ ggtitle(\"Dolar/TL from 2012 to 2022\")"
   ]
  },
  {
   "cell_type": "markdown",
   "id": "b143abe6",
   "metadata": {},
   "source": [
    "## A non-decreasing trend is best observed in the bar plot."
   ]
  },
  {
   "cell_type": "code",
   "execution_count": 94,
   "id": "6c2b34c4",
   "metadata": {},
   "outputs": [
    {
     "data": {
      "text/html": [
       "<table>\n",
       "<thead><tr><th></th><th scope=col>Search_Rate</th><th scope=col>Date</th><th scope=col>Month</th></tr></thead>\n",
       "<tbody>\n",
       "\t<tr><th scope=row>2012-01</th><td>33        </td><td>2012-01-01</td><td>1         </td></tr>\n",
       "\t<tr><th scope=row>2012-02</th><td>21        </td><td>2012-02-01</td><td>2         </td></tr>\n",
       "\t<tr><th scope=row>2012-03</th><td> 8        </td><td>2012-03-01</td><td>3         </td></tr>\n",
       "\t<tr><th scope=row>2012-04</th><td> 2        </td><td>2012-04-01</td><td>4         </td></tr>\n",
       "\t<tr><th scope=row>2012-05</th><td> 2        </td><td>2012-05-01</td><td>5         </td></tr>\n",
       "\t<tr><th scope=row>2012-06</th><td> 5        </td><td>2012-06-01</td><td>6         </td></tr>\n",
       "</tbody>\n",
       "</table>\n"
      ],
      "text/latex": [
       "\\begin{tabular}{r|lll}\n",
       "  & Search\\_Rate & Date & Month\\\\\n",
       "\\hline\n",
       "\t2012-01 & 33         & 2012-01-01 & 1         \\\\\n",
       "\t2012-02 & 21         & 2012-02-01 & 2         \\\\\n",
       "\t2012-03 &  8         & 2012-03-01 & 3         \\\\\n",
       "\t2012-04 &  2         & 2012-04-01 & 4         \\\\\n",
       "\t2012-05 &  2         & 2012-05-01 & 5         \\\\\n",
       "\t2012-06 &  5         & 2012-06-01 & 6         \\\\\n",
       "\\end{tabular}\n"
      ],
      "text/markdown": [
       "\n",
       "| <!--/--> | Search_Rate | Date | Month |\n",
       "|---|---|---|---|\n",
       "| 2012-01 | 33         | 2012-01-01 | 1          |\n",
       "| 2012-02 | 21         | 2012-02-01 | 2          |\n",
       "| 2012-03 |  8         | 2012-03-01 | 3          |\n",
       "| 2012-04 |  2         | 2012-04-01 | 4          |\n",
       "| 2012-05 |  2         | 2012-05-01 | 5          |\n",
       "| 2012-06 |  5         | 2012-06-01 | 6          |\n",
       "\n"
      ],
      "text/plain": [
       "        Search_Rate Date       Month\n",
       "2012-01 33          2012-01-01 1    \n",
       "2012-02 21          2012-02-01 2    \n",
       "2012-03  8          2012-03-01 3    \n",
       "2012-04  2          2012-04-01 4    \n",
       "2012-05  2          2012-05-01 5    \n",
       "2012-06  5          2012-06-01 6    "
      ]
     },
     "metadata": {},
     "output_type": "display_data"
    },
    {
     "name": "stdout",
     "output_type": "stream",
     "text": [
      "'data.frame':\t121 obs. of  3 variables:\n",
      " $ Search_Rate: num  33 21 8 2 2 5 6 5 2 3 ...\n",
      " $ Date       : Date, format: \"2012-01-01\" \"2012-02-01\" ...\n",
      " $ Month      : num  1 2 3 4 5 6 7 8 9 10 ...\n"
     ]
    }
   ],
   "source": [
    "head(araba)\n",
    "str(araba)"
   ]
  },
  {
   "cell_type": "code",
   "execution_count": 95,
   "id": "02db8505",
   "metadata": {},
   "outputs": [
    {
     "data": {
      "text/html": [
       "0.132302033132372"
      ],
      "text/latex": [
       "0.132302033132372"
      ],
      "text/markdown": [
       "0.132302033132372"
      ],
      "text/plain": [
       "[1] 0.132302"
      ]
     },
     "metadata": {},
     "output_type": "display_data"
    },
    {
     "data": {
      "text/html": [
       "-0.210113655569171"
      ],
      "text/latex": [
       "-0.210113655569171"
      ],
      "text/markdown": [
       "-0.210113655569171"
      ],
      "text/plain": [
       "[1] -0.2101137"
      ]
     },
     "metadata": {},
     "output_type": "display_data"
    },
    {
     "data": {
      "text/html": [
       "-0.130566990046278"
      ],
      "text/latex": [
       "-0.130566990046278"
      ],
      "text/markdown": [
       "-0.130566990046278"
      ],
      "text/plain": [
       "[1] -0.130567"
      ]
     },
     "metadata": {},
     "output_type": "display_data"
    },
    {
     "data": {
      "text/html": [
       "<table>\n",
       "<thead><tr><th></th><th scope=col>Search_Rate</th><th scope=col>Date</th><th scope=col>Month</th></tr></thead>\n",
       "<tbody>\n",
       "\t<tr><th scope=row>2012-01</th><td>33        </td><td>2012-01-01</td><td>1         </td></tr>\n",
       "\t<tr><th scope=row>2012-02</th><td>21        </td><td>2012-02-01</td><td>2         </td></tr>\n",
       "\t<tr><th scope=row>2012-03</th><td> 8        </td><td>2012-03-01</td><td>3         </td></tr>\n",
       "\t<tr><th scope=row>2012-04</th><td> 2        </td><td>2012-04-01</td><td>4         </td></tr>\n",
       "\t<tr><th scope=row>2012-05</th><td> 2        </td><td>2012-05-01</td><td>5         </td></tr>\n",
       "\t<tr><th scope=row>2012-06</th><td> 5        </td><td>2012-06-01</td><td>6         </td></tr>\n",
       "</tbody>\n",
       "</table>\n"
      ],
      "text/latex": [
       "\\begin{tabular}{r|lll}\n",
       "  & Search\\_Rate & Date & Month\\\\\n",
       "\\hline\n",
       "\t2012-01 & 33         & 2012-01-01 & 1         \\\\\n",
       "\t2012-02 & 21         & 2012-02-01 & 2         \\\\\n",
       "\t2012-03 &  8         & 2012-03-01 & 3         \\\\\n",
       "\t2012-04 &  2         & 2012-04-01 & 4         \\\\\n",
       "\t2012-05 &  2         & 2012-05-01 & 5         \\\\\n",
       "\t2012-06 &  5         & 2012-06-01 & 6         \\\\\n",
       "\\end{tabular}\n"
      ],
      "text/markdown": [
       "\n",
       "| <!--/--> | Search_Rate | Date | Month |\n",
       "|---|---|---|---|\n",
       "| 2012-01 | 33         | 2012-01-01 | 1          |\n",
       "| 2012-02 | 21         | 2012-02-01 | 2          |\n",
       "| 2012-03 |  8         | 2012-03-01 | 3          |\n",
       "| 2012-04 |  2         | 2012-04-01 | 4          |\n",
       "| 2012-05 |  2         | 2012-05-01 | 5          |\n",
       "| 2012-06 |  5         | 2012-06-01 | 6          |\n",
       "\n"
      ],
      "text/plain": [
       "        Search_Rate Date       Month\n",
       "2012-01 33          2012-01-01 1    \n",
       "2012-02 21          2012-02-01 2    \n",
       "2012-03  8          2012-03-01 3    \n",
       "2012-04  2          2012-04-01 4    \n",
       "2012-05  2          2012-05-01 5    \n",
       "2012-06  5          2012-06-01 6    "
      ]
     },
     "metadata": {},
     "output_type": "display_data"
    },
    {
     "data": {
      "text/html": [
       "0.540875294491984"
      ],
      "text/latex": [
       "0.540875294491984"
      ],
      "text/markdown": [
       "0.540875294491984"
      ],
      "text/plain": [
       "[1] 0.5408753"
      ]
     },
     "metadata": {},
     "output_type": "display_data"
    }
   ],
   "source": [
    "cor(exchange$Dolar_TL, auto$Car_Production_Amount)\n",
    "cor(exchange$Dolar_TL, tourist$Tourist_Amount)\n",
    "cor(auto$Car_Production_Amount, tourist$Tourist_Amount)\n",
    "head(araba)\n",
    "# In order to keep the lengths equal, a tiny manipulation on \"araba\" is done.\n",
    "araba = araba[-c(1:2),]\n",
    "cor(auto$Car_Production_Amount, araba$Search_Rate)\n"
   ]
  },
  {
   "cell_type": "markdown",
   "id": "f9b69231",
   "metadata": {},
   "source": [
    "### We see the correlations between the exchange rate, car production, tourist amount and the search for car sales."
   ]
  },
  {
   "cell_type": "markdown",
   "id": "92fdcda3",
   "metadata": {},
   "source": [
    "#####  Data Preparation for Correlation Data"
   ]
  },
  {
   "cell_type": "code",
   "execution_count": 98,
   "id": "7741e8b0",
   "metadata": {},
   "outputs": [
    {
     "data": {
      "text/html": [
       "<table>\n",
       "<thead><tr><th scope=col>Date</th><th scope=col>TP URISTSAYIL TOPLAM</th><th scope=col>TP DK USD A YTL</th><th scope=col>TP UR S08</th></tr></thead>\n",
       "<tbody>\n",
       "\t<tr><td>TP.UR.S08                                                                                             </td><td>Methodological Changes                                                                                </td><td>http://www.turkstat.gov.tr/PreTablo.do?alt_id=124                                                     </td><td>NA                                                                                                    </td></tr>\n",
       "\t<tr><td>NA                                                                                                    </td><td>Datasource                                                                                            </td><td>AUTOMOTIVE INDUSTRY ASSOCIATION                                                                       </td><td>NA                                                                                                    </td></tr>\n",
       "\t<tr><td>NA                                                                                                    </td><td>Data Release Calendar                                                                                 </td><td>http://www.tuik.gov.tr/takvim/tkvim.zul#tb1                                                           </td><td>NA                                                                                                    </td></tr>\n",
       "\t<tr><td>NA                                                                                                    </td><td>Metadata Link                                                                                         </td><td>http://vi.sanayi.gov.tr/productivitystatistics/Files/MetadataQuarterlyProductivityStatistics(21-1).pdf</td><td>NA                                                                                                    </td></tr>\n",
       "\t<tr><td>NA                                                                                                    </td><td>Revision Politicy                                                                                     </td><td>http://www.turkstat.gov.tr/PreTablo.do?alt_id=124                                                     </td><td>NA                                                                                                    </td></tr>\n",
       "\t<tr><td>NA                                                                                                    </td><td>Tags                                                                                                  </td><td>Total, Cars, Production                                                                               </td><td>NA                                                                                                    </td></tr>\n",
       "</tbody>\n",
       "</table>\n"
      ],
      "text/latex": [
       "\\begin{tabular}{r|llll}\n",
       " Date & TP URISTSAYIL TOPLAM & TP DK USD A YTL & TP UR S08\\\\\n",
       "\\hline\n",
       "\t TP.UR.S08                                                                                                & Methodological Changes                                                                                   & http://www.turkstat.gov.tr/PreTablo.do?alt\\_id=124                                                      & NA                                                                                                      \\\\\n",
       "\t NA                                                                                                     & Datasource                                                                                             & AUTOMOTIVE INDUSTRY ASSOCIATION                                                                        & NA                                                                                                    \\\\\n",
       "\t NA                                                                                                       & Data Release Calendar                                                                                    & http://www.tuik.gov.tr/takvim/tkvim.zul\\#tb1                                                            & NA                                                                                                      \\\\\n",
       "\t NA                                                                                                     & Metadata Link                                                                                          & http://vi.sanayi.gov.tr/productivitystatistics/Files/MetadataQuarterlyProductivityStatistics(21-1).pdf & NA                                                                                                    \\\\\n",
       "\t NA                                                                                                       & Revision Politicy                                                                                        & http://www.turkstat.gov.tr/PreTablo.do?alt\\_id=124                                                      & NA                                                                                                      \\\\\n",
       "\t NA                                                                                                     & Tags                                                                                                   & Total, Cars, Production                                                                                & NA                                                                                                    \\\\\n",
       "\\end{tabular}\n"
      ],
      "text/markdown": [
       "\n",
       "| Date | TP URISTSAYIL TOPLAM | TP DK USD A YTL | TP UR S08 |\n",
       "|---|---|---|---|\n",
       "| TP.UR.S08                                                                                              | Methodological Changes                                                                                 | http://www.turkstat.gov.tr/PreTablo.do?alt_id=124                                                      | NA                                                                                                     |\n",
       "| NA                                                                                                     | Datasource                                                                                             | AUTOMOTIVE INDUSTRY ASSOCIATION                                                                        | NA                                                                                                     |\n",
       "| NA                                                                                                     | Data Release Calendar                                                                                  | http://www.tuik.gov.tr/takvim/tkvim.zul#tb1                                                            | NA                                                                                                     |\n",
       "| NA                                                                                                     | Metadata Link                                                                                          | http://vi.sanayi.gov.tr/productivitystatistics/Files/MetadataQuarterlyProductivityStatistics(21-1).pdf | NA                                                                                                     |\n",
       "| NA                                                                                                     | Revision Politicy                                                                                      | http://www.turkstat.gov.tr/PreTablo.do?alt_id=124                                                      | NA                                                                                                     |\n",
       "| NA                                                                                                     | Tags                                                                                                   | Total, Cars, Production                                                                                | NA                                                                                                     |\n",
       "\n"
      ],
      "text/plain": [
       "  Date      TP URISTSAYIL TOPLAM  \n",
       "1 TP.UR.S08 Methodological Changes\n",
       "2 NA        Datasource            \n",
       "3 NA        Data Release Calendar \n",
       "4 NA        Metadata Link         \n",
       "5 NA        Revision Politicy     \n",
       "6 NA        Tags                  \n",
       "  TP DK USD A YTL                                                                                       \n",
       "1 http://www.turkstat.gov.tr/PreTablo.do?alt_id=124                                                     \n",
       "2 AUTOMOTIVE INDUSTRY ASSOCIATION                                                                       \n",
       "3 http://www.tuik.gov.tr/takvim/tkvim.zul#tb1                                                           \n",
       "4 http://vi.sanayi.gov.tr/productivitystatistics/Files/MetadataQuarterlyProductivityStatistics(21-1).pdf\n",
       "5 http://www.turkstat.gov.tr/PreTablo.do?alt_id=124                                                     \n",
       "6 Total, Cars, Production                                                                               \n",
       "  TP UR S08\n",
       "1 NA       \n",
       "2 NA       \n",
       "3 NA       \n",
       "4 NA       \n",
       "5 NA       \n",
       "6 NA       "
      ]
     },
     "metadata": {},
     "output_type": "display_data"
    }
   ],
   "source": [
    "corr_data = read_excel(\"C://Users//akbas//Desktop//IE360//Homework 01//all_in_one.xlsx\")\n",
    "tail(corr_data)"
   ]
  },
  {
   "cell_type": "code",
   "execution_count": 99,
   "id": "6e6e80a8",
   "metadata": {},
   "outputs": [
    {
     "name": "stdout",
     "output_type": "stream",
     "text": [
      "tibble [119 x 4] (S3: tbl_df/tbl/data.frame)\n",
      " $ Date          : chr [1:119] \"2012-04\" \"2012-05\" \"2012-06\" \"2012-07\" ...\n",
      " $ tourist       : chr [1:119] \"2168715\" \"3232926\" \"3882592\" \"4571389\" ...\n",
      " $ exchange_rate : chr [1:119] \"1.77984\" \"1.7969545454545\" \"1.8160714285714\" \"1.8048863636364\" ...\n",
      " $ car_production: num [1:119] 48800 55662 49982 43819 21157 ...\n"
     ]
    },
    {
     "data": {
      "text/html": [
       "<table>\n",
       "<thead><tr><th scope=col>Date</th><th scope=col>tourist</th><th scope=col>exchange_rate</th><th scope=col>car_production</th><th scope=col>Month</th><th scope=col>Search</th></tr></thead>\n",
       "<tbody>\n",
       "\t<tr><td>2012-04-01</td><td>2168715   </td><td>1.779840  </td><td>48800     </td><td>4         </td><td>8         </td></tr>\n",
       "\t<tr><td>2012-05-01</td><td>3232926   </td><td>1.796955  </td><td>55662     </td><td>5         </td><td>2         </td></tr>\n",
       "\t<tr><td>2012-06-01</td><td>3882592   </td><td>1.816071  </td><td>49982     </td><td>6         </td><td>2         </td></tr>\n",
       "\t<tr><td>2012-07-01</td><td>4571389   </td><td>1.804886  </td><td>43819     </td><td>7         </td><td>5         </td></tr>\n",
       "\t<tr><td>2012-08-01</td><td>4470202   </td><td>1.785840  </td><td>21157     </td><td>8         </td><td>6         </td></tr>\n",
       "\t<tr><td>2012-09-01</td><td>3991415   </td><td>1.795630  </td><td>54295     </td><td>9         </td><td>5         </td></tr>\n",
       "</tbody>\n",
       "</table>\n"
      ],
      "text/latex": [
       "\\begin{tabular}{r|llllll}\n",
       " Date & tourist & exchange\\_rate & car\\_production & Month & Search\\\\\n",
       "\\hline\n",
       "\t 2012-04-01 & 2168715    & 1.779840   & 48800      & 4          & 8         \\\\\n",
       "\t 2012-05-01 & 3232926    & 1.796955   & 55662      & 5          & 2         \\\\\n",
       "\t 2012-06-01 & 3882592    & 1.816071   & 49982      & 6          & 2         \\\\\n",
       "\t 2012-07-01 & 4571389    & 1.804886   & 43819      & 7          & 5         \\\\\n",
       "\t 2012-08-01 & 4470202    & 1.785840   & 21157      & 8          & 6         \\\\\n",
       "\t 2012-09-01 & 3991415    & 1.795630   & 54295      & 9          & 5         \\\\\n",
       "\\end{tabular}\n"
      ],
      "text/markdown": [
       "\n",
       "| Date | tourist | exchange_rate | car_production | Month | Search |\n",
       "|---|---|---|---|---|---|\n",
       "| 2012-04-01 | 2168715    | 1.779840   | 48800      | 4          | 8          |\n",
       "| 2012-05-01 | 3232926    | 1.796955   | 55662      | 5          | 2          |\n",
       "| 2012-06-01 | 3882592    | 1.816071   | 49982      | 6          | 2          |\n",
       "| 2012-07-01 | 4571389    | 1.804886   | 43819      | 7          | 5          |\n",
       "| 2012-08-01 | 4470202    | 1.785840   | 21157      | 8          | 6          |\n",
       "| 2012-09-01 | 3991415    | 1.795630   | 54295      | 9          | 5          |\n",
       "\n"
      ],
      "text/plain": [
       "  Date       tourist exchange_rate car_production Month Search\n",
       "1 2012-04-01 2168715 1.779840      48800          4     8     \n",
       "2 2012-05-01 3232926 1.796955      55662          5     2     \n",
       "3 2012-06-01 3882592 1.816071      49982          6     2     \n",
       "4 2012-07-01 4571389 1.804886      43819          7     5     \n",
       "5 2012-08-01 4470202 1.785840      21157          8     6     \n",
       "6 2012-09-01 3991415 1.795630      54295          9     5     "
      ]
     },
     "metadata": {},
     "output_type": "display_data"
    },
    {
     "name": "stdout",
     "output_type": "stream",
     "text": [
      "tibble [119 x 6] (S3: tbl_df/tbl/data.frame)\n",
      " $ Date          : Date[1:119], format: \"2012-04-01\" \"2012-05-01\" ...\n",
      " $ tourist       : num [1:119] 2168715 3232926 3882592 4571389 4470202 ...\n",
      " $ exchange_rate : num [1:119] 1.78 1.8 1.82 1.8 1.79 ...\n",
      " $ car_production: num [1:119] 48800 55662 49982 43819 21157 ...\n",
      " $ Month         : num [1:119] 4 5 6 7 8 9 10 11 12 1 ...\n",
      " $ Search        : num [1:119] 8 2 2 5 6 5 2 3 4 3 ...\n"
     ]
    }
   ],
   "source": [
    "colnames(corr_data) = c('Date', 'tourist', 'exchange_rate', 'car_production')\n",
    "corr_data = corr_data[complete.cases(corr_data),]\n",
    "corr_data = corr_data[-c(121:141),]\n",
    "str(corr_data)\n",
    "corr_data$Date = as.Date(as.yearmon(corr_data$Date))\n",
    "corr_data$tourist = as.numeric(corr_data$tourist)\n",
    "corr_data$exchange_rate = as.numeric(corr_data$exchange_rate)\n",
    "corr_data$car_production = as.numeric(corr_data$car_production)\n",
    "corr_data$Month = month(corr_data$Date)\n",
    "corr_data$Search = araba$Search_Rate\n",
    "head(corr_data)\n",
    "str(corr_data)"
   ]
  },
  {
   "cell_type": "code",
   "execution_count": 100,
   "id": "80c362fe",
   "metadata": {},
   "outputs": [
    {
     "data": {
      "image/png": "[encoded data removed]",
      "text/plain": [
       "plot without title"
      ]
     },
     "metadata": {},
     "output_type": "display_data"
    }
   ],
   "source": [
    "ggpairs(corr_data)"
   ]
  },
  {
   "cell_type": "markdown",
   "id": "9f1bb309",
   "metadata": {},
   "source": [
    "## There is not a remarkable correlation in overall. Only the correlation between the car production rate and the search rate for \"Sahibinden Satılık Araba\" is nearly 0.54."
   ]
  }
 ],
 "metadata": {
  "kernelspec": {
   "display_name": "R",
   "language": "R",
   "name": "ir"
  },
  "language_info": {
   "codemirror_mode": "r",
   "file_extension": ".r",
   "mimetype": "text/x-r-source",
   "name": "R",
   "pygments_lexer": "r",
   "version": "3.6.1"
  }
 },
 "nbformat": 4,
 "nbformat_minor": 5
}
